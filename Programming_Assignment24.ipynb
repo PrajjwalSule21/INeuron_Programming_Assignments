{
 "cells": [
  {
   "cell_type": "markdown",
   "metadata": {},
   "source": [
    "## 1.Create a function that takes an integer and returns a list from 1 to the given number, where:\n",
    "1.If the number can be divided evenly by 4, amplify it by 10 (i.e. return 10 times the number).  \n",
    "2.If the number cannot be divided evenly by 4, simply return the number. \n",
    "\n",
    "**Examples:**  \n",
    "`amplify(4) ➞ [1, 2, 3, 40]`  \n",
    "`amplify(3) ➞ [1, 2, 3]`  \n",
    "`amplify(25) ➞ [1, 2, 3, 40, 5, 6, 7, 80, 9, 10, 11, 120, 13, 14, 15, 160, 17, 18, 19, 200, 21, 22, 23, 240, 25]`\n",
    "\n",
    "**Notes:**  \n",
    "    1.The given integer will always be equal to or greater than 1.  \n",
    "    2.Include the number (see example above).  \n",
    "    3.To perform this problem with its intended purpose, try doing it with list"
   ]
  },
  {
   "cell_type": "code",
   "execution_count": 1,
   "metadata": {},
   "outputs": [],
   "source": [
    "def amplify(num):\n",
    "    \"\"\"\n",
    "    This function is takes an integer and returns a list from 1 to the given number with some conditions.\n",
    "    \n",
    "    It will take one argument -> num\n",
    "    num = num as a integer.\n",
    "    \n",
    "    Output: It will return a list where all the conditions are satisfied.\n",
    "    \"\"\"\n",
    "    ouput_lst = []\n",
    "    for i in range(1,num+1):\n",
    "        if i%4 == 0:\n",
    "            ouput_lst.append(i*10)\n",
    "        else:\n",
    "            ouput_lst.append(i)\n",
    "    return f'amplify{num} --> {ouput_lst}'\n",
    "            "
   ]
  },
  {
   "cell_type": "code",
   "execution_count": 2,
   "metadata": {},
   "outputs": [
    {
     "name": "stdout",
     "output_type": "stream",
     "text": [
      "amplify4 --> [1, 2, 3, 40]\n",
      "amplify3 --> [1, 2, 3]\n",
      "amplify25 --> [1, 2, 3, 40, 5, 6, 7, 80, 9, 10, 11, 120, 13, 14, 15, 160, 17, 18, 19, 200, 21, 22, 23, 240, 25]\n"
     ]
    }
   ],
   "source": [
    "print(amplify(4))\n",
    "print(amplify(3))\n",
    "print(amplify(25))"
   ]
  },
  {
   "cell_type": "markdown",
   "metadata": {},
   "source": [
    "## 2.Create a function that takes a list of numbers and return the number that's unique.\n",
    "**Examples:**  \n",
    "`unique([3, 3, 3, 7, 3, 3]) ➞ 7`  \n",
    "`unique([0, 0, 0.77, 0, 0]) ➞ 0.77`  \n",
    "`unique([0, 1, 1, 1, 1, 1, 1, 1]) ➞ 0`  \n",
    "\n",
    "**Notes:**  \n",
    "Test cases will always have exactly one unique number while all others are the same."
   ]
  },
  {
   "cell_type": "code",
   "execution_count": 3,
   "metadata": {},
   "outputs": [],
   "source": [
    "def unique(lst):\n",
    "    \"\"\"\n",
    "    This function is takes takes a list of numbers and return the number that's unique.\n",
    "    \n",
    "    It will take one argument -> lst\n",
    "    lst = lst as a list of integers.\n",
    "    \n",
    "    Output: It will return a Unique things from given list.\n",
    "    \"\"\"\n",
    "    output = ''\n",
    "    for i in set(lst):\n",
    "        if lst.count(i) == 1:\n",
    "            output = i\n",
    "    return f'unique({lst}) --> {output}'"
   ]
  },
  {
   "cell_type": "code",
   "execution_count": 4,
   "metadata": {},
   "outputs": [
    {
     "name": "stdout",
     "output_type": "stream",
     "text": [
      "unique([3, 3, 3, 7, 3, 3]) --> 7\n",
      "unique([0, 0, 0.77, 0, 0]) --> 0.77\n"
     ]
    }
   ],
   "source": [
    "print(unique([3, 3, 3, 7, 3, 3]))\n",
    "print(unique([0, 0, 0.77, 0, 0]))"
   ]
  },
  {
   "cell_type": "markdown",
   "metadata": {},
   "source": [
    "## 3.Your task is to create a Circle constructor that creates a circle with a radius provided by an argument. The circles constructed must have two getters `getArea() (PIr^2)` and `getPerimeter() (2PI*r)` which give both respective areas and perimeter (circumference). For help with this class, I have provided you with a Rectangle constructor which you can use as a base example ?\n",
    "**Examples:**  \n",
    "`circy = Circle(11)`   \n",
    "`circy.getArea()`  \n",
    "    # Should return 380.132711084365\n",
    "`circy = Circle(4.44)`  \n",
    "`circy.getPerimeter()`  \n",
    "    # Should return 27.897342763877365\n",
    "\n",
    "**Notes:**  \n",
    "Round results up to the nearest integer."
   ]
  },
  {
   "cell_type": "code",
   "execution_count": 5,
   "metadata": {},
   "outputs": [],
   "source": [
    "import math\n",
    "\n",
    "class Circle:\n",
    "    \"\"\"\n",
    "    This is a circle class.\n",
    "    \n",
    "    It will take one argument -> radius\n",
    "    radius = radius as a class variable.\n",
    "    \"\"\"\n",
    "    def __init__(self, radius):\n",
    "        self.radius = radius\n",
    "        \n",
    "    def getArea(self):\n",
    "        return f'Radius --> {math.pi*self.radius*self.radius}'\n",
    "    \n",
    "    def getPerimeter(self):\n",
    "        return f'Perimeter --> {2*math.pi*self.radius}'"
   ]
  },
  {
   "cell_type": "code",
   "execution_count": 6,
   "metadata": {},
   "outputs": [
    {
     "name": "stdout",
     "output_type": "stream",
     "text": [
      "Radius --> 380.1327110843649\n",
      "Perimeter --> 27.897342763877365\n"
     ]
    }
   ],
   "source": [
    "circy = Circle(11)\n",
    "print(circy.getArea())\n",
    "\n",
    "circy = Circle(4.44)\n",
    "print(circy.getPerimeter())"
   ]
  },
  {
   "cell_type": "markdown",
   "metadata": {},
   "source": [
    "## 4.Create a function that takes a list of strings and return a list, sorted from shortest to longest.\n",
    "**Examples:**  \n",
    "`sort_by_length([\"Google\", \"Apple\", \"Microsoft\"])`  \n",
    "`➞ [\"Apple\", \"Google\", \"Microsoft\"]`  \n",
    "`sort_by_length([\"Leonardo\", \"Michelangelo\", \"Raphael\", \"Donatello\"])`  \n",
    "`➞ [\"Raphael\", \"Leonardo\", \"Donatello\", \"Michelangelo\"]`  \n",
    "`sort_by_length([\"Turing\", \"Einstein\", \"Jung\"])`  \n",
    "`➞ [\"Jung\", \"Turing\", \"Einstein\"]`  \n",
    "\n",
    "**Notes:**  \n",
    "All test cases contain lists with strings of different lengths, so you won't have to deal with\n",
    "multiple strings of the same length."
   ]
  },
  {
   "cell_type": "code",
   "execution_count": 7,
   "metadata": {},
   "outputs": [],
   "source": [
    "def sort_by_length(lst):\n",
    "    \"\"\"\n",
    "    This function that takes a list of strings and return a list, sorted from shortest to longest.\n",
    "    \n",
    "    It will take one argument -> lst\n",
    "    lst = lst as a list of strings.\n",
    "    \n",
    "    Output: It will return a sorted list which is oranged in shortest to longest order.\n",
    "    \"\"\"\n",
    "    return f'sort_by_length({lst}) ---> {sorted(lst,key=len)}'"
   ]
  },
  {
   "cell_type": "code",
   "execution_count": 8,
   "metadata": {},
   "outputs": [
    {
     "name": "stdout",
     "output_type": "stream",
     "text": [
      "sort_by_length(['Google', 'Apple', 'Microsoft']) ---> ['Apple', 'Google', 'Microsoft']\n",
      "sort_by_length(['Leonardo', 'Michelangelo', 'Raphael', 'Donatello']) ---> ['Raphael', 'Leonardo', 'Donatello', 'Michelangelo']\n"
     ]
    }
   ],
   "source": [
    "print(sort_by_length([\"Google\", \"Apple\", \"Microsoft\"]))\n",
    "print(sort_by_length([\"Leonardo\", \"Michelangelo\", \"Raphael\", \"Donatello\"]))"
   ]
  },
  {
   "cell_type": "markdown",
   "metadata": {},
   "source": [
    "## 5.Create a function that validates whether three given integers form a Pythagorean triplet. The sum of the squares of the two smallest integers must equal the square of the largest number to be validated.\n",
    "**Examples:**  \n",
    "`is_triplet(3, 4, 5) ➞ True\n",
    "    # 3² + 4² = 25\n",
    "    # 5² = 25\n",
    "is_triplet(13, 5, 12) ➞ True\n",
    "    # 5² + 12² = 169\n",
    "    # 13² = 169\n",
    "is_triplet(1, 2, 3) ➞ False\n",
    "    # 1² + 2² = 5\n",
    "    # 3² = 9`\n",
    "    \n",
    "**Notes:**\n",
    "Numbers may not be given in a sorted order."
   ]
  },
  {
   "cell_type": "code",
   "execution_count": 9,
   "metadata": {},
   "outputs": [],
   "source": [
    "def is_triplet(a, b, c):\n",
    "    \"\"\"\n",
    "    This function validates whether three given integers form a Pythagorean triplet.\n",
    "    \n",
    "    It will takes three arguments -> a, b, c\n",
    "    a = a as a first integer.\n",
    "    b = b as a sencond integer.\n",
    "    c = c as a third integer.\n",
    "    \n",
    "    Output: It will return True if three given integers are Pythagorean triplet and return False othewise.\n",
    "    \"\"\"\n",
    "    lst_str = [] # making a list of string.\n",
    "    lst_str.append(str(a))\n",
    "    lst_str.append(str(b))\n",
    "    lst_str.append(str(c))\n",
    "    \n",
    "    \n",
    "    lst_int = []\n",
    "    for i in lst_str:\n",
    "        lst_int.append(int(i))  # converting those string into integers again.\n",
    "        \n",
    "    sort_lst = sorted(lst_int) # sort the list of integers.\n",
    "    \n",
    "    if ((sort_lst[0]**2 + sort_lst[1]**2) == (sort_lst[2]**2)):\n",
    "        return f'is_triplet({a}, {b}, {c}) --> {True}'\n",
    "    else:\n",
    "        return f'is_triplet({a}, {b}, {c}) --> {False}'"
   ]
  },
  {
   "cell_type": "code",
   "execution_count": 10,
   "metadata": {},
   "outputs": [
    {
     "name": "stdout",
     "output_type": "stream",
     "text": [
      "is_triplet(3, 4, 5) --> True\n",
      "is_triplet(13, 12, 5) --> True\n",
      "is_triplet(1, 3, 2) --> False\n"
     ]
    }
   ],
   "source": [
    "print(is_triplet(3, 4, 5))\n",
    "print(is_triplet(13, 12, 5))\n",
    "print(is_triplet(1, 3, 2))"
   ]
  },
  {
   "cell_type": "code",
   "execution_count": null,
   "metadata": {},
   "outputs": [],
   "source": []
  }
 ],
 "metadata": {
  "kernelspec": {
   "display_name": "Python 3",
   "language": "python",
   "name": "python3"
  },
  "language_info": {
   "codemirror_mode": {
    "name": "ipython",
    "version": 3
   },
   "file_extension": ".py",
   "mimetype": "text/x-python",
   "name": "python",
   "nbconvert_exporter": "python",
   "pygments_lexer": "ipython3",
   "version": "3.7.6"
  }
 },
 "nbformat": 4,
 "nbformat_minor": 4
}
