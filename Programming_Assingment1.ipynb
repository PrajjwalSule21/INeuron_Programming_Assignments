{
 "cells": [
  {
   "cell_type": "code",
   "execution_count": 2,
   "metadata": {},
   "outputs": [
    {
     "name": "stdout",
     "output_type": "stream",
     "text": [
      "Hello Python\n"
     ]
    }
   ],
   "source": [
    "# 1.Write a Python program to print \"Hello Python\"?\n",
    "\n",
    "print('Hello Python')"
   ]
  },
  {
   "cell_type": "code",
   "execution_count": 9,
   "metadata": {},
   "outputs": [
    {
     "name": "stdout",
     "output_type": "stream",
     "text": [
      "7\n",
      "Additon\n",
      "Enter your first number: 22\n",
      "Enter your second number: 3\n",
      "25\n",
      "2 2.0\n",
      "Division\n",
      "Enter your first number: 4\n",
      "Enter your second number: 2\n",
      "2.0\n"
     ]
    }
   ],
   "source": [
    "# 2.Write a Python program to do arithmetical operations addition and division.?\n",
    "\n",
    "# Addition\n",
    "add = 3 + 4\n",
    "print(add)\n",
    "\n",
    "# Addtion through user input\n",
    "\n",
    "print('Additon')\n",
    "a = int(input('Enter your first number: '))\n",
    "b = int(input('Enter your second number: '))\n",
    "addition = a + b\n",
    "print(addition)\n",
    "\n",
    "# Divsion \n",
    "\n",
    "divide = 4//2  \n",
    "divide2 = 4/2  # it will give floating point number\n",
    "print(divide, divide2)\n",
    "\n",
    "# Division through user input\n",
    "\n",
    "print('Division')\n",
    "x = int(input('Enter your first number: '))\n",
    "y = int(input('Enter your second number: '))\n",
    "division = x/y\n",
    "print(division)"
   ]
  },
  {
   "cell_type": "code",
   "execution_count": 16,
   "metadata": {},
   "outputs": [
    {
     "name": "stdout",
     "output_type": "stream",
     "text": [
      "Enter the value of base: 23\n",
      "Enter the value of height: 14\n",
      "161.0\n"
     ]
    }
   ],
   "source": [
    "# 3.Write a Python program to find the area of a triangle?\n",
    "\n",
    "base = int(input('Enter the value of base: '))\n",
    "height = int(input('Enter the value of height: '))\n",
    "\n",
    "area = 1/2*(base*height)     #area of triange formula (half of base*height)\n",
    "\n",
    "print(area)"
   ]
  },
  {
   "cell_type": "code",
   "execution_count": 32,
   "metadata": {},
   "outputs": [
    {
     "name": "stdout",
     "output_type": "stream",
     "text": [
      "Enter the first number: 21\n",
      "Enter the second number: 12\n",
      "Before swapping a: 21 b: 12\n",
      "After swapping a: 12 b: 21\n"
     ]
    }
   ],
   "source": [
    "# 4.Write a Python program to swap two variables?\n",
    "\n",
    "a = int(input('Enter the first number: '))\n",
    "b = int(input('Enter the second number: '))\n",
    "print('Before swapping a:',a,'b:',b)\n",
    "\n",
    "a,b = b,a # swapping \n",
    "\n",
    "print('After swapping a:',a,'b:',b)"
   ]
  },
  {
   "cell_type": "code",
   "execution_count": 28,
   "metadata": {},
   "outputs": [
    {
     "name": "stdout",
     "output_type": "stream",
     "text": [
      "56\n"
     ]
    }
   ],
   "source": [
    "# 5.Write a Python program to generate a random number?\n",
    "\n",
    "import random       # import random module it will help us to genrate random number\n",
    "\n",
    "random_number = random.randint(0,100)   # in this function we have to give a range and it will give output in this range.\n",
    "print(random_number)                     # When we execute this program so we will get random number in b/w 0-100 on everytime."
   ]
  },
  {
   "cell_type": "code",
   "execution_count": null,
   "metadata": {},
   "outputs": [],
   "source": []
  }
 ],
 "metadata": {
  "kernelspec": {
   "display_name": "Python 3",
   "language": "python",
   "name": "python3"
  },
  "language_info": {
   "codemirror_mode": {
    "name": "ipython",
    "version": 3
   },
   "file_extension": ".py",
   "mimetype": "text/x-python",
   "name": "python",
   "nbconvert_exporter": "python",
   "pygments_lexer": "ipython3",
   "version": "3.7.6"
  }
 },
 "nbformat": 4,
 "nbformat_minor": 4
}
