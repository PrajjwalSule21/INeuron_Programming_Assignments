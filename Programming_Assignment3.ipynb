{
 "cells": [
  {
   "cell_type": "markdown",
   "metadata": {},
   "source": [
    "## 1.\tWrite a Python Program to Check if a Number is Positive, Negative or Zero?\n",
    "##### for this question we use to compare the number with 0 if number is greater than 0 so, number is positive and if number is less than 0 so, number will be negative."
   ]
  },
  {
   "cell_type": "code",
   "execution_count": 18,
   "metadata": {},
   "outputs": [],
   "source": [
    "def CheckNegativePositive(number):\n",
    "    \"\"\"\n",
    "    It will take only one argument.\n",
    "    Which is in int/float data type\n",
    "    \"\"\" \n",
    "    if number > 0:                                 # checking first condition if number is greater then 0 so, return Positive.\n",
    "        return f'Your {number} is Positive +ve'\n",
    "    elif number == 0:\n",
    "        return f'Your {number} is Zero 0'         # checking second condition if number is equal to 0 so, return Zero.\n",
    "    else:\n",
    "        return f'Your {number} is Negative -ve'   # if both condition's are not satisfied then return Negative.\n",
    "    "
   ]
  },
  {
   "cell_type": "code",
   "execution_count": 19,
   "metadata": {},
   "outputs": [
    {
     "name": "stdout",
     "output_type": "stream",
     "text": [
      "Your -21 is Negative -ve\n",
      "Your 0 is Zero 0\n",
      "Your 21.5 is Positive +ve\n"
     ]
    }
   ],
   "source": [
    "print(CheckNegativePositive(-21))\n",
    "print(CheckNegativePositive(0))\n",
    "print(CheckNegativePositive(21.5))"
   ]
  },
  {
   "cell_type": "markdown",
   "metadata": {},
   "source": [
    "## 2.\tWrite a Python Program to Check if a Number is Odd or Even?\n",
    "##### For solution we use modulo operator, if reminder is 1 than the number is Odd and if reminder is 0 then the number is Even."
   ]
  },
  {
   "cell_type": "code",
   "execution_count": 20,
   "metadata": {},
   "outputs": [],
   "source": [
    "def EvenOdd(number):\n",
    "    \"\"\"\n",
    "    It will take only one argument.\n",
    "    Which is in int/float data type.\n",
    "    \"\"\"\n",
    "    if number%2 == 0:                    # if reminder is 0 so, the number is even.\n",
    "        return f'Your {number} is Even'\n",
    "    else:\n",
    "        return f'Your {number} is Odd'"
   ]
  },
  {
   "cell_type": "code",
   "execution_count": 21,
   "metadata": {},
   "outputs": [
    {
     "name": "stdout",
     "output_type": "stream",
     "text": [
      "Your 21 is Odd\n",
      "Your -22 is Even\n",
      "Your 2.0 is Even\n",
      "Your 5.4 is Odd\n"
     ]
    }
   ],
   "source": [
    "print(EvenOdd(21))\n",
    "print(EvenOdd(-22))\n",
    "print(EvenOdd(2.0))\n",
    "print(EvenOdd(5.4))"
   ]
  },
  {
   "cell_type": "markdown",
   "metadata": {},
   "source": [
    "## 3.\tWrite a Python Program to Check Leap Year?\n",
    "### for checking leap year there are three conditions.\n",
    "#### 1. if Year is divisible by 4\n",
    "#### 2. if Year is divisible by 100\n",
    "#### 3. if Year is divisible by 400"
   ]
  },
  {
   "cell_type": "code",
   "execution_count": 22,
   "metadata": {},
   "outputs": [],
   "source": [
    "def CheckLeapYear(Year):\n",
    "    \"\"\"\n",
    "    It will take only one argument,\n",
    "    And that argument must be int in type.\n",
    "    As well in form of Year ex: 1998\n",
    "    \"\"\"\n",
    "    if Year%4 == 0:                          # if Year is divisible by 4\n",
    "        if Year%100 == 0:                    # Year is divisible by 100\n",
    "            if Year%400 == 0:                # even divisible by 400 so, the year is leap year\n",
    "                return f'{Year} is a Leap Year'\n",
    "            else:\n",
    "                return f'{Year} is not a Leap Year'\n",
    "        else:\n",
    "            return f'{Year} is a Leap Year'\n",
    "    else:\n",
    "        return f'{Year} is not a Leap Year'"
   ]
  },
  {
   "cell_type": "code",
   "execution_count": 23,
   "metadata": {},
   "outputs": [
    {
     "name": "stdout",
     "output_type": "stream",
     "text": [
      "1998 is not a Leap Year\n",
      "1999 is not a Leap Year\n",
      "2000 is a Leap Year\n",
      "2001 is not a Leap Year\n",
      "2002 is not a Leap Year\n",
      "2003 is not a Leap Year\n",
      "2004 is a Leap Year\n",
      "2005 is not a Leap Year\n"
     ]
    }
   ],
   "source": [
    "print(CheckLeapYear(1998))\n",
    "print(CheckLeapYear(1999))\n",
    "print(CheckLeapYear(2000))\n",
    "print(CheckLeapYear(2001))\n",
    "print(CheckLeapYear(2002))\n",
    "print(CheckLeapYear(2003))\n",
    "print(CheckLeapYear(2004))\n",
    "print(CheckLeapYear(2005))"
   ]
  },
  {
   "cell_type": "markdown",
   "metadata": {},
   "source": [
    "## 4.\tWrite a Python Program to Check Prime Number?\n",
    "####  Prime number's are those who are divisible by their own, and not appear in any other numbers table. \n",
    "#### like : 2,3,5,7,11, and so on..."
   ]
  },
  {
   "cell_type": "code",
   "execution_count": 24,
   "metadata": {},
   "outputs": [],
   "source": [
    "def CheckPrimeNumber(num):\n",
    "    \"\"\"\n",
    "    It will take only one argument, as in integer datatype.\n",
    "    \"\"\"\n",
    "    if num > 1:  \n",
    "        for i in range(2,num):  \n",
    "            if (num % i) == 0:  \n",
    "                return f'{num} is not a prime number'  \n",
    "                break  \n",
    "        else:  \n",
    "            return f'{num} is a prime number'  \n",
    "         \n",
    "    else:  \n",
    "        return f'{num} is not a prime number'  "
   ]
  },
  {
   "cell_type": "code",
   "execution_count": 25,
   "metadata": {},
   "outputs": [
    {
     "name": "stdout",
     "output_type": "stream",
     "text": [
      "2 is a prime number\n",
      "3 is a prime number\n",
      "4 is not a prime number\n",
      "5 is a prime number\n",
      "6 is not a prime number\n"
     ]
    }
   ],
   "source": [
    "print(CheckPrimeNumber(2))\n",
    "print(CheckPrimeNumber(3))\n",
    "print(CheckPrimeNumber(4))\n",
    "print(CheckPrimeNumber(5))\n",
    "print(CheckPrimeNumber(6))"
   ]
  },
  {
   "cell_type": "markdown",
   "metadata": {},
   "source": [
    "## 5.\tWrite a Python Program to Print all Prime Numbers in an Interval of 1-10000?"
   ]
  },
  {
   "cell_type": "code",
   "execution_count": 26,
   "metadata": {},
   "outputs": [],
   "source": [
    "def PrimeNumbers(rnge):\n",
    "    \"\"\"\n",
    "    It will take one argument as a integer data type.\n",
    "    And it will stand for the final range.\n",
    "    \"\"\"\n",
    "    for num in range(0,rnge):    \n",
    "        if num > 1:  \n",
    "            for i in range(2,num):  \n",
    "                if (num % i) == 0:  \n",
    "                    break  \n",
    "            else:  \n",
    "                print('{} is a prime number'.format(num))         "
   ]
  },
  {
   "cell_type": "code",
   "execution_count": 27,
   "metadata": {},
   "outputs": [
    {
     "name": "stdout",
     "output_type": "stream",
     "text": [
      "2 is a prime number\n",
      "3 is a prime number\n",
      "5 is a prime number\n",
      "7 is a prime number\n",
      "11 is a prime number\n",
      "13 is a prime number\n",
      "17 is a prime number\n",
      "19 is a prime number\n",
      "23 is a prime number\n",
      "29 is a prime number\n",
      "31 is a prime number\n",
      "37 is a prime number\n",
      "41 is a prime number\n",
      "43 is a prime number\n",
      "47 is a prime number\n",
      "53 is a prime number\n",
      "59 is a prime number\n",
      "61 is a prime number\n",
      "67 is a prime number\n",
      "71 is a prime number\n",
      "73 is a prime number\n",
      "79 is a prime number\n",
      "83 is a prime number\n",
      "89 is a prime number\n",
      "97 is a prime number\n",
      "101 is a prime number\n",
      "103 is a prime number\n",
      "107 is a prime number\n",
      "109 is a prime number\n",
      "113 is a prime number\n",
      "127 is a prime number\n",
      "131 is a prime number\n",
      "137 is a prime number\n",
      "139 is a prime number\n",
      "149 is a prime number\n",
      "151 is a prime number\n",
      "157 is a prime number\n",
      "163 is a prime number\n",
      "167 is a prime number\n",
      "173 is a prime number\n",
      "179 is a prime number\n",
      "181 is a prime number\n",
      "191 is a prime number\n",
      "193 is a prime number\n",
      "197 is a prime number\n",
      "199 is a prime number\n",
      "211 is a prime number\n",
      "223 is a prime number\n",
      "227 is a prime number\n",
      "229 is a prime number\n",
      "233 is a prime number\n",
      "239 is a prime number\n",
      "241 is a prime number\n",
      "251 is a prime number\n",
      "257 is a prime number\n",
      "263 is a prime number\n",
      "269 is a prime number\n",
      "271 is a prime number\n",
      "277 is a prime number\n",
      "281 is a prime number\n",
      "283 is a prime number\n",
      "293 is a prime number\n",
      "307 is a prime number\n",
      "311 is a prime number\n",
      "313 is a prime number\n",
      "317 is a prime number\n",
      "331 is a prime number\n",
      "337 is a prime number\n",
      "347 is a prime number\n",
      "349 is a prime number\n",
      "353 is a prime number\n",
      "359 is a prime number\n",
      "367 is a prime number\n",
      "373 is a prime number\n",
      "379 is a prime number\n",
      "383 is a prime number\n",
      "389 is a prime number\n",
      "397 is a prime number\n",
      "401 is a prime number\n",
      "409 is a prime number\n",
      "419 is a prime number\n",
      "421 is a prime number\n",
      "431 is a prime number\n",
      "433 is a prime number\n",
      "439 is a prime number\n",
      "443 is a prime number\n",
      "449 is a prime number\n",
      "457 is a prime number\n",
      "461 is a prime number\n",
      "463 is a prime number\n",
      "467 is a prime number\n",
      "479 is a prime number\n",
      "487 is a prime number\n",
      "491 is a prime number\n",
      "499 is a prime number\n",
      "503 is a prime number\n",
      "509 is a prime number\n",
      "521 is a prime number\n",
      "523 is a prime number\n",
      "541 is a prime number\n",
      "547 is a prime number\n",
      "557 is a prime number\n",
      "563 is a prime number\n",
      "569 is a prime number\n",
      "571 is a prime number\n",
      "577 is a prime number\n",
      "587 is a prime number\n",
      "593 is a prime number\n",
      "599 is a prime number\n",
      "601 is a prime number\n",
      "607 is a prime number\n",
      "613 is a prime number\n",
      "617 is a prime number\n",
      "619 is a prime number\n",
      "631 is a prime number\n",
      "641 is a prime number\n",
      "643 is a prime number\n",
      "647 is a prime number\n",
      "653 is a prime number\n",
      "659 is a prime number\n",
      "661 is a prime number\n",
      "673 is a prime number\n",
      "677 is a prime number\n",
      "683 is a prime number\n",
      "691 is a prime number\n",
      "701 is a prime number\n",
      "709 is a prime number\n",
      "719 is a prime number\n",
      "727 is a prime number\n",
      "733 is a prime number\n",
      "739 is a prime number\n",
      "743 is a prime number\n",
      "751 is a prime number\n",
      "757 is a prime number\n",
      "761 is a prime number\n",
      "769 is a prime number\n",
      "773 is a prime number\n",
      "787 is a prime number\n",
      "797 is a prime number\n",
      "809 is a prime number\n",
      "811 is a prime number\n",
      "821 is a prime number\n",
      "823 is a prime number\n",
      "827 is a prime number\n",
      "829 is a prime number\n",
      "839 is a prime number\n",
      "853 is a prime number\n",
      "857 is a prime number\n",
      "859 is a prime number\n",
      "863 is a prime number\n",
      "877 is a prime number\n",
      "881 is a prime number\n",
      "883 is a prime number\n",
      "887 is a prime number\n",
      "907 is a prime number\n",
      "911 is a prime number\n",
      "919 is a prime number\n",
      "929 is a prime number\n",
      "937 is a prime number\n",
      "941 is a prime number\n",
      "947 is a prime number\n",
      "953 is a prime number\n",
      "967 is a prime number\n",
      "971 is a prime number\n",
      "977 is a prime number\n",
      "983 is a prime number\n",
      "991 is a prime number\n",
      "997 is a prime number\n"
     ]
    }
   ],
   "source": [
    "PrimeNumbers(1000)"
   ]
  },
  {
   "cell_type": "code",
   "execution_count": null,
   "metadata": {},
   "outputs": [],
   "source": []
  }
 ],
 "metadata": {
  "kernelspec": {
   "display_name": "Python 3",
   "language": "python",
   "name": "python3"
  },
  "language_info": {
   "codemirror_mode": {
    "name": "ipython",
    "version": 3
   },
   "file_extension": ".py",
   "mimetype": "text/x-python",
   "name": "python",
   "nbconvert_exporter": "python",
   "pygments_lexer": "ipython3",
   "version": "3.7.6"
  }
 },
 "nbformat": 4,
 "nbformat_minor": 4
}
