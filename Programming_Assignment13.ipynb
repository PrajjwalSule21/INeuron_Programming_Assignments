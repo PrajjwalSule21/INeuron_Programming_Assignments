{
 "cells": [
  {
   "cell_type": "markdown",
   "metadata": {},
   "source": [
    "## Question 1:\n",
    "\n",
    "### Write a program that calculates and prints the value according to the given formula:\n",
    "* Q = Square root of [(2 * C * D)/H]\n",
    "\n",
    "* Following are the fixed values of C and H:\n",
    "\n",
    "* C is 50. H is 30.\n",
    "\n",
    "* D is the variable whose values should be input to your program in a comma-separated sequence.\n",
    "\n",
    "#### Example\n",
    "\n",
    "* Let us assume the following comma separated input sequence is given to the program:\n",
    "\n",
    "* 100,150,180\n",
    "\n",
    "* The output of the program should be:\n",
    "\n",
    "* 18,22,24\n"
   ]
  },
  {
   "cell_type": "code",
   "execution_count": 1,
   "metadata": {},
   "outputs": [],
   "source": [
    "def calci(Seq_num):\n",
    "    \"\"\"\n",
    "    Calci is a funtion to calculate Q = Square root of [(2 * C * D)/H]\n",
    "    \n",
    "    It will take one argument\n",
    "    Seq_num = sequence of number preferbly list.\n",
    "    \n",
    "    Output: It will give the list of result.\n",
    "    \n",
    "    \"\"\"\n",
    "    import math\n",
    "\n",
    "    result = []\n",
    "    C = 50\n",
    "    H = 30\n",
    "    for i in Seq_num:\n",
    "        Q = round(math.sqrt(2 * C * int(i) / H))\n",
    "        result.append(Q)\n",
    "    \n",
    "    return f\"List of resultant numbers : {result}\"\n"
   ]
  },
  {
   "cell_type": "code",
   "execution_count": 2,
   "metadata": {},
   "outputs": [],
   "source": [
    "num = [100, 150,180]\n",
    "calci(num)"
   ]
  },
  {
   "cell_type": "markdown",
   "metadata": {},
   "source": [
    "## Question 2:\n",
    "### Write a program which takes 2 digits, X,Y as input and generates a 2-dimensional array. The element value in the i-th row and j-th column of the array should be i*j.\n",
    "\n",
    "* Note: i=0,1.., X-1; j=0,1,¡¬Y-1.\n",
    "\n",
    "#### Example\n",
    "\n",
    "* Suppose the following inputs are given to the program:\n",
    "\n",
    "* 3,5\n",
    "\n",
    "* Then, the output of the program should be:\n",
    "\n",
    "* [[0, 0, 0, 0, 0], [0, 1, 2, 3, 4], [0, 2, 4, 6, 8]] \n"
   ]
  },
  {
   "cell_type": "code",
   "execution_count": 3,
   "metadata": {},
   "outputs": [],
   "source": [
    "def make_2D_array(X, Y):\n",
    "    \"\"\"\n",
    "    This is a funtion to make 2-D Array with help of two inputs.a\n",
    "    \n",
    "    It will take two arguments\n",
    "    \n",
    "    X = X as a row of desired array\n",
    "    Y = Y as a column of desired array.\n",
    "    \n",
    "    Ouput : It will give an array having X rows and Y columns.\n",
    "    \"\"\"\n",
    "    \n",
    "    import numpy as np\n",
    "    import random\n",
    "    \n",
    "    a = random.sample(range(X*Y),X*Y)\n",
    "    a = np.array(a)\n",
    "    array  = a.reshape((X,Y))\n",
    "    return array\n",
    "  "
   ]
  },
  {
   "cell_type": "code",
   "execution_count": 4,
   "metadata": {},
   "outputs": [
    {
     "data": {
      "text/plain": [
       "array([[ 5,  2, 11,  9,  3],\n",
       "       [ 1,  6,  4,  0, 14],\n",
       "       [12, 10,  7,  8, 13]])"
      ]
     },
     "execution_count": 4,
     "metadata": {},
     "output_type": "execute_result"
    }
   ],
   "source": [
    "make_2D_array(3,5)"
   ]
  },
  {
   "cell_type": "markdown",
   "metadata": {},
   "source": [
    "## Question 3:\n",
    "### Write a program that accepts a comma separated sequence of words as input and prints the words in a comma-separated sequence after sorting them alphabetically.\n",
    "\n",
    "* Suppose the following input is supplied to the program:\n",
    "\n",
    "* without,hello,bag,world\n",
    "\n",
    "* Then, the output should be:\n",
    "\n",
    "* bag,hello,without,world"
   ]
  },
  {
   "cell_type": "code",
   "execution_count": 5,
   "metadata": {},
   "outputs": [],
   "source": [
    "def sorted_words(lst_words):\n",
    "    \"\"\"\n",
    "    It is a function to sort the list of string in alphabetically manner.\n",
    "    \n",
    "    It will take one argument.a\n",
    "    lst_words = lst_words as a list of strings.\n",
    "    \n",
    "    Output : It will give the sorted list of string in alphabetically manner.\n",
    "    \n",
    "    \"\"\"\n",
    "    \n",
    "    sorted_list = sorted(lst_words)\n",
    "    return sorted_list"
   ]
  },
  {
   "cell_type": "code",
   "execution_count": 6,
   "metadata": {},
   "outputs": [
    {
     "data": {
      "text/plain": [
       "['bag', 'hello', 'without', 'world']"
      ]
     },
     "execution_count": 6,
     "metadata": {},
     "output_type": "execute_result"
    }
   ],
   "source": [
    "lst = ['without','hello','bag','world']\n",
    "sorted_words(lst)"
   ]
  },
  {
   "cell_type": "markdown",
   "metadata": {},
   "source": [
    "## Question 4:\n",
    "### Write a program that accepts a sequence of whitespace separated words as input and prints the words after removing all duplicate words and sorting them alphanumerically.\n",
    "\n",
    "* Suppose the following input is supplied to the program:\n",
    "\n",
    "* hello world and practice makes perfect and hello world again\n",
    "\n",
    "* Then, the output should be:\n",
    "\n",
    "* again and hello makes perfect practice world"
   ]
  },
  {
   "cell_type": "code",
   "execution_count": 7,
   "metadata": {},
   "outputs": [],
   "source": [
    "def rem_dup_sort_alphanum(words):\n",
    "    \"\"\"\n",
    "    This is a function for remove duplicate from a sentance as well sort that sentance in alphanumerically.\n",
    "    \n",
    "    It will take one argumemt.\n",
    "    words = words as a string or sentance containing whitespaces.\n",
    "    \n",
    "    Output : It will give desired sentence in sorted manner.\n",
    "    \n",
    "    \"\"\"\n",
    "    sent_split = words.split(' ')\n",
    "    word = []\n",
    "    for i in sent_split:\n",
    "        if i not in word:\n",
    "            word.append(i)\n",
    "        else:\n",
    "            continue\n",
    "    word.sort()\n",
    "    return \"Desired sentance: {}\".format((\" \").join(word))"
   ]
  },
  {
   "cell_type": "code",
   "execution_count": 8,
   "metadata": {},
   "outputs": [
    {
     "data": {
      "text/plain": [
       "'Desired sentance: again and hello makes perfect practice world'"
      ]
     },
     "execution_count": 8,
     "metadata": {},
     "output_type": "execute_result"
    }
   ],
   "source": [
    "rem_dup_sort_alphanum('hello world and practice makes perfect and hello again')"
   ]
  },
  {
   "cell_type": "markdown",
   "metadata": {},
   "source": [
    "## Question 5:\n",
    "### Write a program that accepts a sentence and calculate the number of letters and digits.\n",
    "\n",
    "* Suppose the following input is supplied to the program:\n",
    "\n",
    "* hello world! 123\n",
    "\n",
    "* Then, the output should be:\n",
    "\n",
    "* LETTERS 10\n",
    "\n",
    "* DIGITS 3"
   ]
  },
  {
   "cell_type": "code",
   "execution_count": 9,
   "metadata": {},
   "outputs": [],
   "source": [
    "def clculte_ltr_int(sent):\n",
    "    \"\"\"\n",
    "    This is a funtion for calculation count of digits and letters in a string.\n",
    "    \n",
    "    It will take one argumnet.\n",
    "    \n",
    "    sent = sent as a sentance or as a string.\n",
    "    \n",
    "    Output: It will give the count of letter and digits which are present in string.\n",
    "    \"\"\"\n",
    "    \n",
    "    digit = 0\n",
    "    letter = 0\n",
    "    for i in sent:\n",
    "        if i.isdigit():\n",
    "            digit = digit + 1\n",
    "        elif i.isalpha():\n",
    "            letter = letter + 1\n",
    "        else:\n",
    "            pass\n",
    "        \n",
    "    return f\"The Digits in the string are: {digit} and the letters in string are: {letter}\""
   ]
  },
  {
   "cell_type": "code",
   "execution_count": 10,
   "metadata": {},
   "outputs": [
    {
     "data": {
      "text/plain": [
       "'The Digits in the string are: 3 and the letters in string are: 10'"
      ]
     },
     "execution_count": 10,
     "metadata": {},
     "output_type": "execute_result"
    }
   ],
   "source": [
    "clculte_ltr_int('Hello world! 123')"
   ]
  },
  {
   "cell_type": "markdown",
   "metadata": {},
   "source": [
    "## Question 6:\n",
    "### A website requires the users to input username and password to register. Write a program to check the validity of password input by users.\n",
    "\n",
    "#### Following are the criteria for checking the password:\n",
    "\n",
    "* 1. At least 1 letter between [a-z]\n",
    "\n",
    "* 2. At least 1 number between [0-9]\n",
    "\n",
    "* 1. At least 1 Capital letter between [A-Z]\n",
    "\n",
    "* 3. At least 1 special character.\n",
    "\n",
    "* 4. Minimum length of transaction password: 6\n",
    "\n",
    "* 5. Maximum length of transaction password: 12\n",
    "\n",
    "####  Your program should accept a sequence of comma separated passwords and will check them according to the above criteria. Passwords that match the criteria are to be printed, each separated by a comma.\n",
    "\n",
    "##### Example\n",
    "\n",
    "* If the following passwords are given as input to the program:\n",
    "\n",
    "* ABd1234@1,a F1#,2w3E*,2We3345\n",
    "\n",
    "* Then, the output of the program should be:\n",
    "\n",
    "* ABd1234@1"
   ]
  },
  {
   "cell_type": "code",
   "execution_count": 11,
   "metadata": {},
   "outputs": [],
   "source": [
    "def accept_pass(Password):\n",
    "    \"\"\"\n",
    "    This funciton is to make an accepted password with given string.\n",
    "    \n",
    "    It will take one argument.\n",
    "    Password = Password as an string which is comma separeted.\n",
    "    \n",
    "    Ouptut: It will give accepted password \n",
    "    \"\"\"\n",
    "    \n",
    "    import re\n",
    "    \n",
    "    paswrds = Password.split(',')\n",
    "    accept_pass = []\n",
    "    for i in paswrds:\n",
    "        if len(i) < 6 or len(i) > 12:\n",
    "            continue\n",
    "        elif not re.search(\"([a-z])+\", i):\n",
    "            continue\n",
    "        elif not re.search(\"([A-Z])+\", i):\n",
    "            continue\n",
    "        elif not re.search(\"([0-9])+\", i):\n",
    "            continue\n",
    "        elif not re.search(\"([!@$%^&])+\", i):\n",
    "            continue\n",
    "        else:\n",
    "            accept_pass.append(i)\n",
    "            \n",
    "    return \"Desired Password: {}\".format((\"\").join(accept_pass))"
   ]
  },
  {
   "cell_type": "code",
   "execution_count": 12,
   "metadata": {},
   "outputs": [
    {
     "data": {
      "text/plain": [
       "'Desired Password: ABd1234@1'"
      ]
     },
     "execution_count": 12,
     "metadata": {},
     "output_type": "execute_result"
    }
   ],
   "source": [
    "accept_pass(\"ABd1234@1,a F1#,2w3E*,2We3345\")"
   ]
  }
 ],
 "metadata": {
  "kernelspec": {
   "display_name": "Python 3",
   "language": "python",
   "name": "python3"
  },
  "language_info": {
   "codemirror_mode": {
    "name": "ipython",
    "version": 3
   },
   "file_extension": ".py",
   "mimetype": "text/x-python",
   "name": "python",
   "nbconvert_exporter": "python",
   "pygments_lexer": "ipython3",
   "version": "3.7.6"
  }
 },
 "nbformat": 4,
 "nbformat_minor": 4
}
