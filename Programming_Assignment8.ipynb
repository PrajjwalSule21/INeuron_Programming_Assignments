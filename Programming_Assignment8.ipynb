{
 "cells": [
  {
   "cell_type": "markdown",
   "metadata": {},
   "source": [
    "# Write a Python Program to Add Two Matrices?"
   ]
  },
  {
   "cell_type": "code",
   "execution_count": 1,
   "metadata": {},
   "outputs": [],
   "source": [
    "class matrix:\n",
    "    \"\"\"\n",
    "    This class is for Matrices, It will take two arguments,\n",
    "    x = first_matirx\n",
    "    y = second_matrix\n",
    "    \"\"\"\n",
    "    def __init__(self, x, y):\n",
    "        self.matrixOne = x\n",
    "        self.matrixTwo = y\n",
    "    \n",
    "    def add_matrices(self):\n",
    "        \"\"\"\n",
    "        This method will add two matrices.\n",
    "        \"\"\"\n",
    "        try:\n",
    "            output = [[0,0,0],\n",
    "                      [0,0,0],\n",
    "                      [0,0,0]]\n",
    "\n",
    "            # this iteration for rows\n",
    "            for i in range(len(self.matrixOne)):\n",
    "                # this iteration for columns\n",
    "                for j in range(len(self.matrixOne[0])):\n",
    "                    output[i][j] = self.matrixOne[i][j] + self.matrixTwo[i][j]\n",
    "\n",
    "\n",
    "            for i in output:\n",
    "                print(i)\n",
    "                \n",
    "        except Exception as e:\n",
    "            return e\n",
    "        \n",
    "    def __str__(self):\n",
    "        return 'This matrix class gives you some methods about matrices'\n",
    "        "
   ]
  },
  {
   "cell_type": "code",
   "execution_count": 2,
   "metadata": {},
   "outputs": [],
   "source": [
    "x = [[1,2,3],\n",
    "     [4,5,6],\n",
    "     [7,8,9]]\n",
    "\n",
    "y = [[9,8,7],\n",
    "     [6,5,4],\n",
    "     [3,2,1]]\n",
    "\n",
    "matrices = matrix(x,y)"
   ]
  },
  {
   "cell_type": "code",
   "execution_count": 3,
   "metadata": {},
   "outputs": [
    {
     "name": "stdout",
     "output_type": "stream",
     "text": [
      "[10, 10, 10]\n",
      "[10, 10, 10]\n",
      "[10, 10, 10]\n"
     ]
    }
   ],
   "source": [
    "matrices.add_matrices()"
   ]
  },
  {
   "cell_type": "markdown",
   "metadata": {},
   "source": [
    "# Write a Python Program to Multiply Two Matrices?"
   ]
  },
  {
   "cell_type": "code",
   "execution_count": 4,
   "metadata": {},
   "outputs": [],
   "source": [
    "class matrix:\n",
    "    \"\"\"\n",
    "    This class is for Matrices, It will take two arguments,\n",
    "    x = first_matirx\n",
    "    y = second_matrix\n",
    "    \"\"\"\n",
    "    def __init__(self, x, y):\n",
    "        self.matrixOne = x\n",
    "        self.matrixTwo = y\n",
    "    \n",
    "    def add_matrices(self):\n",
    "        \"\"\"\n",
    "        This method will add two matrices.\n",
    "        \"\"\"\n",
    "        try:\n",
    "            output = [[0,0,0],\n",
    "                      [0,0,0],\n",
    "                      [0,0,0]]\n",
    "\n",
    "            # this iteration for rows\n",
    "            for i in range(len(self.matrixOne)):\n",
    "                # this iteration for columns\n",
    "                for j in range(len(self.matrixOne[0])):\n",
    "                    output[i][j] = self.matrixOne[i][j] + self.matrixTwo[i][j]\n",
    "\n",
    "\n",
    "            for i in output:\n",
    "                print(i)\n",
    "                \n",
    "        except Exception as e:\n",
    "            return e\n",
    "        \n",
    "        \n",
    "    def multiply_matrices(self):\n",
    "        \"\"\"\n",
    "        This method will multiply two matrices.\n",
    "        \"\"\"\n",
    "        try:\n",
    "            output = [[0,0,0],\n",
    "                      [0,0,0],\n",
    "                      [0,0,0]]\n",
    "\n",
    "            # this iteration for rows of x\n",
    "            for i in range(len(self.matrixOne)):\n",
    "                # this iteration for columns of y\n",
    "                for j in range(len(self.matrixTwo[0])):\n",
    "                    # this iteration for rows of y\n",
    "                    for k in range(len(self.matrixTwo)):\n",
    "                        output[i][j] += self.matrixOne[i][k] * self.matrixTwo[k][j]\n",
    "\n",
    "            for i in output:\n",
    "                print(i)\n",
    "                \n",
    "        except Exception as e:\n",
    "            return e\n",
    "        \n",
    "        \n",
    "    def __str__(self):\n",
    "        return 'This matrix class gives you some methods about matrices'\n",
    "       "
   ]
  },
  {
   "cell_type": "code",
   "execution_count": 5,
   "metadata": {},
   "outputs": [],
   "source": [
    "matrices = matrix(x,y)"
   ]
  },
  {
   "cell_type": "code",
   "execution_count": 6,
   "metadata": {},
   "outputs": [
    {
     "name": "stdout",
     "output_type": "stream",
     "text": [
      "[30, 24, 18]\n",
      "[84, 69, 54]\n",
      "[138, 114, 90]\n"
     ]
    }
   ],
   "source": [
    "matrices.multiply_matrices()"
   ]
  },
  {
   "cell_type": "markdown",
   "metadata": {},
   "source": [
    "# Write a Python Program to Transpose a Matrix?"
   ]
  },
  {
   "cell_type": "code",
   "execution_count": 7,
   "metadata": {},
   "outputs": [],
   "source": [
    "class matrix:\n",
    "    \"\"\"\n",
    "    This class is for Matrices, It will take two arguments,\n",
    "    x = first_matirx\n",
    "    y = second_matrix\n",
    "    \"\"\"\n",
    "    def __init__(self, x, y):\n",
    "        self.matrixOne = x\n",
    "        self.matrixTwo = y\n",
    "    \n",
    "    \n",
    "    def add_matrices(self):\n",
    "        \"\"\"\n",
    "        This method will add two matrices.\n",
    "        \"\"\"\n",
    "        try:\n",
    "            output = [[0,0,0],\n",
    "                      [0,0,0],\n",
    "                      [0,0,0]]\n",
    "\n",
    "            # this iteration for rows\n",
    "            for i in range(len(self.matrixOne)):\n",
    "                # this iteration for columns\n",
    "                for j in range(len(self.matrixOne[0])):\n",
    "                    output[i][j] = self.matrixOne[i][j] + self.matrixTwo[i][j]\n",
    "\n",
    "\n",
    "            for i in output:\n",
    "                print(i)\n",
    "                \n",
    "        except Exception as e:\n",
    "            return e\n",
    "        \n",
    "        \n",
    "    def multiply_matrices(self):\n",
    "        \"\"\"\n",
    "        This method will multiply two matrices.\n",
    "        \"\"\"\n",
    "        try:\n",
    "            output = [[0,0,0],\n",
    "                      [0,0,0],\n",
    "                      [0,0,0]]\n",
    "\n",
    "            # this iteration for rows of x\n",
    "            for i in range(len(self.matrixOne)):\n",
    "                # this iteration for columns of y\n",
    "                for j in range(len(self.matrixTwo[0])):\n",
    "                    # this iteration for rows of y\n",
    "                    for k in range(len(self.matrixTwo)):\n",
    "                        output[i][j] += self.matrixOne[i][k] * self.matrixTwo[k][j]\n",
    "\n",
    "            for i in output:\n",
    "                print(i)\n",
    "                \n",
    "        except Exception as e:\n",
    "            return e\n",
    "        \n",
    "        \n",
    "    def transpose(self):\n",
    "        \"\"\"\n",
    "        This method will transpose a matrix.\n",
    "        Transpose = Transpose of a matrix is the interchanging of rows and columns.\n",
    "        \"\"\"\n",
    "        try:\n",
    "            output = [[0,0,0],\n",
    "                      [0,0,0]]\n",
    "            \n",
    "            # this iteration for rows\n",
    "            for i in range(len(self.matrixOne)):\n",
    "                # this iteration for columns\n",
    "                for j in range(len(self.matrixOne[0])):\n",
    "                    output[j][i] = self.matrixOne[i][j]\n",
    "            \n",
    "            for i in output:\n",
    "                print(i)\n",
    "        \n",
    "        except Exception as e:\n",
    "            return e\n",
    "        \n",
    "    \n",
    "    def __str__(self):\n",
    "        return 'This matrix class gives you some methods about matrices'\n"
   ]
  },
  {
   "cell_type": "code",
   "execution_count": 8,
   "metadata": {},
   "outputs": [],
   "source": [
    "x = [[1,2],\n",
    "     [3,4],\n",
    "     [5,6]]\n",
    "\n",
    "matrices = matrix(x,y)"
   ]
  },
  {
   "cell_type": "code",
   "execution_count": 9,
   "metadata": {},
   "outputs": [
    {
     "name": "stdout",
     "output_type": "stream",
     "text": [
      "[1, 3, 5]\n",
      "[2, 4, 6]\n"
     ]
    }
   ],
   "source": [
    "matrices.transpose()"
   ]
  },
  {
   "cell_type": "markdown",
   "metadata": {},
   "source": [
    "# Write a Python Program to Sort Words in Alphabetic Order?\n"
   ]
  },
  {
   "cell_type": "code",
   "execution_count": 10,
   "metadata": {},
   "outputs": [],
   "source": [
    "class Words:\n",
    "    \"\"\"\n",
    "    This class is for String, It will take one argument,\n",
    "    words = A sentence or set of string.\n",
    "    \"\"\"\n",
    "    def __init__(self, words):\n",
    "        self.words = words\n",
    "        \n",
    "    def words_sort(self):\n",
    "        \"\"\"\n",
    "        This method sort the string in a Alphabetic order.\n",
    "        \"\"\"\n",
    "        try:\n",
    "            words = []\n",
    "            for word in self.words.split():\n",
    "                words.append(word.lower())\n",
    "            words.sort()\n",
    "            \n",
    "            for word in words:\n",
    "                print(word)\n",
    "        \n",
    "        except Exception as e:\n",
    "            return e\n",
    "        "
   ]
  },
  {
   "cell_type": "code",
   "execution_count": 11,
   "metadata": {},
   "outputs": [],
   "source": [
    "mystring = 'Write a python program to sort words in  alphabetic order'"
   ]
  },
  {
   "cell_type": "code",
   "execution_count": 12,
   "metadata": {},
   "outputs": [],
   "source": [
    "sentence = Words(mystring)"
   ]
  },
  {
   "cell_type": "code",
   "execution_count": 13,
   "metadata": {},
   "outputs": [
    {
     "name": "stdout",
     "output_type": "stream",
     "text": [
      "a\n",
      "alphabetic\n",
      "in\n",
      "order\n",
      "program\n",
      "python\n",
      "sort\n",
      "to\n",
      "words\n",
      "write\n"
     ]
    }
   ],
   "source": [
    "sentence.words_sort()"
   ]
  },
  {
   "cell_type": "markdown",
   "metadata": {},
   "source": [
    "# Write a Python Program to Remove Punctuation From a String?\n"
   ]
  },
  {
   "cell_type": "code",
   "execution_count": 14,
   "metadata": {},
   "outputs": [],
   "source": [
    "class Words:\n",
    "    \"\"\"\n",
    "    This class is for String, It will take one argument,\n",
    "    words = A sentence or set of string.\n",
    "    \"\"\"\n",
    "    def __init__(self, words):\n",
    "        self.words = words\n",
    "        \n",
    "    def words_sort(self):\n",
    "        \"\"\"\n",
    "        This method sort the string in a Alphabetic order.\n",
    "        \"\"\"\n",
    "        try:\n",
    "            words = []\n",
    "            for word in self.words.split():\n",
    "                words.append(word.lower())\n",
    "            words.sort()\n",
    "            \n",
    "            for word in words:\n",
    "                print(word)\n",
    "        \n",
    "        except Exception as e:\n",
    "            return e\n",
    "        \n",
    "    def remove_punctuation(self):\n",
    "        \"\"\"\n",
    "        This method will remove all the punctuations from String.\n",
    "        \"\"\"\n",
    "        try:\n",
    "            punctuations = '''!()-[]{};:'\"\\,<>./?@#$%^&*_~'''\n",
    "            no_punctuation = ''\n",
    "\n",
    "            for word in self.words:\n",
    "                if word not in punctuations:\n",
    "                    no_punctuation = no_punctuation + word\n",
    "            \n",
    "            return no_punctuation\n",
    "        \n",
    "        except Exception as e:\n",
    "            return e\n",
    "\n",
    "    \n",
    "    def __str__(self):\n",
    "        return 'This Words class gives you method about string'\n"
   ]
  },
  {
   "cell_type": "code",
   "execution_count": 15,
   "metadata": {},
   "outputs": [],
   "source": [
    "mystring = 'How are you? Hope you are doing good!!'"
   ]
  },
  {
   "cell_type": "code",
   "execution_count": 16,
   "metadata": {},
   "outputs": [],
   "source": [
    "sentence = Words(mystring)"
   ]
  },
  {
   "cell_type": "code",
   "execution_count": 17,
   "metadata": {},
   "outputs": [
    {
     "data": {
      "text/plain": [
       "'How are you Hope you are doing good'"
      ]
     },
     "execution_count": 17,
     "metadata": {},
     "output_type": "execute_result"
    }
   ],
   "source": [
    "sentence.remove_punctuation()"
   ]
  },
  {
   "cell_type": "code",
   "execution_count": null,
   "metadata": {},
   "outputs": [],
   "source": []
  }
 ],
 "metadata": {
  "kernelspec": {
   "display_name": "Python 3",
   "language": "python",
   "name": "python3"
  },
  "language_info": {
   "codemirror_mode": {
    "name": "ipython",
    "version": 3
   },
   "file_extension": ".py",
   "mimetype": "text/x-python",
   "name": "python",
   "nbconvert_exporter": "python",
   "pygments_lexer": "ipython3",
   "version": "3.7.6"
  }
 },
 "nbformat": 4,
 "nbformat_minor": 4
}
