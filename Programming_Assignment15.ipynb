{
 "cells": [
  {
   "cell_type": "markdown",
   "metadata": {},
   "source": [
    "## Question 1:\n",
    "### Please write a program using generator to print the numbers which can be divisible by 5 and 7 between 0 and n in comma separated form while n is input by console.\n",
    "#### Example:\n",
    "* If the following n is given as input to the program:\n",
    "* 100\n",
    "* Then, the output of the program should be:\n",
    "* 0,35,70\n"
   ]
  },
  {
   "cell_type": "code",
   "execution_count": 1,
   "metadata": {},
   "outputs": [],
   "source": [
    "def div5_7_gnratr(num):\n",
    "    \"\"\"\n",
    "    This fucntion is for genrating numbers which are divisible by 5 and 7.\n",
    "    \n",
    "    It will take one argument\n",
    "    num = num as a range of 0-n \n",
    "    \n",
    "    Output: It will generate all those numbers which are divisible by 5 and 7.\n",
    "    \"\"\"\n",
    "    for i in range(num+1):\n",
    "        if (i%5==0) and (i%7==0):\n",
    "            yield i\n",
    "        else:\n",
    "            pass\n",
    "\n",
    "            "
   ]
  },
  {
   "cell_type": "code",
   "execution_count": 2,
   "metadata": {},
   "outputs": [
    {
     "name": "stdout",
     "output_type": "stream",
     "text": [
      "Enter the range of Number: 100\n",
      "0,35,70\n"
     ]
    }
   ],
   "source": [
    "n=int(input(\"Enter the range of Number: \"))\n",
    "values = []\n",
    "for i in div5_7_gnratr(n):\n",
    "    values.append(str(i))\n",
    "\n",
    "print(\",\".join(values))"
   ]
  },
  {
   "cell_type": "markdown",
   "metadata": {},
   "source": [
    "## Question 2:\n",
    "### Please write a program using generator to print the even numbers between 0 and n in comma separated form while n is input by console.\n",
    "#### Example:\n",
    "* If the following n is given as input to the program:\n",
    "* 10\n",
    "* Then, the output of the program should be:\n",
    "* 0,2,4,6,8,10"
   ]
  },
  {
   "cell_type": "code",
   "execution_count": 3,
   "metadata": {},
   "outputs": [],
   "source": [
    "def even_genratr(num):\n",
    "    \"\"\"\n",
    "    This fucntion is for genrating Even numbers.\n",
    "    \n",
    "    It will take one argument\n",
    "    num = num as a range of 0-n \n",
    "    \n",
    "    Output: It will generate all those numbers which are Even.\n",
    "    \"\"\"\n",
    "    for i in range(num+1):\n",
    "        if i%2==0:\n",
    "            yield i\n",
    "        else:\n",
    "            pass\n"
   ]
  },
  {
   "cell_type": "code",
   "execution_count": 4,
   "metadata": {},
   "outputs": [
    {
     "name": "stdout",
     "output_type": "stream",
     "text": [
      "Enter the range of Number: 10\n",
      "0,2,4,6,8,10\n"
     ]
    }
   ],
   "source": [
    "n=int(input(\"Enter the range of Number: \"))\n",
    "values = []\n",
    "for i in even_genratr(n):\n",
    "    values.append(str(i))\n",
    "\n",
    "print(\",\".join(values))"
   ]
  },
  {
   "cell_type": "markdown",
   "metadata": {},
   "source": [
    "## Question 3:\n",
    "### The Fibonacci Sequence is computed based on the following formula:\n",
    "* f(n)=0 if n=0\n",
    "* f(n)=1 if n=1\n",
    "* f(n)=f(n-1)+f(n-2) if n>1\n",
    "\n",
    "### Please write a program using list comprehension to print the Fibonacci Sequence in comma separated form with a given n input by console.\n",
    "##### Example:\n",
    "* If the following n is given as input to the program:\n",
    "* 7\n",
    "\n",
    "* Then, the output of the program should be:\n",
    "* 0,1,1,2,3,5,8,13"
   ]
  },
  {
   "cell_type": "code",
   "execution_count": 5,
   "metadata": {},
   "outputs": [
    {
     "name": "stdout",
     "output_type": "stream",
     "text": [
      "Enter the range of Number: 7\n",
      "0,1,1,2,3,5,8,13\n"
     ]
    }
   ],
   "source": [
    "def fibonacci(n):\n",
    "    if n == 0: \n",
    "        return 0\n",
    "    elif n == 1: \n",
    "        return 1\n",
    "    else: \n",
    "        return fibonacci(n-1)+fibonacci(n-2)\n",
    "\n",
    "n=int(input(\"Enter the range of Number: \"))\n",
    "values = [str(fibonacci(x)) for x in range(0, n+1)]\n",
    "print(\",\".join(values))"
   ]
  },
  {
   "cell_type": "markdown",
   "metadata": {},
   "source": [
    "## Question 4:\n",
    "### Assuming that we have some email addresses in the \"username@companyname.com\" format, please write program to print the user name of a given email address. Both user names and company names are composed of letters only.\n",
    "#### Example:\n",
    "* If the following email address is given as input to the program:\n",
    "* john@google.com\n",
    "* Then, the output of the program should be:\n",
    "* john"
   ]
  },
  {
   "cell_type": "code",
   "execution_count": 6,
   "metadata": {},
   "outputs": [],
   "source": [
    "def name_finder(email):\n",
    "    \"\"\"\n",
    "    This function if for finding names from given emails.abs\n",
    "    \n",
    "    It will take one argument\n",
    "    email = eamil as an email of a user. ex --> harry@gmail.com\n",
    "    \n",
    "    Output: It will give name which is present in the email.\n",
    "    \"\"\"\n",
    "    import re\n",
    "    pattern = \"(\\w+)@\\w+.com\"\n",
    "    \n",
    "    if type(email) == str:\n",
    "        nme = re.findall(pattern,email)\n",
    "        return nme\n",
    "    \n",
    "    elif type(email) == list:\n",
    "        name_lst = []\n",
    "        for em in email:\n",
    "            nme = re.findall(pattern, em)\n",
    "            name_lst = name_lst + nme\n",
    "        return name_lst\n",
    "    \n",
    "    else:\n",
    "        pass\n",
    "            \n",
    "        "
   ]
  },
  {
   "cell_type": "code",
   "execution_count": 7,
   "metadata": {},
   "outputs": [
    {
     "data": {
      "text/plain": [
       "['john']"
      ]
     },
     "execution_count": 7,
     "metadata": {},
     "output_type": "execute_result"
    }
   ],
   "source": [
    "name_finder('john@gmail.com')"
   ]
  },
  {
   "cell_type": "code",
   "execution_count": 8,
   "metadata": {},
   "outputs": [
    {
     "data": {
      "text/plain": [
       "['john', 'harry', 'sarthak', 'sammer']"
      ]
     },
     "execution_count": 8,
     "metadata": {},
     "output_type": "execute_result"
    }
   ],
   "source": [
    "name = ['john@gmail.com', 'harry@google.com', 'sarthak@yahoo.com', 'sammer@gmail.com']\n",
    "name_finder(name)"
   ]
  },
  {
   "cell_type": "markdown",
   "metadata": {},
   "source": [
    "## Question 5:\n",
    "### Define a class named Shape and its subclass Square. The Square class has an init function which takes a length as argument. Both classes have a area function which can print the area of the shape where Shape's area is 0 by default.\n"
   ]
  },
  {
   "cell_type": "code",
   "execution_count": 9,
   "metadata": {},
   "outputs": [],
   "source": [
    "class Shape:\n",
    "    def __init__(self):\n",
    "        pass\n",
    "\n",
    "    def area(self):\n",
    "        return 0\n",
    "    \n",
    "    \n",
    "    \n",
    "class Square(Shape):\n",
    "    def __init__(self,length = 0):\n",
    "        Shape.__init__(self)\n",
    "        self.length = length\n",
    "        \n",
    "    def area(self):\n",
    "        return self.length*self.length\n",
    "\n",
    "    "
   ]
  },
  {
   "cell_type": "code",
   "execution_count": 10,
   "metadata": {},
   "outputs": [
    {
     "name": "stdout",
     "output_type": "stream",
     "text": [
      "25\n",
      "0\n"
     ]
    }
   ],
   "source": [
    "Sq = Square(5)\n",
    "print(Sq.area())      \n",
    "\n",
    "print(Square().area())  "
   ]
  }
 ],
 "metadata": {
  "kernelspec": {
   "display_name": "Python 3",
   "language": "python",
   "name": "python3"
  },
  "language_info": {
   "codemirror_mode": {
    "name": "ipython",
    "version": 3
   },
   "file_extension": ".py",
   "mimetype": "text/x-python",
   "name": "python",
   "nbconvert_exporter": "python",
   "pygments_lexer": "ipython3",
   "version": "3.7.6"
  }
 },
 "nbformat": 4,
 "nbformat_minor": 4
}
