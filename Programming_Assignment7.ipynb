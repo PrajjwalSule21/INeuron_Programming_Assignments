{
 "cells": [
  {
   "cell_type": "markdown",
   "metadata": {},
   "source": [
    "### 1.\tWrite a Python Program to find sum of array?"
   ]
  },
  {
   "cell_type": "code",
   "execution_count": 1,
   "metadata": {},
   "outputs": [],
   "source": [
    "class Array:\n",
    "    \"\"\"\n",
    "    This is Array class, it will take one argument,\n",
    "    arr = list\n",
    "    \"\"\"\n",
    "    def __init__(self, arr):\n",
    "        self.array = arr\n",
    "        \n",
    "    def sumarray(self):\n",
    "        try:\n",
    "            total = 0\n",
    "            for itm in self.array:\n",
    "                total = total + itm\n",
    "            return f\"This the Sum: {total} of your array {self.array}\"\n",
    "        except Exception as e:\n",
    "            return e\n",
    "    \n",
    "    def __str__(self):\n",
    "        return 'This Class will give the sum of your array %d'%(self.array)\n",
    "            "
   ]
  },
  {
   "cell_type": "code",
   "execution_count": 2,
   "metadata": {},
   "outputs": [],
   "source": [
    "array = Array([1,2,3,4,5,6,7,8,9])"
   ]
  },
  {
   "cell_type": "code",
   "execution_count": 3,
   "metadata": {},
   "outputs": [
    {
     "data": {
      "text/plain": [
       "'This the Sum: 45 of your array [1, 2, 3, 4, 5, 6, 7, 8, 9]'"
      ]
     },
     "execution_count": 3,
     "metadata": {},
     "output_type": "execute_result"
    }
   ],
   "source": [
    "array.sumarray()"
   ]
  },
  {
   "cell_type": "markdown",
   "metadata": {},
   "source": [
    "### 2.\tWrite a Python Program to find largest element in an array?\n"
   ]
  },
  {
   "cell_type": "code",
   "execution_count": 4,
   "metadata": {},
   "outputs": [],
   "source": [
    "class LargestElement:\n",
    "    def __init__(self,arr):\n",
    "        self.array = arr\n",
    "        \n",
    "    def FindLargestElement(self):\n",
    "        try:\n",
    "            \n",
    "            self.array.sort()\n",
    "            setarray = set(self.array)  # removing the duplicates value\n",
    "            listarray = list(setarray)\n",
    "            return \"Lagest Element of your array %s is --> %d\"%(listarray,self.array[-1])\n",
    "        except Exception as e:\n",
    "            return e\n",
    "            \n",
    "    def __str__(self):\n",
    "        return 'This Class will give the Largest element of your array %d'%(self.array)\n",
    "            "
   ]
  },
  {
   "cell_type": "code",
   "execution_count": 5,
   "metadata": {},
   "outputs": [],
   "source": [
    "array = LargestElement([1,2,3,4,5,65,4,3,2,3,4,5,67,5,3,22])"
   ]
  },
  {
   "cell_type": "code",
   "execution_count": 6,
   "metadata": {},
   "outputs": [
    {
     "data": {
      "text/plain": [
       "'Lagest Element of your array [1, 2, 3, 4, 5, 65, 67, 22] is --> 67'"
      ]
     },
     "execution_count": 6,
     "metadata": {},
     "output_type": "execute_result"
    }
   ],
   "source": [
    "array.FindLargestElement()"
   ]
  },
  {
   "cell_type": "markdown",
   "metadata": {},
   "source": [
    "### 3.\tWrite a Python Program for array rotation?\n"
   ]
  },
  {
   "cell_type": "code",
   "execution_count": 7,
   "metadata": {},
   "outputs": [],
   "source": [
    "class Rotationarray:\n",
    "    def __init__(self, arr):\n",
    "        self.array = arr\n",
    "        \n",
    "    def rotate(self):\n",
    "        try:\n",
    "            roted_array = []\n",
    "            i = -1\n",
    "            while True:\n",
    "                roted_array.append(self.array[i])\n",
    "                i = i - 1\n",
    "                if i < -(len(self.array)):\n",
    "                    break\n",
    "            return f\"Your array is {self.array} and the rotated array is {roted_array}\"\n",
    "        except Exception as e:\n",
    "            return e\n",
    "        \n",
    "    def __str__(self):\n",
    "        return 'This Class will give the Rotated array of your array %d'%(self.array)"
   ]
  },
  {
   "cell_type": "code",
   "execution_count": 8,
   "metadata": {},
   "outputs": [],
   "source": [
    "array = Rotationarray([1,2,3,4,5])"
   ]
  },
  {
   "cell_type": "code",
   "execution_count": 9,
   "metadata": {},
   "outputs": [
    {
     "data": {
      "text/plain": [
       "'Your array is [1, 2, 3, 4, 5] and the rotated array is [5, 4, 3, 2, 1]'"
      ]
     },
     "execution_count": 9,
     "metadata": {},
     "output_type": "execute_result"
    }
   ],
   "source": [
    "array.rotate()"
   ]
  },
  {
   "cell_type": "markdown",
   "metadata": {},
   "source": [
    "### 4.\tWrite a Python Program to Split the array and add the first part to the end?"
   ]
  },
  {
   "cell_type": "code",
   "execution_count": 10,
   "metadata": {},
   "outputs": [],
   "source": [
    "class Splitarray:\n",
    "    def __init__(self, arr):\n",
    "        self.array = arr\n",
    "        \n",
    "    def splitarr(self):\n",
    "        try:\n",
    "            count = 0                            # first three line of code will give me the length of array.\n",
    "            for i in self.array:\n",
    "                count = count + 1\n",
    "            \n",
    "            array_total = count                      \n",
    "            array_equal = int(count/2)               # divide array in equal parts, if there is floating value then typecast in integer.\n",
    "            array_left = array_total - array_equal   # gives the left out number of the array.\n",
    "            \n",
    "            array_one = []\n",
    "            array_two = []\n",
    "            \n",
    "            for indx, itm in enumerate(self.array):\n",
    "                array_one.append(itm)\n",
    "                if indx == (array_equal - 1):\n",
    "                    break\n",
    "            \n",
    "            for indx, itm in enumerate(self.array):\n",
    "                if (array_equal - 1) < indx:\n",
    "                    array_two.append(itm)\n",
    "                    \n",
    "            return f\"Your orignal array : {self.array} and after spliting and joining your array: {array_two + array_one}\"\n",
    "        \n",
    "        except Exception as e:\n",
    "            return e\n",
    "        \n",
    "    def __str__(self):\n",
    "        return 'This Class will give the split your array and join the first part to the end %d'%(self.array)"
   ]
  },
  {
   "cell_type": "code",
   "execution_count": 11,
   "metadata": {},
   "outputs": [],
   "source": [
    "array = Splitarray([1,2,3,4,5])"
   ]
  },
  {
   "cell_type": "code",
   "execution_count": 12,
   "metadata": {},
   "outputs": [
    {
     "data": {
      "text/plain": [
       "'Your orignal array : [1, 2, 3, 4, 5] and after spliting and joining your array: [3, 4, 5, 1, 2]'"
      ]
     },
     "execution_count": 12,
     "metadata": {},
     "output_type": "execute_result"
    }
   ],
   "source": [
    "array.splitarr()"
   ]
  },
  {
   "cell_type": "code",
   "execution_count": 13,
   "metadata": {},
   "outputs": [
    {
     "data": {
      "text/plain": [
       "'Your orignal array : [1, 2, 3, 4, 5, 6] and after spliting and joining your array: [4, 5, 6, 1, 2, 3]'"
      ]
     },
     "execution_count": 13,
     "metadata": {},
     "output_type": "execute_result"
    }
   ],
   "source": [
    "array = Splitarray([1,2,3,4,5,6])\n",
    "array.splitarr()"
   ]
  },
  {
   "cell_type": "markdown",
   "metadata": {},
   "source": [
    "### 5.\tWrite a Python Program to check if given array is Monotonic?\n"
   ]
  },
  {
   "cell_type": "code",
   "execution_count": 14,
   "metadata": {},
   "outputs": [],
   "source": [
    "class MonotonicArray:\n",
    "    def __init__(self, arr):\n",
    "        self.array = arr\n",
    "    \n",
    "    def monotonicarr(self):\n",
    "        return (all(self.array[i] <= self.array[i + 1] for i in range(len(self.array) - 1)) or\n",
    "                all(self.array[i] >= self.array[i + 1] for i in range(len(self.array) - 1)))\n",
    "    \n",
    "    def __str__(self):\n",
    "        return 'This Class will help to check the array is monotonic or Not%d'%(self.array)"
   ]
  },
  {
   "cell_type": "code",
   "execution_count": 15,
   "metadata": {},
   "outputs": [
    {
     "data": {
      "text/plain": [
       "True"
      ]
     },
     "execution_count": 15,
     "metadata": {},
     "output_type": "execute_result"
    }
   ],
   "source": [
    "array = MonotonicArray([1,2,3,4,5])\n",
    "array.monotonicarr()"
   ]
  },
  {
   "cell_type": "code",
   "execution_count": 16,
   "metadata": {},
   "outputs": [
    {
     "data": {
      "text/plain": [
       "False"
      ]
     },
     "execution_count": 16,
     "metadata": {},
     "output_type": "execute_result"
    }
   ],
   "source": [
    "array = MonotonicArray([12,24,34,41,15])\n",
    "array.monotonicarr()"
   ]
  },
  {
   "cell_type": "markdown",
   "metadata": {},
   "source": [
    "# Solution of all the question in one class."
   ]
  },
  {
   "cell_type": "code",
   "execution_count": 17,
   "metadata": {},
   "outputs": [],
   "source": [
    "class Array:\n",
    "    \"\"\"\n",
    "    This is Array class, it will take one argument,\n",
    "    arr = list datatype as an input\n",
    "    \n",
    "    example : object = Array([1,2,3,4,5,6,7,8,9,0])\n",
    "    \n",
    "    \"\"\"\n",
    "    def __init__(self, arr):\n",
    "        self.array = arr\n",
    "        \n",
    "    def sumArray(self):\n",
    "        try:\n",
    "            total = 0                     \n",
    "            for itm in self.array:\n",
    "                total = total + itm\n",
    "            return f\"This the Sum: {total} of your array {self.array}\"\n",
    "        except Exception as e:\n",
    "            return e\n",
    "        \n",
    "    def lagestelementArray(self):\n",
    "        try:\n",
    "            self.array.sort()\n",
    "            setarray = set(self.array)  # removing the duplicates value\n",
    "            listarray = list(setarray)\n",
    "            return \"Lagest Element of your array %s is --> %d\"%(listarray,self.array[-1])\n",
    "        except Exception as e:\n",
    "            return e\n",
    "            \n",
    "    def rotateArray(self):\n",
    "        try:\n",
    "            roted_array = []\n",
    "            i = -1\n",
    "            while True:\n",
    "                roted_array.append(self.array[i])\n",
    "                i = i - 1\n",
    "                if i < -(len(self.array)):   # -(len(self.array)) gives negative value like : -4 or -7\n",
    "                    break\n",
    "            return f\"Your array is {self.array} and the rotated array is {roted_array}\"\n",
    "        except Exception as e:\n",
    "            return e\n",
    "    \n",
    "    def splitArray(self):\n",
    "        try:\n",
    "            count = 0                            # first three line of code will give the length of array.\n",
    "            for i in self.array:\n",
    "                count = count + 1\n",
    "            \n",
    "            array_total = count                      \n",
    "            array_equal = int(count/2)               # divide array in equal parts, if there is floating value then typecast in integer.\n",
    "            \n",
    "            array_one = []\n",
    "            array_two = []\n",
    "            \n",
    "            for indx, itm in enumerate(self.array):  # this loop gives the first array.\n",
    "                array_one.append(itm)\n",
    "                if indx == (array_equal - 1):        # if array_equal is 2 so, this loops iterate only for 0th and 1st position of self.array.\n",
    "                    break\n",
    "            \n",
    "            for indx, itm in enumerate(self.array):  # this loop gives the second array.\n",
    "                if (array_equal - 1) < indx:         # this loops iterate only for the remaining positions of self.array.\n",
    "                    array_two.append(itm)\n",
    "                    \n",
    "            return f\"Your orignal array : {self.array} and after spliting and joining your array: {array_two + array_one}\"\n",
    "        \n",
    "        except Exception as e:\n",
    "            return e\n",
    "        \n",
    "    def monotonicArray(self):\n",
    "        return (all(self.array[i] <= self.array[i + 1] for i in range(len(self.array) - 1)) or\n",
    "                all(self.array[i] >= self.array[i + 1] for i in range(len(self.array) - 1)))\n",
    "        \n",
    "    def __str__(self):\n",
    "        return 'This Class is only for Array it will take list as an input and do some operations on that like.'\n",
    "    \n"
   ]
  },
  {
   "cell_type": "code",
   "execution_count": 18,
   "metadata": {},
   "outputs": [],
   "source": [
    "array = Array([1,2,3,4,5])"
   ]
  },
  {
   "cell_type": "code",
   "execution_count": 19,
   "metadata": {},
   "outputs": [
    {
     "data": {
      "text/plain": [
       "'Lagest Element of your array [1, 2, 3, 4, 5] is --> 5'"
      ]
     },
     "execution_count": 19,
     "metadata": {},
     "output_type": "execute_result"
    }
   ],
   "source": [
    "array.lagestelementArray()"
   ]
  },
  {
   "cell_type": "code",
   "execution_count": 20,
   "metadata": {},
   "outputs": [
    {
     "data": {
      "text/plain": [
       "True"
      ]
     },
     "execution_count": 20,
     "metadata": {},
     "output_type": "execute_result"
    }
   ],
   "source": [
    "array.monotonicArray()"
   ]
  },
  {
   "cell_type": "code",
   "execution_count": 21,
   "metadata": {},
   "outputs": [
    {
     "data": {
      "text/plain": [
       "'Your array is [1, 2, 3, 4, 5] and the rotated array is [5, 4, 3, 2, 1]'"
      ]
     },
     "execution_count": 21,
     "metadata": {},
     "output_type": "execute_result"
    }
   ],
   "source": [
    "array.rotateArray()"
   ]
  },
  {
   "cell_type": "code",
   "execution_count": 22,
   "metadata": {},
   "outputs": [
    {
     "data": {
      "text/plain": [
       "'Your orignal array : [1, 2, 3, 4, 5] and after spliting and joining your array: [3, 4, 5, 1, 2]'"
      ]
     },
     "execution_count": 22,
     "metadata": {},
     "output_type": "execute_result"
    }
   ],
   "source": [
    "array.splitArray()"
   ]
  },
  {
   "cell_type": "code",
   "execution_count": 23,
   "metadata": {},
   "outputs": [
    {
     "data": {
      "text/plain": [
       "'This the Sum: 15 of your array [1, 2, 3, 4, 5]'"
      ]
     },
     "execution_count": 23,
     "metadata": {},
     "output_type": "execute_result"
    }
   ],
   "source": [
    "array.sumArray()"
   ]
  },
  {
   "cell_type": "code",
   "execution_count": null,
   "metadata": {},
   "outputs": [],
   "source": []
  }
 ],
 "metadata": {
  "kernelspec": {
   "display_name": "Python 3",
   "language": "python",
   "name": "python3"
  },
  "language_info": {
   "codemirror_mode": {
    "name": "ipython",
    "version": 3
   },
   "file_extension": ".py",
   "mimetype": "text/x-python",
   "name": "python",
   "nbconvert_exporter": "python",
   "pygments_lexer": "ipython3",
   "version": "3.7.4"
  }
 },
 "nbformat": 4,
 "nbformat_minor": 4
}
