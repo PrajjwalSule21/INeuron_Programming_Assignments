{
 "cells": [
  {
   "cell_type": "markdown",
   "metadata": {},
   "source": [
    "## 1.Write a function that takes a list and a number as arguments. Add the number to the end of the list, then remove the first element of the list. The function should then return the updated list.\n",
    "**Examples:**  \n",
    "`next_in_line([5, 6, 7, 8, 9], 1) ➞ [6, 7, 8, 9, 1]`  \n",
    "`next_in_line([7, 6, 3, 23, 17], 10) ➞ [6, 3, 23, 17, 10]`  \n",
    "`next_in_line([1, 10, 20, 42 ], 6) ➞ [10, 20, 42, 6]`  \n",
    "`next_in_line([], 6) ➞ \"No list has been selected\"`  "
   ]
  },
  {
   "cell_type": "code",
   "execution_count": 1,
   "metadata": {},
   "outputs": [],
   "source": [
    "def next_in_line(lst,num):\n",
    "    \"\"\"\n",
    "    This fucntion is for adding the specific number at end of list.\n",
    "    \n",
    "    It will take two arguments -> lst, num\n",
    "    lst = lst as a list of varoius elements.\n",
    "    num = num as a sepcific argument in form of integer.\n",
    "    \n",
    "    Output: It will return the list of integers with the specific argument at the end of list.\n",
    "    \"\"\"\n",
    "    if len(lst) > 1:\n",
    "        lst_copy = lst.copy()\n",
    "        lst.append(num)\n",
    "        lst.remove(lst[0])\n",
    "        return f'next_in_line({lst_copy},{num}) --> {lst}'\n",
    "    else:\n",
    "        return 'No list has been selected'"
   ]
  },
  {
   "cell_type": "code",
   "execution_count": 2,
   "metadata": {},
   "outputs": [
    {
     "name": "stdout",
     "output_type": "stream",
     "text": [
      "next_in_line([1, 2, 3, 4],0) --> [2, 3, 4, 0]\n",
      "next_in_line([7, 6, 3, 23, 17],10) --> [6, 3, 23, 17, 10]\n",
      "No list has been selected\n"
     ]
    }
   ],
   "source": [
    "print(next_in_line([1,2,3,4],0))\n",
    "print(next_in_line([7, 6, 3, 23, 17], 10))\n",
    "print(next_in_line([],6))"
   ]
  },
  {
   "cell_type": "markdown",
   "metadata": {},
   "source": [
    "## 2.Create the function that takes a list of dictionaries and returns the sum of people's budgets.\n",
    "**Examples:**  \n",
    "`get_budgets([\n",
    "{ \"name\": \"John\", \"age\": 21, \"budget\": 23000 },\n",
    "{ \"name\": \"Steve\", \"age\": 32, \"budget\": 40000 },\n",
    "{ \"name\": \"Martin\", \"age\": 16, \"budget\": 2700 }\n",
    "]) ➞ 65700`\n",
    "\n",
    "`get_budgets([\n",
    "{ \"name\": \"John\", \"age\": 21, \"budget\": 29000 },\n",
    "{ \"name\": \"Steve\", \"age\": 32, \"budget\": 32000 },\n",
    "{ \"name\": \"Martin\", \"age\": 16, \"budget\": 1600 }\n",
    "]) ➞ 62600`"
   ]
  },
  {
   "cell_type": "code",
   "execution_count": 3,
   "metadata": {},
   "outputs": [],
   "source": [
    "def get_budgets(lst):\n",
    "    \"\"\"\n",
    "    This fucntion is for returning the sum of people's budget from the list of dictionaries.\n",
    "    \n",
    "    It will take one argument -> lst\n",
    "    lst = lst as a list of various dictionaries.\n",
    "    \n",
    "    Output: It will return the sum of people's budget.\n",
    "    \"\"\"\n",
    "    sum = 0\n",
    "    for i in lst:\n",
    "        sum += i[\"budget\"]\n",
    "    return f'get_budgets({lst}) --> {sum}'"
   ]
  },
  {
   "cell_type": "code",
   "execution_count": 4,
   "metadata": {},
   "outputs": [
    {
     "name": "stdout",
     "output_type": "stream",
     "text": [
      "get_budgets([{'name': 'John', 'age': 21, 'budget': 23000}, {'name': 'Steve', 'age': 32, 'budget': 40000}, {'name': 'Martin', 'age': 16, 'budget': 2700}]) --> 65700\n"
     ]
    }
   ],
   "source": [
    "print(get_budgets([\n",
    "{ \"name\": \"John\", \"age\": 21, \"budget\": 23000 },\n",
    "{ \"name\": \"Steve\", \"age\": 32, \"budget\": 40000 },\n",
    "{ \"name\": \"Martin\", \"age\": 16, \"budget\": 2700 }\n",
    "]))"
   ]
  },
  {
   "cell_type": "markdown",
   "metadata": {},
   "source": [
    "## 3.Create a function that takes a string and returns a string with its letters in alphabetical order.\n",
    "**Examples:**   \n",
    "`alphabet_soup(\"hello\") ➞ \"ehllo\"`  \n",
    "`alphabet_soup(\"edabit\") ➞ \"abdeit\"`  \n",
    "`alphabet_soup(\"hacker\") ➞ \"acehkr\"`  \n",
    "`alphabet_soup(\"geek\") ➞ \"eegk\"`  \n",
    "`alphabet_soup(\"javascript\") ➞ \"aacijprstv\"`  "
   ]
  },
  {
   "cell_type": "code",
   "execution_count": 5,
   "metadata": {},
   "outputs": [],
   "source": [
    "def alphabet_soup(sent):\n",
    "    \"\"\"\n",
    "    This fucntion is for returning the string with its letters in alphabetical order.\n",
    "    \n",
    "    It will take one argument -> sent\n",
    "    sent = sent as a string.\n",
    "    \n",
    "    Output: It will return the letter's of string in alphabetical order.\n",
    "    \"\"\"\n",
    "    output = ''.join(sorted(sent))\n",
    "    return f'alphabet_soup({sent}) --> {output}'"
   ]
  },
  {
   "cell_type": "code",
   "execution_count": 6,
   "metadata": {},
   "outputs": [
    {
     "name": "stdout",
     "output_type": "stream",
     "text": [
      "alphabet_soup(hello) --> ehllo\n",
      "alphabet_soup(geek) --> eegk\n"
     ]
    }
   ],
   "source": [
    "print(alphabet_soup('hello'))\n",
    "print(alphabet_soup('geek'))"
   ]
  },
  {
   "cell_type": "markdown",
   "metadata": {},
   "source": [
    "## 4.What will be the value of your investment at the end of the 10 year period?\n",
    "Create a function that accepts the principal p, the term in years t, the interest rate r, and the\n",
    "number of compounding periods per year n. The function returns the value at the end of term\n",
    "rounded to the nearest cent.\n",
    "\n",
    "\n",
    "**For the example above:**  \n",
    "`compound_interest(10000, 10, 0.06, 12) ➞ 18193.97`  \n",
    "Note that the interest rate is given as a decimal and n=12 because with monthly compounding\n",
    "there are 12 periods per year. Compounding can also be done annually, quarterly, weekly, or\n",
    "daily.  \n",
    "\n",
    "**Examples:**  \n",
    "`compound_interest(100, 1, 0.05, 1) ➞ 105.0`  \n",
    "`compound_interest(3500, 15, 0.1, 4) ➞ 15399.26`  \n",
    "`compound_interest(100000, 20, 0.15, 365) ➞ 2007316.26`  "
   ]
  },
  {
   "cell_type": "code",
   "execution_count": 7,
   "metadata": {},
   "outputs": [],
   "source": [
    "def compound_interest(p,y,r,n):\n",
    "    \"\"\"\n",
    "    This fucntion is for returning investment at the end of the 10 year period.\n",
    "    \n",
    "    It will take four arguments -> p,y,r,n\n",
    "    p = p as a principle in form of integer and float.\n",
    "    y = y as a year in form of integer.\n",
    "    r = r as a interest rate in form of float.\n",
    "    n = n as a compunding periods per year in form of integer.\n",
    "    \n",
    "    Output: It will return the value of investment at the end of the 10 year period.\n",
    "    \"\"\"\n",
    "    ci = p*(1+(r/n))**(n*y)\n",
    "    return f'compunt_interest({p}, {y}, {r}, {n}) --> {ci:.2f}'"
   ]
  },
  {
   "cell_type": "code",
   "execution_count": 8,
   "metadata": {},
   "outputs": [
    {
     "name": "stdout",
     "output_type": "stream",
     "text": [
      "compunt_interest(100, 1, 0.05, 1) --> 105.00\n",
      "compunt_interest(3500, 15, 0.1, 4) --> 15399.26\n"
     ]
    }
   ],
   "source": [
    "print(compound_interest(100, 1, 0.05, 1))\n",
    "print(compound_interest(3500, 15, 0.1, 4))"
   ]
  },
  {
   "cell_type": "markdown",
   "metadata": {},
   "source": [
    "## 5.Write a function that takes a list of elements and returns only the integers.\n",
    "**Examples:**  \n",
    "`return_only_integer([9, 2, \"space\", \"car\", \"lion\", 16]) ➞ [9, 2, 16]`  \n",
    "`return_only_integer([\"hello\", 81, \"basketball\", 123, \"fox\"]) ➞ [81, 123]`   \n",
    "`return_only_integer([10, \"121\", 56, 20, \"car\", 3, \"lion\"]) ➞ [10, 56, 20,3]`    \n",
    "`return_only_integer([\"String\", True, 3.3, 1]) ➞ [1]`"
   ]
  },
  {
   "cell_type": "code",
   "execution_count": 9,
   "metadata": {},
   "outputs": [],
   "source": [
    "def return_only_integer(lst):\n",
    "    \"\"\"\n",
    "    This fucntion is for returning only integers from a list of various elements.\n",
    "    \n",
    "    It will take one argument -> lst\n",
    "    lst = lst as a list of various elements.\n",
    "    \n",
    "    Output: It will return the list which is only having the integers inside it.\n",
    "    \"\"\"\n",
    "    output_lst = []\n",
    "    for i in lst:\n",
    "        if type(i) == int:\n",
    "            output_lst.append(i)\n",
    "    return f'return_only_integer({lst}) --> {output_lst}'"
   ]
  },
  {
   "cell_type": "code",
   "execution_count": 10,
   "metadata": {},
   "outputs": [
    {
     "name": "stdout",
     "output_type": "stream",
     "text": [
      "return_only_integer([9, 2, 'space', 'car', 'lion', 16]) --> [9, 2, 16]\n",
      "return_only_integer(['hello', 81, 'basketball', 123, 'fox']) --> [81, 123]\n",
      "return_only_integer(['hello', 'basketball', 3.3]) --> []\n"
     ]
    }
   ],
   "source": [
    "print(return_only_integer([9, 2, \"space\", \"car\", \"lion\", 16]))\n",
    "print(return_only_integer([\"hello\", 81, \"basketball\", 123, \"fox\"]))\n",
    "print(return_only_integer([\"hello\", \"basketball\", 3.3]))"
   ]
  },
  {
   "cell_type": "code",
   "execution_count": null,
   "metadata": {},
   "outputs": [],
   "source": []
  }
 ],
 "metadata": {
  "kernelspec": {
   "display_name": "Python 3",
   "language": "python",
   "name": "python3"
  },
  "language_info": {
   "codemirror_mode": {
    "name": "ipython",
    "version": 3
   },
   "file_extension": ".py",
   "mimetype": "text/x-python",
   "name": "python",
   "nbconvert_exporter": "python",
   "pygments_lexer": "ipython3",
   "version": "3.7.6"
  }
 },
 "nbformat": 4,
 "nbformat_minor": 4
}
