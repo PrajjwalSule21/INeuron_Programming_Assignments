{
 "cells": [
  {
   "cell_type": "markdown",
   "metadata": {},
   "source": [
    "## 1.Create a function that takes three parameters where:\n",
    "`x is the start of the range (inclusive).`    \n",
    "`y is the end of the range (inclusive).`    \n",
    "`n is the divisor to be checked against.`    \n",
    "\n",
    "Return an ordered list with numbers in the range that are divisible by the third parameter n.\n",
    "Return an empty list if there are no numbers that are divisible by n.\n",
    "**Examples:**  \n",
    "`list_operation(1, 10, 3) ➞ [3, 6, 9]`  \n",
    "`list_operation(7, 9, 2) ➞ [8]`  \n",
    "`list_operation(15, 20, 7) ➞ []`  "
   ]
  },
  {
   "cell_type": "code",
   "execution_count": 1,
   "metadata": {},
   "outputs": [],
   "source": [
    "def list_operation(x,y,n):\n",
    "    \"\"\"\n",
    "    This fucntion is for returning list based on start range, end of range and divisor to be checked against.\n",
    "    \n",
    "    It will take three argument -> x,y,n\n",
    "    x = x is the start of the range (inclusive).\n",
    "    y = y is the end of the range (inclusive).\n",
    "    n = n is the divisor to be checked against.\n",
    "    \n",
    "    Output: It will return the list based on these three arguments.\n",
    "    \"\"\"\n",
    "    output_lst = []\n",
    "    for i in range(x,y+1):\n",
    "        if i%n == 0:\n",
    "            output_lst.append(i)\n",
    "    return f'list_operation({x}, {y}, {n}) --> {output_lst}'"
   ]
  },
  {
   "cell_type": "code",
   "execution_count": 4,
   "metadata": {},
   "outputs": [
    {
     "name": "stdout",
     "output_type": "stream",
     "text": [
      "list_operation(1, 10, 3) --> [3, 6, 9]\n",
      "list_operation(7, 9, 2) --> [8]\n",
      "list_operation(15, 20, 7) --> []\n"
     ]
    }
   ],
   "source": [
    "print(list_operation(1,10,3))\n",
    "print(list_operation(7,9,2))\n",
    "print(list_operation(15,20,7))"
   ]
  },
  {
   "cell_type": "markdown",
   "metadata": {},
   "source": [
    "## 2.Create a function that takes two lists and returns True if the second list follows the first list by one element, and False otherwise. In other words, determine if the second list is the first list shifted to the right by 1.\n",
    "**Examples:**   \n",
    "`simon_says([1, 2], [5, 1]) ➞ True`  \n",
    "`simon_says([1, 2], [5, 5]) ➞ False`  \n",
    "`simon_says([1, 2, 3, 4, 5], [0, 1, 2, 3, 4]) ➞ True`  \n",
    "`simon_says([1, 2, 3, 4, 5], [5, 5, 1, 2, 3]) ➞ False`  \n",
    "\n",
    "**Notes:**  \n",
    "    1. Both input lists will be of the same length, and will have a minimum length of 2.  \n",
    "    2. The values of the 0-indexed element in the second list and the n-1th indexed element in the first list do not matter."
   ]
  },
  {
   "cell_type": "code",
   "execution_count": 9,
   "metadata": {},
   "outputs": [],
   "source": [
    "def simon_says(lst_1,lst_2):\n",
    "    \"\"\"\n",
    "    This fucntion is for checking two lists and returns if the fist element of second list follows first list shifted to the right by 1.\n",
    "    \n",
    "    It will take two arguments -> lst_1, lst_2\n",
    "    lst_1 = lst_1 as first list of integers.\n",
    "    lst_2 = lst_2 as second list of intgers.\n",
    "    \n",
    "    Output: It will return True if all conditions are satisfied and return False otherwise.\n",
    "    \"\"\"\n",
    "    if len(lst_1) == len(lst_1) and len(lst_1) >=2 and len(lst_1) >=2:\n",
    "        if(lst_1[:-1] == lst_2[1:]):\n",
    "            return f'simon_says({lst_1}, {lst_2}) --> {True}'\n",
    "        else:\n",
    "            return f'simon_says({lst_1}, {lst_2}) --> {False}'"
   ]
  },
  {
   "cell_type": "code",
   "execution_count": 8,
   "metadata": {},
   "outputs": [
    {
     "name": "stdout",
     "output_type": "stream",
     "text": [
      "simon_says([1, 2], [5, 1]) --> True\n",
      "simon_says([1, 2], [5, 5]) --> False\n",
      "simon_says([1, 2, 3, 4, 5], [5, 5, 1, 2, 3]) --> False\n"
     ]
    }
   ],
   "source": [
    "print(simon_says([1,2],[5,1]))\n",
    "print(simon_says([1, 2], [5, 5]))\n",
    "print(simon_says([1, 2, 3, 4, 5], [5, 5, 1, 2, 3]))"
   ]
  },
  {
   "cell_type": "markdown",
   "metadata": {},
   "source": [
    "## 3.A group of friends have decided to start a secret society. The name will be the first letter of each of their names, sorted in a alphabetical order ?  Create a function that takes in a list of names and returns the name of the secret society ?\n",
    "**Examples:**  \n",
    "`society_name([\"Adam\", \"Sarah\", \"Malcolm\"]) ➞ \"AMS\"`  \n",
    "`society_name([\"Harry\", \"Newt\", \"Luna\", \"Cho\"]) ➞ \"CHLN\"`  \n",
    "`society_name([\"Phoebe\", \"Chandler\", \"Rachel\", \"Ross\", \"Monica\", \"Joey\"])`"
   ]
  },
  {
   "cell_type": "code",
   "execution_count": 12,
   "metadata": {},
   "outputs": [],
   "source": [
    "def society_name(lst):\n",
    "    \"\"\"\n",
    "    This fucntion is for creating a secret society name by their founders name, alphabetically.\n",
    "    \n",
    "    It will take one argument -> lst\n",
    "    lst= lst as a list of names or strings.\n",
    "    \n",
    "    Output: It will return the name of secret society.\n",
    "    \"\"\"\n",
    "    output_string = []\n",
    "    for i in lst:\n",
    "        output_string.append(i[0])\n",
    "    output = ''.join(sorted(output_string))\n",
    "    return f'society_name({lst}) --> {output}'"
   ]
  },
  {
   "cell_type": "code",
   "execution_count": 13,
   "metadata": {},
   "outputs": [
    {
     "name": "stdout",
     "output_type": "stream",
     "text": [
      "society_name(['Adam', 'Sarah', 'Malcolm']) --> AMS\n",
      "society_name(['Harry', 'Newt', 'Luna', 'Cho']) --> CHLN\n",
      "society_name(['Data', 'Science', 'Jobs']) --> DJS\n"
     ]
    }
   ],
   "source": [
    "print(society_name([\"Adam\", \"Sarah\", \"Malcolm\"]))\n",
    "print(society_name([\"Harry\", \"Newt\", \"Luna\", \"Cho\"]))\n",
    "print(society_name(['Data', \"Science\", \"Jobs\"]))"
   ]
  },
  {
   "cell_type": "markdown",
   "metadata": {},
   "source": [
    "## 4.An isogram is a word that has no duplicate letters. Create a function that takes a string and returns either True or False depending on whether or not it's an \"isogram\".\n",
    "**Examples:**   \n",
    "`is_isogram(\"Algorism\") ➞ True`  \n",
    "`is_isogram(\"PasSword\") ➞ False`  \n",
    "    # Not case sensitive.   \n",
    "`is_isogram(\"Consecutive\") ➞ False`  \n",
    "\n",
    "**Notes:**  \n",
    "Ignore letter case (should not be case sensitive).  \n",
    "All test cases contain valid one word strings.  "
   ]
  },
  {
   "cell_type": "code",
   "execution_count": 14,
   "metadata": {},
   "outputs": [],
   "source": [
    "def is_isogram(sent):\n",
    "    \"\"\"\n",
    "    This fucntion is for checking the given string is isogram or not.\n",
    "    \n",
    "    It will take one argument -> sent\n",
    "    sent = sent as a string.\n",
    "    \n",
    "    Output: It will return True if the string is isogram and False otherwise.\n",
    "    \"\"\"\n",
    "    lower_sent = sent.lower()\n",
    "    if len(lower_sent) == len(set(lower_sent)):\n",
    "        return f'is_isogram({sent}) --> {True}'\n",
    "    else:\n",
    "        return f'is_isogram({sent}) --> {False}'"
   ]
  },
  {
   "cell_type": "code",
   "execution_count": 16,
   "metadata": {},
   "outputs": [
    {
     "name": "stdout",
     "output_type": "stream",
     "text": [
      "is_isogram(Algorism) --> True\n",
      "is_isogram(PasSword) --> False\n"
     ]
    }
   ],
   "source": [
    "print(is_isogram(\"Algorism\"))\n",
    "print(is_isogram(\"PasSword\"))"
   ]
  },
  {
   "cell_type": "markdown",
   "metadata": {},
   "source": [
    "## 5.Create a function that takes a string and returns True or False, depending on whether the characters are in order or not ?\n",
    "**Examples:**  \n",
    "`is_in_order(\"abc\") ➞ True`  \n",
    "`is_in_order(\"edabit\") ➞ False`  \n",
    "`is_in_order(\"123\") ➞ True`  \n",
    "`is_in_order(\"xyzz\") ➞ True`  \n",
    "\n",
    "**Notes:**  \n",
    "You don't have to handle empty strings."
   ]
  },
  {
   "cell_type": "code",
   "execution_count": 17,
   "metadata": {},
   "outputs": [],
   "source": [
    "def is_in_order(sent):\n",
    "    \"\"\"\n",
    "    This fucntion is for checking chracters of the given string are in order or not.\n",
    "    \n",
    "    It will take one argument -> sent\n",
    "    sent = sent as a string.\n",
    "    \n",
    "    Output: It will return True if the characters of string are in order and False otherwise.\n",
    "    \"\"\"\n",
    "    sent_sorted = ''.join(sorted(sent))\n",
    "    if sent == sent_sorted:\n",
    "        return f'is_in_order({sent}) --> {True}'\n",
    "    else:\n",
    "        return f'is_in_order({sent}) --> {False}'\n"
   ]
  },
  {
   "cell_type": "code",
   "execution_count": 18,
   "metadata": {},
   "outputs": [
    {
     "name": "stdout",
     "output_type": "stream",
     "text": [
      "is_in_order(abc) --> True\n",
      "is_in_order(edabit) --> False\n",
      "is_in_order(123) --> True\n",
      "is_in_order(xyzz) --> True\n"
     ]
    }
   ],
   "source": [
    "print(is_in_order(\"abc\"))\n",
    "print(is_in_order(\"edabit\"))\n",
    "print(is_in_order(\"123\"))\n",
    "print(is_in_order(\"xyzz\"))"
   ]
  },
  {
   "cell_type": "code",
   "execution_count": null,
   "metadata": {},
   "outputs": [],
   "source": []
  }
 ],
 "metadata": {
  "kernelspec": {
   "display_name": "Python 3",
   "language": "python",
   "name": "python3"
  },
  "language_info": {
   "codemirror_mode": {
    "name": "ipython",
    "version": 3
   },
   "file_extension": ".py",
   "mimetype": "text/x-python",
   "name": "python",
   "nbconvert_exporter": "python",
   "pygments_lexer": "ipython3",
   "version": "3.7.6"
  }
 },
 "nbformat": 4,
 "nbformat_minor": 4
}
