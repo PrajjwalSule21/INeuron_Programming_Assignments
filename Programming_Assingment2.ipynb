{
 "cells": [
  {
   "cell_type": "markdown",
   "metadata": {},
   "source": [
    "### 1.\tWrite a Python program to convert kilometers to miles?\n",
    "###### hint:  1 km has 0.621371 miles"
   ]
  },
  {
   "cell_type": "code",
   "execution_count": 16,
   "metadata": {},
   "outputs": [
    {
     "name": "stdout",
     "output_type": "stream",
     "text": [
      "Enter Kilometers: 2\n",
      "2 Kilometers has  1.24 Miles\n"
     ]
    }
   ],
   "source": [
    "def KiloMeter_to_Miles():\n",
    "    KiloMeter = int(input('Enter Kilometers: '))\n",
    "    miles = KiloMeter * 0.62      # we use 2 digits after a point\n",
    "    print(KiloMeter, 'Kilometers has ', miles, 'Miles')\n",
    "    \n",
    "KiloMeter_to_Miles()"
   ]
  },
  {
   "cell_type": "markdown",
   "metadata": {},
   "source": [
    "### 2.\tWrite a Python program to convert Celsius to Fahrenheit?\n",
    "##### : 0 celsius has 32 fahrenheit\n",
    "##### hint: 1 celsius has 33.8 fahrenheit\n"
   ]
  },
  {
   "cell_type": "code",
   "execution_count": 14,
   "metadata": {},
   "outputs": [
    {
     "name": "stdout",
     "output_type": "stream",
     "text": [
      "Enter Celsius: 0\n",
      "0 Celsius has 32 Fahrenheit\n"
     ]
    }
   ],
   "source": [
    "def Celsius_to_Fahrenheit():\n",
    "    celsius = int(input('Enter Celsius: '))\n",
    "    if celsius == 0:\n",
    "        print(celsius, 'Celsius has', '32 Fahrenheit')\n",
    "    else:\n",
    "        Fahrenheit = celsius * 33.8\n",
    "        print(celsius, 'Celsius has', Fahrenheit, 'Fahrenheit')\n",
    "        \n",
    "        \n",
    "Celsius_to_Fahrenheit()"
   ]
  },
  {
   "cell_type": "markdown",
   "metadata": {},
   "source": [
    "### 3.\tWrite a Python program to display calendar?\n",
    "#### Hint: Python has calendar module and with the help of that module we can display the calendar"
   ]
  },
  {
   "cell_type": "code",
   "execution_count": 19,
   "metadata": {},
   "outputs": [
    {
     "name": "stdout",
     "output_type": "stream",
     "text": [
      "Enter year: 2021\n",
      "Enter month: 4\n",
      "     April 2021\n",
      "Mo Tu We Th Fr Sa Su\n",
      "          1  2  3  4\n",
      " 5  6  7  8  9 10 11\n",
      "12 13 14 15 16 17 18\n",
      "19 20 21 22 23 24 25\n",
      "26 27 28 29 30\n",
      "\n"
     ]
    }
   ],
   "source": [
    "import calendar                  # importing calendar module\n",
    "\n",
    "def Display_Calendar():\n",
    "    # Enter the month and year.\n",
    "    Year = int(input(\"Enter year: \"))\n",
    "    Month = int(input(\"Enter month: \"))\n",
    "\n",
    "    # display the calendar.\n",
    "    print(calendar. month(Year, Month))\n",
    "    \n",
    "Display_Calendar()"
   ]
  },
  {
   "cell_type": "markdown",
   "metadata": {},
   "source": [
    "### 4.\tWrite a Python program to solve quadratic equation?\n",
    "#### Eq: ax2 + bx + c = 0"
   ]
  },
  {
   "cell_type": "code",
   "execution_count": 30,
   "metadata": {},
   "outputs": [
    {
     "name": "stdout",
     "output_type": "stream",
     "text": [
      "Solution for 0 is -1.5 \n",
      "Solution for 1 is -1.0\n"
     ]
    }
   ],
   "source": [
    "# formula = (-b ± (b ** 2 - 4 * a * c) ** 0.5) / 2 * a\n",
    "# eq = 2x2 – 5x + 3 = 0\n",
    "\n",
    "import math    # python has math module which will help us to do methametical problems\n",
    "\n",
    "def Solve_quadratic_eq(a,b,c):\n",
    "    f = (b**2) - (4*a*c)          #calculate the discriminant\n",
    "    \n",
    "    sol1 = (-b-math.sqrt(f))/(2*a)  # two solution for 0 and 1\n",
    "    sol2 = (-b+math.sqrt(f))/(2*a)\n",
    "\n",
    "    print('Solution for 0 is',sol1,'\\nSolution for 1 is', sol2)\n",
    "\n",
    "    \n",
    "    \n",
    "Solve_quadratic_eq(2,5,3)"
   ]
  },
  {
   "cell_type": "markdown",
   "metadata": {},
   "source": [
    "### 5.\tWrite a Python program to swap two variables without temp variable?\n"
   ]
  },
  {
   "cell_type": "code",
   "execution_count": 31,
   "metadata": {},
   "outputs": [
    {
     "name": "stdout",
     "output_type": "stream",
     "text": [
      "Before swapping a: 112 b: 211\n",
      "After swapping a: 211 b: 112\n"
     ]
    }
   ],
   "source": [
    "def Swappind_Variables(a, b):\n",
    "    \n",
    "    print('Before swapping a:',a,'b:',b)\n",
    "\n",
    "    a,b = b,a # swapping \n",
    "\n",
    "    print('After swapping a:',a,'b:',b)\n",
    "    \n",
    "Swappind_Variables(112, 211)"
   ]
  },
  {
   "cell_type": "code",
   "execution_count": null,
   "metadata": {},
   "outputs": [],
   "source": []
  }
 ],
 "metadata": {
  "kernelspec": {
   "display_name": "Python 3",
   "language": "python",
   "name": "python3"
  },
  "language_info": {
   "codemirror_mode": {
    "name": "ipython",
    "version": 3
   },
   "file_extension": ".py",
   "mimetype": "text/x-python",
   "name": "python",
   "nbconvert_exporter": "python",
   "pygments_lexer": "ipython3",
   "version": "3.7.6"
  }
 },
 "nbformat": 4,
 "nbformat_minor": 4
}
