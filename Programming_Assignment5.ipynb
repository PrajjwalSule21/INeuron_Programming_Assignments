{
 "cells": [
  {
   "cell_type": "markdown",
   "metadata": {},
   "source": [
    "### 1.Write a Python Program to Find LCM?"
   ]
  },
  {
   "cell_type": "code",
   "execution_count": 1,
   "metadata": {},
   "outputs": [],
   "source": [
    "# lCM = least common multiple\n",
    "\n",
    "def LCM(a,b):\n",
    "    \"\"\"\n",
    "    LCM : this function will help you to find the LCM of two numbers,\n",
    "    It will take two arguments \"a\" and \"b\" and both arguments must be integers.\n",
    "    \"\"\"\n",
    "    if a > b:\n",
    "        greater = a\n",
    "    else:\n",
    "        greater = b\n",
    "\n",
    "    while True:\n",
    "        if greater % a == 0 and greater % b == 0:\n",
    "            lcm = greater\n",
    "            break\n",
    "        greater = greater +  1\n",
    "\n",
    "    return lcm"
   ]
  },
  {
   "cell_type": "code",
   "execution_count": 2,
   "metadata": {},
   "outputs": [
    {
     "data": {
      "text/plain": [
       "36"
      ]
     },
     "execution_count": 2,
     "metadata": {},
     "output_type": "execute_result"
    }
   ],
   "source": [
    "LCM(12,18)"
   ]
  },
  {
   "cell_type": "markdown",
   "metadata": {},
   "source": [
    "### 2.Write a Python Program to Find HCF?"
   ]
  },
  {
   "cell_type": "code",
   "execution_count": 2,
   "metadata": {},
   "outputs": [],
   "source": [
    "# HCF = Highest Common factor\n",
    "\n",
    "def HCF(a,b):\n",
    "    \"\"\"\n",
    "    HCF : this function will help you to find the hcf of two numbers,\n",
    "    It will take two arguments \"a\" and \"b\" and both arguments must be integers.\n",
    "    \"\"\"\n",
    "    if a>b:\n",
    "        smaller = b\n",
    "    else:\n",
    "        smaller = a\n",
    "    for i in range(1, smaller+1):\n",
    "        if((a % i == 0) and (b % i == 0)):\n",
    "            HCF = i \n",
    "    return HCF "
   ]
  },
  {
   "cell_type": "code",
   "execution_count": 4,
   "metadata": {},
   "outputs": [
    {
     "data": {
      "text/plain": [
       "6"
      ]
     },
     "execution_count": 4,
     "metadata": {},
     "output_type": "execute_result"
    }
   ],
   "source": [
    "HCF(12,18)"
   ]
  },
  {
   "cell_type": "markdown",
   "metadata": {},
   "source": [
    "### 3.Write a Python Program to Convert Decimal to Binary, Octal and Hexadecimal?"
   ]
  },
  {
   "cell_type": "code",
   "execution_count": 10,
   "metadata": {},
   "outputs": [],
   "source": [
    "def Converter(a):\n",
    "    \"\"\"\n",
    "    This function will help you to Convert Decimal into Binary, Octal and Hexadecimal,\n",
    "    It will take only one argument \"a\" as an integer.\n",
    "    \"\"\"\n",
    "    print(f\"The value of {a} are:\")\n",
    "    print(bin(a), \"in binary.\")\n",
    "    print(oct(a), \"in octal.\")\n",
    "    print(hex(a), \"in hexadecimal.\")"
   ]
  },
  {
   "cell_type": "code",
   "execution_count": 12,
   "metadata": {},
   "outputs": [
    {
     "name": "stdout",
     "output_type": "stream",
     "text": [
      "The value of 212 are:\n",
      "0b11010100 in binary.\n",
      "0o324 in octal.\n",
      "0xd4 in hexadecimal.\n"
     ]
    }
   ],
   "source": [
    "Converter(212)"
   ]
  },
  {
   "cell_type": "markdown",
   "metadata": {},
   "source": [
    "### 4.Write a Python Program to Find ASCII value of a character?"
   ]
  },
  {
   "cell_type": "code",
   "execution_count": 13,
   "metadata": {},
   "outputs": [],
   "source": [
    "def ASCII_character(a):\n",
    "    \"\"\"\n",
    "    This function will help you to Find ASCII value of a character,\n",
    "    ASCII stands for \"American-Standard-Code-for-Information-Interchange\"\n",
    "    It will take only one argument \"a\" as an string.\n",
    "    \"\"\"\n",
    "    print(f\"The ASCII value of {a} is {ord(a)}\")"
   ]
  },
  {
   "cell_type": "code",
   "execution_count": 18,
   "metadata": {},
   "outputs": [
    {
     "name": "stdout",
     "output_type": "stream",
     "text": [
      "The ASCII value of t is 116\n"
     ]
    }
   ],
   "source": [
    "ASCII_character('t')"
   ]
  },
  {
   "cell_type": "markdown",
   "metadata": {},
   "source": [
    "### 5.Write a Python Program to Make a Simple Calculator with 4 basic mathematical operations?"
   ]
  },
  {
   "cell_type": "code",
   "execution_count": 25,
   "metadata": {},
   "outputs": [],
   "source": [
    "def Calci(a,b):\n",
    "    \"\"\"\n",
    "    This function works like a Calculator, it will compute only 4 basic mathematical operations,\n",
    "    like \"Addition\"> +, \"Subtraction\"> -, \"Multiplication\"> *, \"Division\"> //.\n",
    "    It will take two arguments \"a\" and \"b\" and both are in integer.\n",
    "    \"\"\"\n",
    "    print(\"Symbols are : +, -, *, //\")\n",
    "    x = input(\"Enter anyone Symbol: \")\n",
    "    if x == \"+\":\n",
    "        return a+b\n",
    "    elif x == \"-\":\n",
    "        return a-b\n",
    "    elif x == \"*\":\n",
    "        return a*b\n",
    "    elif x == \"//\":\n",
    "        return a//b\n",
    "    else:\n",
    "        return \"Error : Please select right symbol to use this calci\""
   ]
  },
  {
   "cell_type": "code",
   "execution_count": 26,
   "metadata": {},
   "outputs": [
    {
     "name": "stdout",
     "output_type": "stream",
     "text": [
      "Symbols are : +, -, *, //\n",
      "Enter anyone Symbol: =\n"
     ]
    },
    {
     "data": {
      "text/plain": [
       "'Error : Please select right symbol to use this calci'"
      ]
     },
     "execution_count": 26,
     "metadata": {},
     "output_type": "execute_result"
    }
   ],
   "source": [
    "Calci(18,2)"
   ]
  },
  {
   "cell_type": "code",
   "execution_count": null,
   "metadata": {},
   "outputs": [],
   "source": []
  }
 ],
 "metadata": {
  "kernelspec": {
   "display_name": "Python 3",
   "language": "python",
   "name": "python3"
  },
  "language_info": {
   "codemirror_mode": {
    "name": "ipython",
    "version": 3
   },
   "file_extension": ".py",
   "mimetype": "text/x-python",
   "name": "python",
   "nbconvert_exporter": "python",
   "pygments_lexer": "ipython3",
   "version": "3.7.6"
  }
 },
 "nbformat": 4,
 "nbformat_minor": 4
}
