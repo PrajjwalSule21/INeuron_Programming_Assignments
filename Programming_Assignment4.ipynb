{
 "cells": [
  {
   "cell_type": "markdown",
   "metadata": {},
   "source": [
    "### Q-1) Write a Python Program to Find the Factorial of a Number?\n",
    "#### Hint>> Factorial of 0 is 1 and there no factorial of negative number. If we found factorial of any number, suppose 5 so it will be like 5X4X3X2X1 multiplication of this number's will form factorial of 5.  "
   ]
  },
  {
   "cell_type": "code",
   "execution_count": 117,
   "metadata": {},
   "outputs": [],
   "source": [
    "def FactorialFinder(n):\n",
    "    \"\"\"\n",
    "    This function will take only one argument as an integer type.\n",
    "    \"\"\"\n",
    "    factorial = 1\n",
    "    if n < 0:\n",
    "        return 'Sorry there is no factorial for negative numbers'\n",
    "    elif n == 0:\n",
    "        return 'Factorial of 0 is 1'\n",
    "    else:\n",
    "        for i in range(1, n+1):\n",
    "            factorial = factorial * i\n",
    "        return f'Factorial of {n} is {factorial}'"
   ]
  },
  {
   "cell_type": "code",
   "execution_count": 118,
   "metadata": {},
   "outputs": [
    {
     "data": {
      "text/plain": [
       "'Factorial of 5 is 120'"
      ]
     },
     "execution_count": 118,
     "metadata": {},
     "output_type": "execute_result"
    }
   ],
   "source": [
    "FactorialFinder(5)"
   ]
  },
  {
   "cell_type": "markdown",
   "metadata": {},
   "source": [
    "### Q-2) Write a Python Program to Display the multiplication Table?\n",
    "#### Hint>> We will iterate it only 10 times."
   ]
  },
  {
   "cell_type": "code",
   "execution_count": 119,
   "metadata": {},
   "outputs": [],
   "source": [
    "def TableViewer(n):\n",
    "    \"\"\"\n",
    "    It will only take one argument as an integer type.\n",
    "    \"\"\"\n",
    "    for i in range(1,11):\n",
    "        print(f'{n} X {i} = {n*i}')  # we use print instead of return because we have to show every iterate and return only show first iteration. "
   ]
  },
  {
   "cell_type": "code",
   "execution_count": 120,
   "metadata": {
    "scrolled": true
   },
   "outputs": [
    {
     "name": "stdout",
     "output_type": "stream",
     "text": [
      "2 X 1 = 2\n",
      "2 X 2 = 4\n",
      "2 X 3 = 6\n",
      "2 X 4 = 8\n",
      "2 X 5 = 10\n",
      "2 X 6 = 12\n",
      "2 X 7 = 14\n",
      "2 X 8 = 16\n",
      "2 X 9 = 18\n",
      "2 X 10 = 20\n"
     ]
    }
   ],
   "source": [
    "TableViewer(2)"
   ]
  },
  {
   "cell_type": "markdown",
   "metadata": {},
   "source": [
    "### Q-3) Write a Python Program to Print the Fibonacci sequence?\n",
    "#### Hint>> Fibonacci series look like 0,1,1,2,3,5,8,13,21,34,.... and so on."
   ]
  },
  {
   "cell_type": "code",
   "execution_count": 121,
   "metadata": {},
   "outputs": [],
   "source": [
    "def FibonacciSequence(n):\n",
    "    \"\"\"\n",
    "    It will take one argument as an integer type.\n",
    "    \"\"\"\n",
    "    first = 0\n",
    "    second = 1\n",
    "    \n",
    "    count = 0\n",
    "    if n < 0:\n",
    "        return 'Please provide positve range'\n",
    "    elif n == 1:\n",
    "        return f'Fibonacci of {n}term is {first}'\n",
    "    else:\n",
    "        while count < n:\n",
    "            print(first, end=\", \")\n",
    "            third = first + second\n",
    "            \n",
    "            # update the values\n",
    "            first = second\n",
    "            second = third\n",
    "            \n",
    "            #update count\n",
    "            count = count + 1"
   ]
  },
  {
   "cell_type": "code",
   "execution_count": 122,
   "metadata": {},
   "outputs": [
    {
     "name": "stdout",
     "output_type": "stream",
     "text": [
      "0, 1, 1, 2, 3, 5, 8, 13, 21, 34, 55, 89, 144, 233, 377, 610, 987, 1597, 2584, 4181, 6765, "
     ]
    }
   ],
   "source": [
    "FibonacciSequence(21)"
   ]
  },
  {
   "cell_type": "markdown",
   "metadata": {},
   "source": [
    "### Q-4) Write a Python Program to Check Armstrong Number?\n",
    "#### Hint>> An Armstrong number of three digits is an integer such that the sum of the cubes of its digits is equal to the number itself. For example, 371 is an Armstrong number since 3 ** 3 + 7 ** 3 + 1 ** 3 = 371."
   ]
  },
  {
   "cell_type": "code",
   "execution_count": 123,
   "metadata": {},
   "outputs": [],
   "source": [
    "def ArmstrongNumberFinder(n):\n",
    "    \"\"\"\n",
    "    It will take one argument as an integer type.\n",
    "\n",
    "    \"\"\"\n",
    "    orignal = n\n",
    "    total = 0\n",
    "    while (n>0):\n",
    "        total = total + (n%10) * (n%10) * (n%10)\n",
    "        n = n//10\n",
    "    \n",
    "    if total == orignal:\n",
    "        return f'This {orignal} is Armstrong Number'\n",
    "    else:\n",
    "        return f'This {orignal} is Not an Artmstrong Number'"
   ]
  },
  {
   "cell_type": "code",
   "execution_count": 124,
   "metadata": {},
   "outputs": [
    {
     "data": {
      "text/plain": [
       "'This 371 is Armstrong Number'"
      ]
     },
     "execution_count": 124,
     "metadata": {},
     "output_type": "execute_result"
    }
   ],
   "source": [
    "ArmstrongNumberFinder(371)"
   ]
  },
  {
   "cell_type": "markdown",
   "metadata": {},
   "source": [
    "### Q-5) Write a Python Program to Find Armstrong Number in an Interval?\n",
    "#### Hint>> For an interval we give the include or exclude value (we use range function) and print the armstrong between them."
   ]
  },
  {
   "cell_type": "code",
   "execution_count": 125,
   "metadata": {},
   "outputs": [],
   "source": [
    "def ArmstrongNumberInterval(lower, upper):\n",
    "    \"\"\"\n",
    "    It will take two argument's as an integer.\n",
    "    First argument is lower which represents the included or starting value,\n",
    "    Second argument is upper which represents ending value which is not excluded, means last value is also included\n",
    "    \"\"\"\n",
    "    for i in range(lower, upper+1):\n",
    "        orignal = i\n",
    "        total = 0\n",
    "        while (i>0):\n",
    "            total = total + (i%10) * (i%10) * (i%10)\n",
    "            i = i//10\n",
    "    \n",
    "        if total == orignal:\n",
    "            print(f'Armstrong Number between the {lower} - {upper} interval is: {orignal}')\n"
   ]
  },
  {
   "cell_type": "code",
   "execution_count": 126,
   "metadata": {},
   "outputs": [
    {
     "name": "stdout",
     "output_type": "stream",
     "text": [
      "Armstrong Number between the 100 - 1000 interval is: 153\n",
      "Armstrong Number between the 100 - 1000 interval is: 370\n",
      "Armstrong Number between the 100 - 1000 interval is: 371\n",
      "Armstrong Number between the 100 - 1000 interval is: 407\n"
     ]
    }
   ],
   "source": [
    "ArmstrongNumberInterval(100,1000)"
   ]
  },
  {
   "cell_type": "markdown",
   "metadata": {},
   "source": [
    "### Q-6) Write a Python Program to Find the Sum of Natural Numbers?\n",
    "#### Hint>> Natural numbers are numbers that we use to count. They are whole, non-negative numbers. "
   ]
  },
  {
   "cell_type": "code",
   "execution_count": 127,
   "metadata": {},
   "outputs": [],
   "source": [
    "def NaturalNumberSum(lower, upper):\n",
    "    \"\"\"\n",
    "    It will take two argument's as an integer.\n",
    "    First argument is lower which represents the included or starting value,\n",
    "    Second argument is upper which represents ending value which is not excluded, means the upper also included.\n",
    "    \"\"\"\n",
    "    if lower < 0 or upper < 0:\n",
    "        return 'Please provide natural number'\n",
    "    else:\n",
    "        total = 0\n",
    "        for i in range(lower, upper+1):\n",
    "            total = total + i\n",
    "        return total"
   ]
  },
  {
   "cell_type": "code",
   "execution_count": 128,
   "metadata": {},
   "outputs": [
    {
     "data": {
      "text/plain": [
       "55"
      ]
     },
     "execution_count": 128,
     "metadata": {},
     "output_type": "execute_result"
    }
   ],
   "source": [
    "NaturalNumberSum(1,10)"
   ]
  }
 ],
 "metadata": {
  "kernelspec": {
   "display_name": "Python 3",
   "language": "python",
   "name": "python3"
  },
  "language_info": {
   "codemirror_mode": {
    "name": "ipython",
    "version": 3
   },
   "file_extension": ".py",
   "mimetype": "text/x-python",
   "name": "python",
   "nbconvert_exporter": "python",
   "pygments_lexer": "ipython3",
   "version": "3.7.6"
  }
 },
 "nbformat": 4,
 "nbformat_minor": 4
}
