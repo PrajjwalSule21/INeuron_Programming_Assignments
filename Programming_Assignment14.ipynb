{
 "cells": [
  {
   "cell_type": "markdown",
   "metadata": {},
   "source": [
    "## Question 1:\n",
    "\n",
    "### Define a class with a generator which can iterate the numbers, which are divisible by 7, between a given range 0 and n."
   ]
  },
  {
   "cell_type": "code",
   "execution_count": 1,
   "metadata": {},
   "outputs": [],
   "source": [
    "class Div7:\n",
    "    def __init__(self, number):\n",
    "        self.number = number\n",
    "    \n",
    "    def checker(self):\n",
    "        \"\"\"\n",
    "        This method for genarating numbers which is divisible by 7\n",
    "        \n",
    "        It will take class variable as an arugment\n",
    "        \n",
    "        self.number = self.number as a number for range.\n",
    "        \n",
    "        Output: It will give list of numbers which is divisible by 7\n",
    "        \"\"\"\n",
    "        divisible = []\n",
    "        for i in range(self.number+1):\n",
    "            if i%7 == 0:\n",
    "                divisible.append(i)\n",
    "            else:\n",
    "                pass\n",
    "            \n",
    "        return f\"Divisible by 7 : {divisible}\""
   ]
  },
  {
   "cell_type": "code",
   "execution_count": 2,
   "metadata": {},
   "outputs": [
    {
     "data": {
      "text/plain": [
       "'Divisible by 7 : [0, 7, 14, 21, 28, 35, 42, 49]'"
      ]
     },
     "execution_count": 2,
     "metadata": {},
     "output_type": "execute_result"
    }
   ],
   "source": [
    "divisible = Div7(49)\n",
    "divisible.checker()"
   ]
  },
  {
   "cell_type": "markdown",
   "metadata": {},
   "source": [
    "## Question 2:\n",
    "\n",
    "### Write a program to compute the frequency of the words from the input. The output should output after sorting the key alphanumerically. \n",
    "\n",
    "#### Suppose the following input is supplied to the program:\n",
    "\n",
    "* New to Python or choosing between Python 2 and Python 3? Read Python 2 or Python 3.\n",
    "\n",
    "* Then, the output should be:\n",
    "\n",
    "* 2:2\n",
    "\n",
    "* 3:1\n",
    "\n",
    "* 3?:1\n",
    "\n",
    "* New:1\n",
    "\n",
    "* Python:5\n",
    "\n",
    "* Read:1\n",
    "\n",
    "* and:1\n",
    "\n",
    "* between:1\n",
    "\n",
    "* choosing:1\n",
    "\n",
    "* or:2\n",
    "\n",
    "* to:1\n"
   ]
  },
  {
   "cell_type": "code",
   "execution_count": 3,
   "metadata": {},
   "outputs": [],
   "source": [
    "class Counter:\n",
    "    def __init__(self, sent):\n",
    "        self.sentance = sent\n",
    "        \n",
    "    def sequ_checker(self):\n",
    "        \"\"\"\n",
    "        This is a method for checking the sequence of words which appears in a sentance.\n",
    "        \n",
    "        It will take calss varible as its argument\n",
    "        \n",
    "        self = self.sentance as a string separeted with whitespces.\n",
    "        \n",
    "        Output: It will give the dictonary of having the key as word or value as a count of particular word.\n",
    "        \n",
    "        \"\"\"\n",
    "        \n",
    "        sent_splited = self.sentance.split(' ')\n",
    "        seq_dict = {}\n",
    "        for i in sent_splited:\n",
    "            seq_dict.update({i:sent_splited.count(i)})\n",
    "        \n",
    "        return f\"Desired Dictionary of words and its count: {seq_dict}\""
   ]
  },
  {
   "cell_type": "code",
   "execution_count": 4,
   "metadata": {},
   "outputs": [],
   "source": [
    "a = \"New to Python or choosing between Python 2 and Python 3? Read Python 2 or Python 3\"\n",
    "seq = Counter(a)"
   ]
  },
  {
   "cell_type": "code",
   "execution_count": 5,
   "metadata": {},
   "outputs": [
    {
     "data": {
      "text/plain": [
       "\"Desired Dictionary of words and its count: {'New': 1, 'to': 1, 'Python': 5, 'or': 2, 'choosing': 1, 'between': 1, '2': 2, 'and': 1, '3?': 1, 'Read': 1, '3': 1}\""
      ]
     },
     "execution_count": 5,
     "metadata": {},
     "output_type": "execute_result"
    }
   ],
   "source": [
    "seq.sequ_checker()"
   ]
  },
  {
   "cell_type": "markdown",
   "metadata": {},
   "source": [
    "## Question 3:\n",
    "\n",
    "### Define a class Person and its two child classes: Male and Female. All classes have a method \"getGender\" which can print \"Male\" for Male class and \"Female\" for Female class."
   ]
  },
  {
   "cell_type": "code",
   "execution_count": 6,
   "metadata": {},
   "outputs": [
    {
     "name": "stdout",
     "output_type": "stream",
     "text": [
      "Male\n",
      "Female\n"
     ]
    }
   ],
   "source": [
    "class Person:\n",
    "    def getGender(self):\n",
    "        return \"Parent Class\"\n",
    "\n",
    "class Male(Person):\n",
    "    \"\"\"\n",
    "    Class name is Male and it's child class of Person\n",
    "    \n",
    "    \"\"\"\n",
    "    def getGender(self):\n",
    "        return \"Male\"\n",
    "\n",
    "class Female(Person):\n",
    "    \"\"\"\n",
    "    Class name is Female and it's child class of Person\n",
    "    \n",
    "    \"\"\"\n",
    "    def getGender(self):\n",
    "        return \"Female\"\n",
    "\n",
    "Male = Male()\n",
    "Female = Female()\n",
    "print(Male.getGender())\n",
    "print(Female.getGender())"
   ]
  },
  {
   "cell_type": "markdown",
   "metadata": {},
   "source": [
    "## Question 4:\n",
    "### Please write a program to generate all sentences where subject is in [\"I\", \"You\"] and verb is in [\"Play\", \"Love\"] and the object is in [\"Hockey\",\"Football\"].\n"
   ]
  },
  {
   "cell_type": "code",
   "execution_count": 7,
   "metadata": {},
   "outputs": [
    {
     "name": "stdout",
     "output_type": "stream",
     "text": [
      "I Play Hockey\n",
      "I Play Football\n",
      "I Love Hockey\n",
      "I Love Football\n",
      "You Play Hockey\n",
      "You Play Football\n",
      "You Love Hockey\n",
      "You Love Football\n"
     ]
    }
   ],
   "source": [
    "a = ['I', 'You']\n",
    "b = ['Play', 'Love']\n",
    "c = ['Hockey', 'Football']\n",
    "for i in a:\n",
    "    for j in b:\n",
    "        for k in c:\n",
    "            print(i,j,k)"
   ]
  },
  {
   "cell_type": "markdown",
   "metadata": {},
   "source": [
    "## Question 5:\n",
    "### Please write a program to compress and decompress the string \"hello world!hello world!hello world!hello world!\".\n"
   ]
  },
  {
   "cell_type": "code",
   "execution_count": 8,
   "metadata": {},
   "outputs": [
    {
     "name": "stdout",
     "output_type": "stream",
     "text": [
      "Compressed form of string: b'x\\x9c\\xcbH\\xcd\\xc9\\xc9W(\\xcf/\\xcaIQ\\xcc \\x82\\r\\x00\\xbd[\\x11\\xf5'\n",
      "Decompressed form of string: b'hello world!hello world!hello world!hello world!'\n"
     ]
    }
   ],
   "source": [
    "import zlib\n",
    "\n",
    "\n",
    "string = 'hello world!hello world!hello world!hello world!'\n",
    "\n",
    "sent = bytes(string, 'utf-8')\n",
    "compressed = zlib.compress(sent)\n",
    "decompressed = zlib.decompress(compressed)\n",
    "\n",
    "print(f\"Compressed form of string: {compressed}\")\n",
    "print(f\"Decompressed form of string: {decompressed}\" )"
   ]
  },
  {
   "cell_type": "markdown",
   "metadata": {},
   "source": [
    "## Question 6:\n",
    "### Please write a binary search function which searches an item in a sorted list. The function should return the index of element to be searched in the list.\n"
   ]
  },
  {
   "cell_type": "code",
   "execution_count": 9,
   "metadata": {},
   "outputs": [],
   "source": [
    "def binary_search_func(lst, item):\n",
    "    lo = 0 \n",
    "    hi = len(lst) - 1\n",
    "    \n",
    "    while lo <= hi:\n",
    "        mid = (lo + hi) // 2\n",
    "        mid_number = lst[mid]\n",
    "                \n",
    "        if mid_number == item:\n",
    "            return f\"Index of the {item} is : {mid}\"\n",
    "        elif mid_number < item:\n",
    "            hi = mid - 1  \n",
    "        elif mid_number > item:\n",
    "            lo = mid + 1\n",
    "    \n",
    "    return -1"
   ]
  },
  {
   "cell_type": "code",
   "execution_count": 10,
   "metadata": {},
   "outputs": [
    {
     "name": "stdout",
     "output_type": "stream",
     "text": [
      "Index of the 7 is : 3\n"
     ]
    }
   ],
   "source": [
    "lst = [1,3,5,7,9,21,23]\n",
    "print(binary_search_func(lst, 7))   "
   ]
  }
 ],
 "metadata": {
  "kernelspec": {
   "display_name": "Python 3",
   "language": "python",
   "name": "python3"
  },
  "language_info": {
   "codemirror_mode": {
    "name": "ipython",
    "version": 3
   },
   "file_extension": ".py",
   "mimetype": "text/x-python",
   "name": "python",
   "nbconvert_exporter": "python",
   "pygments_lexer": "ipython3",
   "version": "3.7.6"
  }
 },
 "nbformat": 4,
 "nbformat_minor": 4
}
