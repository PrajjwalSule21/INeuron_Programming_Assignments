{
 "cells": [
  {
   "cell_type": "markdown",
   "metadata": {},
   "source": [
    "## 1.Create a function that takes three arguments a, b, c and returns the sum of the numbers that are evenly divided by c from the range a, b inclusive ?\n",
    "**Examples:**  \n",
    "`evenly_divisible(1, 10, 20) ➞ 0\n",
    "    # No number between 1 and 10 can be evenly divided by 20.\n",
    "evenly_divisible(1, 10, 2) ➞ 30\n",
    "    # 2 + 4 + 6 + 8 + 10 = 30\n",
    "evenly_divisible(1, 10, 3) ➞ 18\n",
    "    # 3 + 6 + 9 = 18`"
   ]
  },
  {
   "cell_type": "code",
   "execution_count": 1,
   "metadata": {},
   "outputs": [],
   "source": [
    "def even_divisible(a,b,c):\n",
    "    \"\"\"\n",
    "    This fucntion is for returing the the sum of the numbers that are evenly divisible.\n",
    "    \n",
    "    It will take three argument -> a,b,c\n",
    "    a = a as an integer\n",
    "    b = b as an integer\n",
    "    c = c as an integer\n",
    "    \n",
    "    Output: It will return the sum of the numbers that are evenly divided by c.   \n",
    "    \"\"\"\n",
    "    div = []\n",
    "    for num in range(a,b+1):\n",
    "        if num%c == 0:\n",
    "            div.append(num)\n",
    "    return f'{a,b,c} --> {sum(div)}'"
   ]
  },
  {
   "cell_type": "code",
   "execution_count": 2,
   "metadata": {},
   "outputs": [
    {
     "name": "stdout",
     "output_type": "stream",
     "text": [
      "(1, 10, 20) --> 0\n",
      "(1, 10, 2) --> 30\n"
     ]
    }
   ],
   "source": [
    "print(even_divisible(1,10,20))\n",
    "print(even_divisible(1,10,2))"
   ]
  },
  {
   "cell_type": "markdown",
   "metadata": {},
   "source": [
    "## 2.Create a function that returns True if a given inequality expression is correct and False otherwise ?\n",
    "**Examples:**  \n",
    "`correct_signs(\"3 < 7 < 11\") ➞ True`  \n",
    "`correct_signs(\"13 > 44 > 33 > 1\") ➞ False`  \n",
    "`correct_signs(\"1 < 2 < 6 < 9 > 3\") ➞ True`"
   ]
  },
  {
   "cell_type": "code",
   "execution_count": 3,
   "metadata": {},
   "outputs": [],
   "source": [
    "def check_equality(expression):\n",
    "    \"\"\"\n",
    "    This fucntion is for checking the given inequality expression is a correct or not.\n",
    "    \n",
    "    It will take one argument -> expression\n",
    "    expression = expression as a inequality equation in a form of string\n",
    "    \n",
    "    Output: It will return the True if given expression is correct and False otherwise.   \n",
    "    \"\"\"\n",
    "    out = eval(expression)\n",
    "    return f'{expression} --> {out}'"
   ]
  },
  {
   "cell_type": "code",
   "execution_count": 4,
   "metadata": {},
   "outputs": [
    {
     "name": "stdout",
     "output_type": "stream",
     "text": [
      "3 < 7 < 11 --> True\n",
      "13 > 44 > 33 > 1 --> False\n"
     ]
    }
   ],
   "source": [
    "print(check_equality('3 < 7 < 11'))\n",
    "print(check_equality('13 > 44 > 33 > 1'))"
   ]
  },
  {
   "cell_type": "markdown",
   "metadata": {},
   "source": [
    "## 3.Create a function that replaces all the vowels in a string with a specified character ?\n",
    "**Examples:**  \n",
    "`replace_vowels(\"the aardvark\", \"#\") ➞ \"th# ##rdv#rk\"`  \n",
    "`replace_vowels(\"minnie mouse\", \"?\") ➞ \"m?nn?? m??s?\"`  \n",
    "`replace_vowels(\"shakespeare\", \"*\") ➞ \"shksp**r\"`"
   ]
  },
  {
   "cell_type": "code",
   "execution_count": 5,
   "metadata": {},
   "outputs": [],
   "source": [
    "def replace_vowels(sentance, char):\n",
    "    \"\"\"\n",
    "    This fucntion is for replacing the vowels with a specifies character in given string.\n",
    "    \n",
    "    It will take two argument -> sentance, char\n",
    "    sentance = sentance as a string\n",
    "    char = char as a specified character as a string\n",
    "    \n",
    "    Output: It will return a sentance where the vowels with specified character has been replaced.   \n",
    "    \"\"\"\n",
    "    \n",
    "    vowels = ['a','e','i','o','u','A','E','I','O','U']\n",
    "    sentance_copy = sentance\n",
    "    for i in sentance:\n",
    "        if i in vowels:\n",
    "            sentance = sentance.replace(i,char)\n",
    "    return f'{sentance_copy} {char} ➞ {sentance}'"
   ]
  },
  {
   "cell_type": "code",
   "execution_count": 6,
   "metadata": {},
   "outputs": [
    {
     "name": "stdout",
     "output_type": "stream",
     "text": [
      "the aardvark # ➞ th# ##rdv#rk\n",
      "minnie mouse ? ➞ m?nn?? m??s?\n",
      "Ineuron - ➞ -n--r-n\n"
     ]
    }
   ],
   "source": [
    "print(replace_vowels(\"the aardvark\", \"#\"))\n",
    "print(replace_vowels(\"minnie mouse\", \"?\"))\n",
    "print(replace_vowels('Ineuron', \"-\"))"
   ]
  },
  {
   "cell_type": "markdown",
   "metadata": {},
   "source": [
    "## 4.Write a function that calculates the factorial of a number recursively ?\n",
    "**Examples:**  \n",
    "`factorial(5) ➞ 120`  \n",
    "`factorial(3) ➞ 6`  \n",
    "`factorial(1) ➞ 1`  \n",
    "`factorial(0) ➞ 1`  "
   ]
  },
  {
   "cell_type": "code",
   "execution_count": 7,
   "metadata": {},
   "outputs": [],
   "source": [
    "def factorial(num):\n",
    "    \"\"\"\n",
    "    This is a recursive fucntion which gives the facorial of a number.\n",
    "    \n",
    "    It will take one argument -> num\n",
    "    num = num as an interger\n",
    "    \n",
    "    \n",
    "    Output: It will return the factorial of a number recursively.   \n",
    "    \"\"\"\n",
    "    if num==0:\n",
    "        return 1\n",
    "    return num * factorial(num-1)"
   ]
  },
  {
   "cell_type": "code",
   "execution_count": 8,
   "metadata": {},
   "outputs": [
    {
     "name": "stdout",
     "output_type": "stream",
     "text": [
      "factorial(5) --> 120\n",
      "factorial(3) --> 6\n"
     ]
    }
   ],
   "source": [
    "print(f'factorial(5) --> {factorial(5)}')\n",
    "print(f'factorial(3) --> {factorial(3)}')"
   ]
  },
  {
   "cell_type": "markdown",
   "metadata": {},
   "source": [
    "## 5.Hamming distance is the number of characters that differ between two strings ?\n",
    "To illustrate:  \n",
    "    `String1: \"abcbba\"`  \n",
    "    `String2: \"abcbda\"`  \n",
    "Hamming Distance: 1 - \"b\" vs. \"d\" is the only difference.  \n",
    "Create a function that computes the hamming distance between two strings.  \n",
    "**Examples:**  \n",
    "`hamming_distance(\"abcde\", \"bcdef\") ➞ 5`  \n",
    "`hamming_distance(\"abcde\", \"abcde\") ➞ 0`  \n",
    "`hamming_distance(\"strong\", \"strung\") ➞ 1`  "
   ]
  },
  {
   "cell_type": "code",
   "execution_count": 9,
   "metadata": {},
   "outputs": [],
   "source": [
    "def hamming_distance(sen1, sen2):\n",
    "    \"\"\"\n",
    "    This fucntion is for finding a hamming distance between two strings.\n",
    "    \n",
    "    It will take two argument -> sen1, sen2\n",
    "    sen1 = sen1 as a individual string\n",
    "    sen2 = sen2 also as a individual string\n",
    "    \n",
    "    \n",
    "    Output: It will return the hamming distance occurs between two strings.   \n",
    "    \"\"\"\n",
    "   \n",
    "    if len(sen1) == len(sen2):\n",
    "        count = 0\n",
    "        for i in range(len(sen1)):\n",
    "            if sen1[i] != sen2[i]:\n",
    "                count = count+1\n",
    "        return f'Hamning Distance b/w \"{sen1}\" and \"{sen2}\" --> {count}'\n",
    "    else:\n",
    "        return 'Both Strings Must be of Same Length'\n"
   ]
  },
  {
   "cell_type": "code",
   "execution_count": 10,
   "metadata": {},
   "outputs": [
    {
     "name": "stdout",
     "output_type": "stream",
     "text": [
      "Hamning Distance b/w \"abcde\" and \"bcdef\" --> 5\n",
      "Hamning Distance b/w \"abcde\" and \"abcde\" --> 0\n",
      "Hamning Distance b/w \"strong\" and \"strung\" --> 1\n"
     ]
    }
   ],
   "source": [
    "print(hamming_distance(\"abcde\", \"bcdef\"))\n",
    "print(hamming_distance(\"abcde\", \"abcde\"))\n",
    "print(hamming_distance(\"strong\", \"strung\"))"
   ]
  },
  {
   "cell_type": "code",
   "execution_count": null,
   "metadata": {},
   "outputs": [],
   "source": []
  }
 ],
 "metadata": {
  "kernelspec": {
   "display_name": "Python 3",
   "language": "python",
   "name": "python3"
  },
  "language_info": {
   "codemirror_mode": {
    "name": "ipython",
    "version": 3
   },
   "file_extension": ".py",
   "mimetype": "text/x-python",
   "name": "python",
   "nbconvert_exporter": "python",
   "pygments_lexer": "ipython3",
   "version": "3.7.6"
  }
 },
 "nbformat": 4,
 "nbformat_minor": 4
}
