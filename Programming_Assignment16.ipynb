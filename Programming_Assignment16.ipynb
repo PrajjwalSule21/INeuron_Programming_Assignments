{
 "cells": [
  {
   "cell_type": "markdown",
   "metadata": {},
   "source": [
    "## 1.Write a function that stutters a word as if someone is struggling to read it. The first two letters are repeated twice with an ellipsis ... and space after each, and then the word is pronounced with a question mark ?\n",
    "**Examples:**\n",
    "`stutter(\"incredible\") ➞ \"in... in... incredible?\"`  \n",
    "`stutter(\"enthusiastic\") ➞ \"en... en... enthusiastic?\"`  \n",
    "`stutter(\"outstanding\") ➞ \"ou... ou... outstanding?\"`  \n"
   ]
  },
  {
   "cell_type": "code",
   "execution_count": 1,
   "metadata": {},
   "outputs": [],
   "source": [
    "def stutter(word):\n",
    "    \"\"\"\n",
    "    This fucntion is for Stutters the word, the first two letters are replaced twice with an ellipsis.\n",
    "    \n",
    "    It will take one argument\n",
    "    word = word as a single word.\n",
    "    \n",
    "    Output: It will replaces the first two letters of a word with an ellipsis, and looks like as if someone is struggling to read that word.\n",
    "    \n",
    "    \"\"\"\n",
    "    output_word = word.replace(word[0:2],((word[0:2]+'... ')*2)+ word[0:2])  +'?'\n",
    "    return f'Stutter({word}) ---> {output_word}'\n",
    "    "
   ]
  },
  {
   "cell_type": "code",
   "execution_count": 2,
   "metadata": {},
   "outputs": [
    {
     "data": {
      "text/plain": [
       "'Stutter(Ineuron) ---> In... In... Ineuron?'"
      ]
     },
     "execution_count": 2,
     "metadata": {},
     "output_type": "execute_result"
    }
   ],
   "source": [
    "stutter('Ineuron')"
   ]
  },
  {
   "cell_type": "markdown",
   "metadata": {},
   "source": [
    "## 2..Create a function that takes an angle in radians and returns the corresponding angle in degrees rounded to one decimal place ?\n",
    "**Examples:**\n",
    "`radians_to_degrees(1) ➞ 57.3`  \n",
    "`radians_to_degrees(20) ➞ 1145.9`  \n",
    "`radians_to_degrees(50) ➞ 2864.8`  "
   ]
  },
  {
   "cell_type": "code",
   "execution_count": 3,
   "metadata": {},
   "outputs": [],
   "source": [
    "import math\n",
    "\n",
    "def radian_to_degrees(num):\n",
    "    \"\"\"\n",
    "    This fucntion is for returing the radians in degrees rounded to one decimal place .\n",
    "    \n",
    "    It will take one argument\n",
    "    num = num as a radian or an integer.\n",
    "    \n",
    "    Output: It will return the corresponding degree of a given radian.   \n",
    "    \"\"\"\n",
    "    \n",
    "    out = (180/math.pi)*num\n",
    "    return f'{num} radian(s) ➞ {out:.1f} degrees'"
   ]
  },
  {
   "cell_type": "code",
   "execution_count": 4,
   "metadata": {},
   "outputs": [
    {
     "data": {
      "text/plain": [
       "'1 radian(s) ➞ 57.3 degrees'"
      ]
     },
     "execution_count": 4,
     "metadata": {},
     "output_type": "execute_result"
    }
   ],
   "source": [
    "radian_to_degrees(1)"
   ]
  },
  {
   "cell_type": "markdown",
   "metadata": {},
   "source": [
    "## 3.In this challenge, establish if a given integer num is a Curzon number. If 1 plus 2 elevated to num is exactly divisible by 1 plus 2 multiplied by num, then num is a Curzon number. Given a non-negative integer num, implement a function that returns True if num is a Curzon number, or False otherwise. \n",
    "**Examples**: \n",
    "`is_curzon(5) ➞ True\n",
    "    # 2 ** 5 + 1 = 33\n",
    "    # 2 * 5 + 1 = 11\n",
    "    # 33 is a multiple of 11\n",
    "is_curzon(10) ➞ False\n",
    "    # 2 ** 10 + 1 = 1025\n",
    "    # 2 * 10 + 1 = 21\n",
    "    # 1025 is not a multiple of 21\n",
    "is_curzon(14) ➞ True\n",
    "    # 2 ** 14 + 1 = 16385\n",
    "    # 2 * 14 + 1 = 29\n",
    "    # 16385 is a multiple of 29`"
   ]
  },
  {
   "cell_type": "code",
   "execution_count": 5,
   "metadata": {},
   "outputs": [],
   "source": [
    "def is_curzon(num):\n",
    "    \"\"\"\n",
    "    This fucntion is for checking the given number is a curzon number or not.\n",
    "    \n",
    "    It will take one argument\n",
    "    num = num as an integer.\n",
    "    \n",
    "    Output: It will return the given number is curzon number or not.\n",
    "    \n",
    "    \"\"\"\n",
    "    if (pow(2,num)+1) % ((2*num)+1) == 0:\n",
    "        return f'True --> {num} is a Curzon Number.'\n",
    "    else:\n",
    "        return f'False --> {num} is Not a Curzon Number.'\n"
   ]
  },
  {
   "cell_type": "code",
   "execution_count": 6,
   "metadata": {},
   "outputs": [
    {
     "name": "stdout",
     "output_type": "stream",
     "text": [
      "True --> 5 is a Curzon Number.\n",
      "False --> 10 is Not a Curzon Number.\n"
     ]
    }
   ],
   "source": [
    "print(is_curzon(5))\n",
    "print(is_curzon(10))"
   ]
  },
  {
   "cell_type": "markdown",
   "metadata": {},
   "source": [
    "## 4.Given the side length x find the area of a hexagon ?\n",
    "**Examples:**\n",
    "`area_of_hexagon(1) ➞ 2.6`  \n",
    "`area_of_hexagon(2) ➞ 10.4`  \n",
    "`area_of_hexagon(3) ➞ 23.4`  "
   ]
  },
  {
   "cell_type": "code",
   "execution_count": 7,
   "metadata": {},
   "outputs": [],
   "source": [
    "import math\n",
    "\n",
    "def area_of_hexagon(num):\n",
    "    \"\"\"\n",
    "    This fucntion is for finding the area of a hexagon.\n",
    "    \n",
    "    It will take one argument\n",
    "    num = num as an integer.\n",
    "    \n",
    "    Output: It will return the area of a hexagon of a given number.\n",
    "    \n",
    "    \"\"\"\n",
    "    \n",
    "    out_num = ((3*math.sqrt(3))/2)*(pow(num,2))\n",
    "    return f'Area for Hexagon of side length {num} --> {out_num:.1f}'\n",
    "    "
   ]
  },
  {
   "cell_type": "code",
   "execution_count": 8,
   "metadata": {},
   "outputs": [
    {
     "name": "stdout",
     "output_type": "stream",
     "text": [
      "Area for Hexagon of side length 1 --> 2.6\n",
      "Area for Hexagon of side length 2 --> 10.4\n"
     ]
    }
   ],
   "source": [
    "print(area_of_hexagon(1))\n",
    "print(area_of_hexagon(2))"
   ]
  },
  {
   "cell_type": "markdown",
   "metadata": {},
   "source": [
    "## 5.Create a function that returns a base-2 (binary) representation of a base-10 (decimal) string number. To convert is simple: ((2) means base-2 and (10) means base-10) 010101001(2) = 1 + 8 + 32 + 128.\n",
    "\n",
    "Going from right to left, the value of the most right bit is 1, now from that every bit to the left will be x2 the value, value of an 8 bit binary numbers are (256, 128, 64, 32, 16, 8, 4, 2, 1).  \n",
    "**Examples:**  \n",
    "`binary(1) ➞ \"1\"\n",
    "    # 1* 1 = 1\n",
    "binary(5) ➞ \"101\"\n",
    "    # 1 1 + 1 4 = 5\n",
    "binary(10) ➞ \"1010\"\n",
    "    # 1 2 + 1 8 = 10`"
   ]
  },
  {
   "cell_type": "code",
   "execution_count": 9,
   "metadata": {},
   "outputs": [],
   "source": [
    "def binary(num):\n",
    "    \"\"\"\n",
    "    This fucntion is for giving the base-2 binary representation of a base-10 (decimal) string number.\n",
    "    \n",
    "    It will take one argument\n",
    "    num = num as an integer.\n",
    "    \n",
    "    Output: It will return the binary representation of a base-10 string number.\n",
    "    \n",
    "    \"\"\"\n",
    "    out_num = bin(num).replace('0b','') \n",
    "    return f'Binary({num}) --> \"{str(out_num)}\"'\n"
   ]
  },
  {
   "cell_type": "code",
   "execution_count": 10,
   "metadata": {},
   "outputs": [
    {
     "name": "stdout",
     "output_type": "stream",
     "text": [
      "Binary(1) --> \"1\"\n",
      "Binary(5) --> \"101\"\n"
     ]
    }
   ],
   "source": [
    "print(binary(1))\n",
    "print(binary(5))"
   ]
  }
 ],
 "metadata": {
  "kernelspec": {
   "display_name": "Python 3",
   "language": "python",
   "name": "python3"
  },
  "language_info": {
   "codemirror_mode": {
    "name": "ipython",
    "version": 3
   },
   "file_extension": ".py",
   "mimetype": "text/x-python",
   "name": "python",
   "nbconvert_exporter": "python",
   "pygments_lexer": "ipython3",
   "version": "3.7.6"
  }
 },
 "nbformat": 4,
 "nbformat_minor": 4
}
