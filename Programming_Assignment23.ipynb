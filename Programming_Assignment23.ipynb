{
 "cells": [
  {
   "cell_type": "markdown",
   "metadata": {},
   "source": [
    "## 1.Create a function that takes a number as an argument and returns True or False depending on whether the number is symmetrical or not. A number is symmetrical when it is the same as its reverse.\n",
    "**Examples:**    \n",
    "`is_symmetrical(7227) ➞ True`  \n",
    "`is_symmetrical(12567) ➞ False`  \n",
    "`is_symmetrical(44444444) ➞ True`  \n",
    "`is_symmetrical(9939) ➞ False`  \n",
    "`is_symmetrical(1112111) ➞ True`  "
   ]
  },
  {
   "cell_type": "code",
   "execution_count": 1,
   "metadata": {},
   "outputs": [],
   "source": [
    "def is_symmetrical(num):\n",
    "    \"\"\"\n",
    "    This fucntion is for checking numbers are symmetrical or not even in reversed order.\n",
    "    \n",
    "    It will take one argument -> num\n",
    "    num = num as a integer.\n",
    "    \n",
    "    Output: It will return True if the numbers are symmetrical even in reversed order and False otherwise.\n",
    "    \"\"\"\n",
    "    if str(num) == str(num)[::-1]:\n",
    "        return f'is_symmetrical({num}) --> {True}'\n",
    "    else:\n",
    "        return f'is_symmetrical({num}) --> {False}'"
   ]
  },
  {
   "cell_type": "code",
   "execution_count": 2,
   "metadata": {},
   "outputs": [
    {
     "name": "stdout",
     "output_type": "stream",
     "text": [
      "is_symmetrical(7227) --> True\n",
      "is_symmetrical(12567) --> False\n",
      "is_symmetrical(1112111) --> True\n"
     ]
    }
   ],
   "source": [
    "print(is_symmetrical(7227))\n",
    "print(is_symmetrical(12567))\n",
    "print(is_symmetrical(1112111))"
   ]
  },
  {
   "cell_type": "markdown",
   "metadata": {},
   "source": [
    "## 2.Given a string of numbers separated by a comma and space, return the product of the numbers.\n",
    "**Examples:**  \n",
    "`multiply_nums(\"2, 3\") ➞ 6`  \n",
    "`multiply_nums(\"1, 2, 3, 4\") ➞ 24`  \n",
    "`multiply_nums(\"54, 75, 453, 0\") ➞ 0`  \n",
    "`multiply_nums(\"10, -2\") ➞ -20`  "
   ]
  },
  {
   "cell_type": "code",
   "execution_count": 3,
   "metadata": {},
   "outputs": [],
   "source": [
    "def multiply_nums(sent):\n",
    "    \"\"\"\n",
    "    This fucntion is for giving the product of numbers given in form of comma and space separated.\n",
    "    \n",
    "    It will take one argument -> sent\n",
    "    sent = sent as a numbers in form of string and seperated by comma and space.\n",
    "    \n",
    "    Output: It will return product of numbers which is given in argument.\n",
    "    \"\"\"\n",
    "    output_sent = sent.replace(' ','').split(',')\n",
    "    num = 1\n",
    "    for i in output_sent:\n",
    "        num *= int(i)\n",
    "    return f'multipy_nums({sent}) --> {num}'"
   ]
  },
  {
   "cell_type": "code",
   "execution_count": 4,
   "metadata": {},
   "outputs": [
    {
     "name": "stdout",
     "output_type": "stream",
     "text": [
      "multipy_nums(2, 3) --> 6\n",
      "multipy_nums(1, 2, 3, 4) --> 24\n"
     ]
    }
   ],
   "source": [
    "print(multiply_nums(\"2, 3\"))\n",
    "print(multiply_nums(\"1, 2, 3, 4\"))"
   ]
  },
  {
   "cell_type": "markdown",
   "metadata": {},
   "source": [
    "## 3.Create a function that squares every digit of a number.\n",
    "**Examples:**  \n",
    "`square_digits(9119) ➞ 811181`  \n",
    "`square_digits(2483) ➞ 416649`  \n",
    "`square_digits(3212) ➞ 9414`  \n",
    "\n",
    "**Notes:**   \n",
    "The function receives an integer and must return an integer."
   ]
  },
  {
   "cell_type": "code",
   "execution_count": 5,
   "metadata": {},
   "outputs": [],
   "source": [
    "def square_digits(num):\n",
    "    \"\"\"\n",
    "    This fucntion is for giving the squares every digit of a number.\n",
    "    \n",
    "    It will take one argument -> num\n",
    "    num = num as a numbers in form of integers.\n",
    "    \n",
    "    Output: It will return squares every digit of a number.\n",
    "    \"\"\"\n",
    "    lst = []\n",
    "    for i in str(num):\n",
    "        lst.append(str(int(i)**2))\n",
    "    output_lst = ''.join(lst)\n",
    "    return f'square_digits({num}) --> {int(output_lst)}'"
   ]
  },
  {
   "cell_type": "code",
   "execution_count": 6,
   "metadata": {},
   "outputs": [
    {
     "name": "stdout",
     "output_type": "stream",
     "text": [
      "square_digits(9119) --> 811181\n",
      "square_digits(2483) --> 416649\n"
     ]
    }
   ],
   "source": [
    "print(square_digits(9119))\n",
    "print(square_digits(2483))"
   ]
  },
  {
   "cell_type": "markdown",
   "metadata": {},
   "source": [
    "## 4.Create a function that sorts a list and removes all duplicate items from it.\n",
    "**Examples:**  \n",
    "`setify([1, 3, 3, 5, 5]) ➞ [1, 3, 5]`  \n",
    "`setify([4, 4, 4, 4]) ➞ [4]`  \n",
    "`setify([5, 7, 8, 9, 10, 15]) ➞ [5, 7, 8, 9, 10, 15]`  \n",
    "`setify([3, 3, 3, 2, 1]) ➞ [1, 2, 3]`  "
   ]
  },
  {
   "cell_type": "code",
   "execution_count": 7,
   "metadata": {},
   "outputs": [],
   "source": [
    "def setify(lst):\n",
    "    \"\"\"\n",
    "    This fucntion is for giving the sorts a list and removes all duplicate items from it.\n",
    "    \n",
    "    It will take one argument -> lst\n",
    "    lst = lst as a list of various integers.\n",
    "    \n",
    "    Output: It will return sorted and unique element of list.\n",
    "    \"\"\"\n",
    "    output_lst = sorted(set(lst))\n",
    "    return f'setify({lst}) --> {output_lst}'"
   ]
  },
  {
   "cell_type": "code",
   "execution_count": 8,
   "metadata": {},
   "outputs": [
    {
     "name": "stdout",
     "output_type": "stream",
     "text": [
      "setify([1, 3, 3, 5, 5]) --> [1, 3, 5]\n",
      "setify([4, 4, 4, 4]) --> [4]\n"
     ]
    }
   ],
   "source": [
    "print(setify([1, 3, 3, 5, 5]))\n",
    "print(setify([4, 4, 4, 4]))"
   ]
  },
  {
   "cell_type": "markdown",
   "metadata": {},
   "source": [
    "## 5.Create a function that returns the mean of all digits.\n",
    "**Examples:**  \n",
    "`mean(42) ➞ 3`  \n",
    "`mean(12345) ➞ 3`  \n",
    "`mean(666) ➞ 6`  \n",
    "\n",
    "**Notes:**   \n",
    "    1.The mean of all digits is the sum of digits / how many digits there are (e.g. mean of digits in 512 is (5+1+2)/3(number of digits) = 8/3=2).  \n",
    "    2.The mean will always be an integer."
   ]
  },
  {
   "cell_type": "code",
   "execution_count": 9,
   "metadata": {},
   "outputs": [],
   "source": [
    "def mean(num):\n",
    "    \"\"\"\n",
    "    This fucntion is returns the mean of all digits.\n",
    "    \n",
    "    It will take one argument -> num\n",
    "    num = num as a integers.\n",
    "    \n",
    "    Output: It will return mean of given integers.\n",
    "    \"\"\"\n",
    "    lst = []\n",
    "    for i in str(num):\n",
    "        lst.append(int(i))\n",
    "    output = sum(lst)/len(str(num))\n",
    "    return f'mean({num}) --> {int(output)}'"
   ]
  },
  {
   "cell_type": "code",
   "execution_count": 10,
   "metadata": {},
   "outputs": [
    {
     "name": "stdout",
     "output_type": "stream",
     "text": [
      "mean(42) --> 3\n",
      "mean(12345) --> 3\n",
      "mean(666) --> 6\n"
     ]
    }
   ],
   "source": [
    "print(mean(42))\n",
    "print(mean(12345))\n",
    "print(mean(666))"
   ]
  },
  {
   "cell_type": "code",
   "execution_count": null,
   "metadata": {},
   "outputs": [],
   "source": []
  }
 ],
 "metadata": {
  "kernelspec": {
   "display_name": "Python 3",
   "language": "python",
   "name": "python3"
  },
  "language_info": {
   "codemirror_mode": {
    "name": "ipython",
    "version": 3
   },
   "file_extension": ".py",
   "mimetype": "text/x-python",
   "name": "python",
   "nbconvert_exporter": "python",
   "pygments_lexer": "ipython3",
   "version": "3.7.6"
  }
 },
 "nbformat": 4,
 "nbformat_minor": 4
}
