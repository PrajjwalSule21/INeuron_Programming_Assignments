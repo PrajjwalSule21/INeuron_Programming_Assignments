{
 "cells": [
  {
   "cell_type": "markdown",
   "metadata": {},
   "source": [
    "### 1.\tWrite a Python Program to Display Fibonacci Sequence Using Recursion?\n",
    "* 01123581321..."
   ]
  },
  {
   "cell_type": "code",
   "execution_count": 1,
   "metadata": {},
   "outputs": [],
   "source": [
    "def recursion_fibonnaci(num):\n",
    "    if num <= 1:\n",
    "        return num\n",
    "    else:\n",
    "        return recursion_fibonnaci(num-1)+recursion_fibonnaci(num-2)\n",
    "            \n",
    "    "
   ]
  },
  {
   "cell_type": "code",
   "execution_count": 2,
   "metadata": {},
   "outputs": [
    {
     "name": "stdout",
     "output_type": "stream",
     "text": [
      "0\n",
      "1\n",
      "1\n",
      "2\n",
      "3\n",
      "5\n",
      "8\n",
      "13\n",
      "21\n",
      "34\n"
     ]
    }
   ],
   "source": [
    "recursion_fibonnaci(5)\n",
    "for i in range(10):\n",
    "    print(recursion_fibonnaci(i))"
   ]
  },
  {
   "cell_type": "markdown",
   "metadata": {},
   "source": [
    "### 2.\tWrite a Python Program to Find Factorial of Number Using Recursion?"
   ]
  },
  {
   "cell_type": "code",
   "execution_count": 3,
   "metadata": {},
   "outputs": [
    {
     "name": "stdout",
     "output_type": "stream",
     "text": [
      "The factorial of 3 is 6\n"
     ]
    }
   ],
   "source": [
    "def factorial(x):\n",
    "    \"\"\"This is a recursive function\n",
    "    to find the factorial of an integer\"\"\"\n",
    "\n",
    "    if x == 1:\n",
    "        return 1\n",
    "    else:\n",
    "        return (x * factorial(x-1))\n",
    "\n",
    "\n",
    "num = 3\n",
    "print(\"The factorial of\", num, \"is\", factorial(num))"
   ]
  },
  {
   "cell_type": "markdown",
   "metadata": {},
   "source": [
    "### 3.\tWrite a Python Program to calculate your Body Mass Index?\n",
    "* Body Mass Index is a simple calculation using a person's height and weight. \n",
    "* The formula is BMI = kg/m2 where kg is a person's weight in kilograms and m^2 is their height in metres squared.\n",
    "* A BMI of 25.0 or more is overweight, while the healthy range is 18.5 to 24.9. \n",
    "* BMI applies to most adults 18-65 years."
   ]
  },
  {
   "cell_type": "code",
   "execution_count": 4,
   "metadata": {},
   "outputs": [],
   "source": [
    "# formula of BMI = kg/m2\n",
    "\n",
    "class Person:\n",
    "    \"\"\"\n",
    "        This is BMI Class, It takes 3 arguments:\n",
    "        Weight in KG,\n",
    "        Height in Feet,\n",
    "        Age as an integer value.\n",
    "        \"\"\"\n",
    "    def __init__(self, weight, height, age):\n",
    "        self.personWeight = weight\n",
    "        self.personHeight = height\n",
    "        self.personAge    = age\n",
    "    \n",
    "    def BMI_Calc(self):\n",
    "        \n",
    "        try:\n",
    "            if self.personAge >= 18 and self.personAge <= 65:\n",
    "                \n",
    "                if (type(self.personHeight) and type(self.personWeight)) == int or (type(self.personHeight) and type(self.personWeight)) == float:\n",
    "                    meter = self.personHeight * 0.3048  # converting feet into meter.\n",
    "                    meterSquare = meter**2\n",
    "                    BMI = self.personWeight/meterSquare\n",
    "                    \n",
    "                    if BMI >= 18.5 and BMI <= 24.9:\n",
    "                        return \"Your BMI is : %s and your are in range of Healthy People\"%(round(BMI,2))\n",
    "                    else:\n",
    "                        return \"Your BMI is : %s and you have to takecare of your health\"%(round(BMI,2))\n",
    "                                      \n",
    "                else:\n",
    "                    return \"Please give some valid data\"\n",
    "            else:\n",
    "                return 'You are not eligible'\n",
    "            \n",
    "        except Exception as e:\n",
    "            return e\n",
    "        \n",
    "    def __str__(self):\n",
    "        return \"This is the BMI class, It will give you a brief about your Body Mass Index, BMI should be in range of 18-24\""
   ]
  },
  {
   "cell_type": "code",
   "execution_count": 5,
   "metadata": {},
   "outputs": [
    {
     "data": {
      "text/plain": [
       "'Your BMI is : 24.21 and your are in range of Healthy People'"
      ]
     },
     "execution_count": 5,
     "metadata": {},
     "output_type": "execute_result"
    }
   ],
   "source": [
    "Person1 = Person(78.3,5.9,23)\n",
    "Person1.BMI_Calc()"
   ]
  },
  {
   "cell_type": "code",
   "execution_count": 6,
   "metadata": {},
   "outputs": [
    {
     "name": "stdout",
     "output_type": "stream",
     "text": [
      "This is the BMI class, It will give you a brief about your Body Mass Index, BMI should be in range of 18-24\n"
     ]
    }
   ],
   "source": [
    "print(Person1)"
   ]
  },
  {
   "cell_type": "markdown",
   "metadata": {},
   "source": [
    "### 4.\tWrite a Python Program to calculate the natural logarithm of any number?\n",
    "* loge = ln\n",
    "* value of e = 2.7183\n",
    "* 12 times of sqaure of the values of e is : 1.00024417207\n",
    "* 1.00024417207 - 1 = 00024417207"
   ]
  },
  {
   "cell_type": "code",
   "execution_count": 7,
   "metadata": {},
   "outputs": [],
   "source": [
    "class CalulateLog:\n",
    "    \"\"\"\n",
    "    This is Calulator for calculating the logrithm of a number, It takes one argument:\n",
    "    x = integer value\n",
    "    \"\"\"\n",
    "    def __init__(self, x):\n",
    "        self.lnx = x\n",
    "    \n",
    "    def natural_log(self):\n",
    "        e = 1.00024417207 - 1   # final value of e after 12 times of square root and substracted by 1\n",
    "        \n",
    "        sqrt = self.lnx ** 0.5  # finding the first square root of self.x\n",
    "        \n",
    "        for num in range(11):   # with the help of this loop finding remmaining 11 square root of self.x\n",
    "            sqrt = sqrt ** 0.5\n",
    "            \n",
    "        final = sqrt - 1        # final value of self.x after 12 times of square root and substracted by 1\n",
    "        \n",
    "        return round(final/e, 5) # divide the final value of self.x by final value of e.\n",
    "            \n",
    "    def __str__(self):\n",
    "        return 'This Calss is for calculating the Natural Logrithm of any Number'"
   ]
  },
  {
   "cell_type": "code",
   "execution_count": 8,
   "metadata": {},
   "outputs": [],
   "source": [
    "ln = CalulateLog(1.0375)"
   ]
  },
  {
   "cell_type": "code",
   "execution_count": 9,
   "metadata": {},
   "outputs": [
    {
     "data": {
      "text/plain": [
       "0.03681"
      ]
     },
     "execution_count": 9,
     "metadata": {},
     "output_type": "execute_result"
    }
   ],
   "source": [
    "ln.natural_log()"
   ]
  },
  {
   "cell_type": "code",
   "execution_count": 10,
   "metadata": {},
   "outputs": [
    {
     "name": "stdout",
     "output_type": "stream",
     "text": [
      "This Calss is for calculating the Natural Logrithm of any Number\n"
     ]
    }
   ],
   "source": [
    "print(ln)"
   ]
  },
  {
   "cell_type": "markdown",
   "metadata": {},
   "source": [
    "### 5.\tWrite a Python Program for cube sum of first n natural numbers?"
   ]
  },
  {
   "cell_type": "code",
   "execution_count": 11,
   "metadata": {},
   "outputs": [],
   "source": [
    "class CubeSum:\n",
    "    \"\"\"\n",
    "    This class is for getting the cube sum of first n natural numbers and It takes only one agrument:\n",
    "    number = integer value\n",
    "    \"\"\"\n",
    "    def __init__(self, number):\n",
    "        self.number = number\n",
    "        \n",
    "    def cubefinder(self):\n",
    "        total = 0\n",
    "        for i in range(1, self.number+1):\n",
    "            total = total + i**3\n",
    "        return total\n",
    "    \n",
    "    def __str__(self):\n",
    "        return 'This class is for getting the cube sum of first n natural numbers'"
   ]
  },
  {
   "cell_type": "code",
   "execution_count": 12,
   "metadata": {},
   "outputs": [
    {
     "data": {
      "text/plain": [
       "225"
      ]
     },
     "execution_count": 12,
     "metadata": {},
     "output_type": "execute_result"
    }
   ],
   "source": [
    "cube = CubeSum(5)\n",
    "cube.cubefinder()"
   ]
  },
  {
   "cell_type": "code",
   "execution_count": 13,
   "metadata": {},
   "outputs": [
    {
     "name": "stdout",
     "output_type": "stream",
     "text": [
      "This class is for getting the cube sum of first n natural numbers\n"
     ]
    }
   ],
   "source": [
    "print(cube)"
   ]
  },
  {
   "cell_type": "code",
   "execution_count": null,
   "metadata": {},
   "outputs": [],
   "source": []
  }
 ],
 "metadata": {
  "kernelspec": {
   "display_name": "Python 3",
   "language": "python",
   "name": "python3"
  },
  "language_info": {
   "codemirror_mode": {
    "name": "ipython",
    "version": 3
   },
   "file_extension": ".py",
   "mimetype": "text/x-python",
   "name": "python",
   "nbconvert_exporter": "python",
   "pygments_lexer": "ipython3",
   "version": "3.7.6"
  }
 },
 "nbformat": 4,
 "nbformat_minor": 4
}
