{
 "cells": [
  {
   "cell_type": "markdown",
   "metadata": {},
   "source": [
    "## 1.\tWrite a Python program to find words which are greater than given length k?"
   ]
  },
  {
   "cell_type": "code",
   "execution_count": 1,
   "metadata": {},
   "outputs": [],
   "source": [
    "class Words:\n",
    "    \"\"\"\n",
    "    This class will take strings.\n",
    "    \"\"\"\n",
    "    def __init__(self, word):\n",
    "        self.words = word\n",
    "        \n",
    "    def word_finder(self, num = 5):\n",
    "        \"\"\"\n",
    "        objective : Method for finding a words which are greater than given length k.\n",
    "        \n",
    "        This function gives you a list of desired length of string, It will take one argument num.\n",
    "        num : must be a integer type data\n",
    "        \n",
    "        by deafult the value of num = 5.\n",
    "        If you don't prived data it will print the string whose lenth greater than 5.\n",
    "        \"\"\"\n",
    "        word_finder = []\n",
    "        try: \n",
    "            for i in self.words:\n",
    "                if len(i) > num:\n",
    "                    word_finder.append(i)\n",
    "\n",
    "            return f\"Here is your List of String greater than length of {num} :{word_finder}\"\n",
    "        \n",
    "        except Exception as e:\n",
    "            return f\"Please provide a list of strings:{e}\"\n",
    "            \n",
    "            \n",
    "        \n",
    "    def __str__(self):\n",
    "        return 'This class is for strings operations'\n",
    "        \n",
    "        "
   ]
  },
  {
   "cell_type": "code",
   "execution_count": 2,
   "metadata": {},
   "outputs": [],
   "source": [
    "lst_string = ['Hello', 'World', 'MachineLearning', 'DataScience', 'DeepLearning', 'ComputerVision', 'Learn']\n",
    "letters = Words(lst_string)"
   ]
  },
  {
   "cell_type": "code",
   "execution_count": 3,
   "metadata": {},
   "outputs": [
    {
     "data": {
      "text/plain": [
       "\"Here is your List of String greater than length of 5 :['MachineLearning', 'DataScience', 'DeepLearning', 'ComputerVision']\""
      ]
     },
     "execution_count": 3,
     "metadata": {},
     "output_type": "execute_result"
    }
   ],
   "source": [
    "letters.word_finder()"
   ]
  },
  {
   "cell_type": "code",
   "execution_count": 4,
   "metadata": {},
   "outputs": [
    {
     "data": {
      "text/plain": [
       "\"Here is your List of String greater than length of 2 :['Hello', 'World', 'MachineLearning', 'DataScience', 'DeepLearning', 'ComputerVision', 'Learn']\""
      ]
     },
     "execution_count": 4,
     "metadata": {},
     "output_type": "execute_result"
    }
   ],
   "source": [
    "letters.word_finder(2)"
   ]
  },
  {
   "cell_type": "markdown",
   "metadata": {},
   "source": [
    "## 2.\tWrite a Python program for removing i-th character from a string?"
   ]
  },
  {
   "cell_type": "code",
   "execution_count": 5,
   "metadata": {},
   "outputs": [],
   "source": [
    "class Words:\n",
    "    \"\"\"\n",
    "    This class will take strings.\n",
    "    \"\"\"\n",
    "    def __init__(self, word):\n",
    "        self.words = word\n",
    "\n",
    "        \n",
    "    def removing_ith_char(self, ichar):\n",
    "        \"\"\"\n",
    "        Objective : Method for removing i-th character from a string.\n",
    "        \n",
    "        It will take one argument ichar.\n",
    "        ichar : must be a integer type data.\n",
    "        \n",
    "        Result : It will povide the desired string.\n",
    "        \n",
    "        \"\"\"\n",
    "        removing_ith_char = ''\n",
    "        try:\n",
    "            for i in range(len(self.words)):\n",
    "                if i == ichar:\n",
    "                    removing_ith_char = removing_ith_char + self.words.replace(self.words[i],'')\n",
    "                        \n",
    "            return f'After removing the {ichar} character form string :{removing_ith_char}'\n",
    "                      \n",
    "        except Exception as e:\n",
    "            return f\"Please provide string:{e}\"\n",
    "            \n",
    "        \n",
    "    def __str__(self):\n",
    "        return 'This class is for strings operations'  "
   ]
  },
  {
   "cell_type": "code",
   "execution_count": 6,
   "metadata": {},
   "outputs": [],
   "source": [
    "letters1 = Words('DataScience')"
   ]
  },
  {
   "cell_type": "code",
   "execution_count": 7,
   "metadata": {},
   "outputs": [
    {
     "data": {
      "text/plain": [
       "'After removing the 2 character form string :DaaScience'"
      ]
     },
     "execution_count": 7,
     "metadata": {},
     "output_type": "execute_result"
    }
   ],
   "source": [
    "letters1.removing_ith_char(2)"
   ]
  },
  {
   "cell_type": "markdown",
   "metadata": {},
   "source": [
    "## 3.\tWrite a Python program to split and join a string?"
   ]
  },
  {
   "cell_type": "code",
   "execution_count": 8,
   "metadata": {},
   "outputs": [],
   "source": [
    "class Words:\n",
    "    \"\"\"\n",
    "    This class will take strings.\n",
    "    \"\"\"\n",
    "    def __init__(self, word):\n",
    "        self.words = word\n",
    "        \n",
    "    def split_join_string(self):\n",
    "        \"\"\"\n",
    "        Objective : Method for spliting and joining a string.\n",
    "        \n",
    "        Result : It will povide the splited and joint string.\n",
    "        \n",
    "        \"\"\"\n",
    "        split_string = []\n",
    "        join_string = ''\n",
    "        try:\n",
    "            for i in self.words:\n",
    "                split_string.append(i)\n",
    "                \n",
    "            for i in split_string:\n",
    "                join_string = join_string + i\n",
    "                \n",
    "            return f\"Split the string: {split_string} and join the string: {join_string}\"\n",
    "        except Exception as e:\n",
    "            return f\"Please provide string:{e}\"\n",
    "                    \n",
    "        \n",
    "            \n",
    "        \n",
    "    def __str__(self):\n",
    "        return 'This class is for strings operations'  "
   ]
  },
  {
   "cell_type": "code",
   "execution_count": 9,
   "metadata": {},
   "outputs": [],
   "source": [
    "letter3 = Words('Data')"
   ]
  },
  {
   "cell_type": "code",
   "execution_count": 10,
   "metadata": {},
   "outputs": [
    {
     "data": {
      "text/plain": [
       "\"Split the string: ['D', 'a', 't', 'a'] and join the string: Data\""
      ]
     },
     "execution_count": 10,
     "metadata": {},
     "output_type": "execute_result"
    }
   ],
   "source": [
    "letter3.split_join_string()"
   ]
  },
  {
   "cell_type": "markdown",
   "metadata": {},
   "source": [
    "## 4.\tWrite a Python to check if a given string is binary string or not?"
   ]
  },
  {
   "cell_type": "code",
   "execution_count": 11,
   "metadata": {},
   "outputs": [],
   "source": [
    "class Words:\n",
    "    \"\"\"\n",
    "    This class will take strings.\n",
    "    \"\"\"\n",
    "    def __init__(self, word):\n",
    "        self.words = word\n",
    "        \n",
    "    def binary_finder(self):\n",
    "        \"\"\"\n",
    "        Objective : Method for finding a string is binary or not.\n",
    "        \n",
    "        Result : It will povide the Boolean output.\n",
    "        \n",
    "        \"\"\"\n",
    "        new_string = self.words\n",
    "        try:\n",
    "            for i in range(len(new_string)):\n",
    "                if new_string[i] == '0' or new_string[i] == '1':\n",
    "                    return True\n",
    "                else:\n",
    "                    return False\n",
    "                \n",
    "        except Exception as e:\n",
    "            return f\"Please provide a string:{e}\"\n",
    "\n",
    "        \n",
    "    def __str__(self):\n",
    "        return 'This class is for strings operations'  "
   ]
  },
  {
   "cell_type": "code",
   "execution_count": 12,
   "metadata": {},
   "outputs": [
    {
     "data": {
      "text/plain": [
       "False"
      ]
     },
     "execution_count": 12,
     "metadata": {},
     "output_type": "execute_result"
    }
   ],
   "source": [
    "letter4 = Words('Data')\n",
    "letter4.binary_finder()"
   ]
  },
  {
   "cell_type": "code",
   "execution_count": 13,
   "metadata": {},
   "outputs": [
    {
     "data": {
      "text/plain": [
       "True"
      ]
     },
     "execution_count": 13,
     "metadata": {},
     "output_type": "execute_result"
    }
   ],
   "source": [
    "letter4 = Words('1010101')\n",
    "letter4.binary_finder()"
   ]
  },
  {
   "cell_type": "markdown",
   "metadata": {},
   "source": [
    "## 5.\tWrite a Python program to find uncommon words from two Strings?"
   ]
  },
  {
   "cell_type": "code",
   "execution_count": 14,
   "metadata": {},
   "outputs": [],
   "source": [
    "class Words:\n",
    "    \"\"\"\n",
    "    This class will take strings.\n",
    "    \"\"\"\n",
    "    def __init__(self, word1, word2):\n",
    "        self.words1 = word1\n",
    "        self.words2 = word2\n",
    "        \n",
    "    def finding_uncommon(self):\n",
    "        \"\"\"\n",
    "        Objective : Method for finding a uncommon letters from string.\n",
    "        \n",
    "        Result : It will povide the string of uncommon letters output.\n",
    "        \n",
    "        \"\"\"\n",
    "        uncommon = ''\n",
    "        try:\n",
    "            if len(self.words1) == len(self.words2):\n",
    "                for i in range(len(self.words1)):\n",
    "                    if self.words1[i] != self.words2[i]:\n",
    "                        uncommon = uncommon + self.words1[i] + self.words2[i]\n",
    "                    \n",
    "\n",
    "            else:\n",
    "                return 'Please provide same size of string'\n",
    "                        \n",
    "            return f\"Uncommon letters from String1 and String2: {uncommon}\"\n",
    "        \n",
    "        except Exception as e:\n",
    "            return f\"Please provide a string:{e}\"\n",
    "        \n",
    "\n",
    "        \n",
    "    def __str__(self):\n",
    "        return 'This class is for strings operations'  "
   ]
  },
  {
   "cell_type": "code",
   "execution_count": 15,
   "metadata": {},
   "outputs": [],
   "source": [
    "letters5 = Words('ML','DL')"
   ]
  },
  {
   "cell_type": "code",
   "execution_count": 16,
   "metadata": {},
   "outputs": [
    {
     "data": {
      "text/plain": [
       "'Uncommon letters from String1 and String2: MD'"
      ]
     },
     "execution_count": 16,
     "metadata": {},
     "output_type": "execute_result"
    }
   ],
   "source": [
    "letters5.finding_uncommon()"
   ]
  },
  {
   "cell_type": "markdown",
   "metadata": {},
   "source": [
    "## 6.\tWrite a Python to find all duplicate characters in string?"
   ]
  },
  {
   "cell_type": "code",
   "execution_count": 17,
   "metadata": {},
   "outputs": [],
   "source": [
    "class Words:\n",
    "    \"\"\"\n",
    "    This class will take strings.\n",
    "    \"\"\"\n",
    "    def __init__(self, word1, word2):\n",
    "        self.words1 = word1\n",
    "        self.words2 = word2\n",
    "        \n",
    "    def duplicate_char(self):\n",
    "        \"\"\"\n",
    "        Objective : Method for finding a Duplicate letters from string.\n",
    "        \n",
    "        Result : It will povide the string of Duplicate letters output.\n",
    "        \n",
    "        \"\"\"\n",
    "        duplicate_char = ''\n",
    "        try:\n",
    "            if len(self.words1) == len(self.words2):\n",
    "                for i in range(len(self.words1)):\n",
    "                    if self.words1[i] == self.words2[i]:\n",
    "                        duplicate_char = duplicate_char + self.words1[i]\n",
    "                    \n",
    "\n",
    "            else:\n",
    "                return 'Please provide same size of string'\n",
    "                        \n",
    "            return f\"Duplicate letters from String1 and String2: {duplicate_char}\"\n",
    "        \n",
    "        except Exception as e:\n",
    "            return f\"Please provide a string:{e}\"\n",
    "        \n",
    "\n",
    "        \n",
    "    def __str__(self):\n",
    "        return 'This class is for strings operations'  "
   ]
  },
  {
   "cell_type": "code",
   "execution_count": 18,
   "metadata": {},
   "outputs": [],
   "source": [
    "letters6 = Words('ML','DL')"
   ]
  },
  {
   "cell_type": "code",
   "execution_count": 19,
   "metadata": {},
   "outputs": [
    {
     "data": {
      "text/plain": [
       "'Duplicate letters from String1 and String2: L'"
      ]
     },
     "execution_count": 19,
     "metadata": {},
     "output_type": "execute_result"
    }
   ],
   "source": [
    "letters6.duplicate_char()"
   ]
  },
  {
   "cell_type": "markdown",
   "metadata": {},
   "source": [
    "## 7.\tWrite a Python Program to check if a string contains any special character?"
   ]
  },
  {
   "cell_type": "code",
   "execution_count": 20,
   "metadata": {},
   "outputs": [],
   "source": [
    "class Words:\n",
    "    \"\"\"\n",
    "    This class will take strings.\n",
    "    \"\"\"\n",
    "    def __init__(self, word):\n",
    "        self.words = word\n",
    "    \n",
    "    def find_special_char(self):\n",
    "        \"\"\"\n",
    "        Objective : Method for finding a Special Character in string.\n",
    "        \n",
    "        Result : It will give the Statment where is the string is having a Special character or not.\n",
    "        \n",
    "        \"\"\"\n",
    "        special_char = ['@','_','!','#','$','%','^','&','*']\n",
    "                                                            \n",
    "        try:\n",
    "            for i in special_char:\n",
    "                if i in self.words:\n",
    "                    return f'There is Special Character in :{self.words}'\n",
    "                else:\n",
    "                    return f\"There is no Special Character in :{self.words}\"\n",
    "                \n",
    "        except Exception as e:\n",
    "            return f\"Please provide a string:{e}\"                                                       \n",
    "                            \n",
    "        \n",
    "    def __str__(self):\n",
    "        return 'This class is for strings operations'  "
   ]
  },
  {
   "cell_type": "code",
   "execution_count": 21,
   "metadata": {},
   "outputs": [],
   "source": [
    "letters7 = Words('MachineLe@rning')"
   ]
  },
  {
   "cell_type": "code",
   "execution_count": 22,
   "metadata": {},
   "outputs": [
    {
     "data": {
      "text/plain": [
       "'There is Special Character in :MachineLe@rning'"
      ]
     },
     "execution_count": 22,
     "metadata": {},
     "output_type": "execute_result"
    }
   ],
   "source": [
    "letters7.find_special_char()"
   ]
  },
  {
   "cell_type": "code",
   "execution_count": 23,
   "metadata": {},
   "outputs": [],
   "source": [
    "letters8 = Words('MachineLearning')"
   ]
  },
  {
   "cell_type": "code",
   "execution_count": 24,
   "metadata": {},
   "outputs": [
    {
     "data": {
      "text/plain": [
       "'There is no Special Character in :MachineLearning'"
      ]
     },
     "execution_count": 24,
     "metadata": {},
     "output_type": "execute_result"
    }
   ],
   "source": [
    "letters8.find_special_char()"
   ]
  },
  {
   "cell_type": "code",
   "execution_count": null,
   "metadata": {},
   "outputs": [],
   "source": []
  }
 ],
 "metadata": {
  "kernelspec": {
   "display_name": "Python 3",
   "language": "python",
   "name": "python3"
  },
  "language_info": {
   "codemirror_mode": {
    "name": "ipython",
    "version": 3
   },
   "file_extension": ".py",
   "mimetype": "text/x-python",
   "name": "python",
   "nbconvert_exporter": "python",
   "pygments_lexer": "ipython3",
   "version": "3.7.6"
  }
 },
 "nbformat": 4,
 "nbformat_minor": 4
}
