{
 "cells": [
  {
   "cell_type": "markdown",
   "metadata": {},
   "source": [
    "## 1.Create a function that takes a string and returns a string in which each character is repeated once.\n",
    "**Examples:**  \n",
    "`double_char(\"String\") ➞ \"SSttrriinngg\"`  \n",
    "`double_char(\"Hello World!\") ➞ \"HHeelllloo WWoorrlldd!!\"`  \n",
    "`doublechar(\"1234!_\") ➞ \"11223344!!__\"`  "
   ]
  },
  {
   "cell_type": "code",
   "execution_count": 1,
   "metadata": {},
   "outputs": [],
   "source": [
    "def double_char(sent):\n",
    "    \"\"\"\n",
    "    This fucntion is for repeat all the characters which is present in the string.\n",
    "    \n",
    "    It will take one argument -> sent\n",
    "    sent = sent as a string.\n",
    "    \n",
    "    Output: It will return the string where all the characters has been repeated once.\n",
    "    \"\"\"\n",
    "    out_sent = ''\n",
    "    for char in sent:\n",
    "        out_sent += char*2\n",
    "    return f'double_char({sent}) --> {out_sent}'"
   ]
  },
  {
   "cell_type": "code",
   "execution_count": 2,
   "metadata": {},
   "outputs": [
    {
     "name": "stdout",
     "output_type": "stream",
     "text": [
      "double_char(String) --> SSttrriinngg\n",
      "double_char(Hello World!) --> HHeelllloo  WWoorrlldd!!\n",
      "double_char(1234!_) --> 11223344!!__\n"
     ]
    }
   ],
   "source": [
    "print(double_char(\"String\"))\n",
    "print(double_char(\"Hello World!\"))\n",
    "print(double_char('1234!_'))"
   ]
  },
  {
   "cell_type": "markdown",
   "metadata": {},
   "source": [
    "## 2.Create a function that reverses a boolean value and returns the string \"boolean expected\" if another variable type is given.\n",
    "**Examples:**  \n",
    "`reverse(True) ➞ False`  \n",
    "`reverse(False) ➞ True`  \n",
    "`reverse(0) ➞ \"boolean expected\"`  \n",
    "`reverse(None) ➞ \"boolean expected\"`  "
   ]
  },
  {
   "cell_type": "code",
   "execution_count": 3,
   "metadata": {},
   "outputs": [],
   "source": [
    "def reverse(boolean):\n",
    "    \"\"\"\n",
    "    This fucntion is for checking and reversing the boolean input.\n",
    "    \n",
    "    It will take one argument -> boolean\n",
    "    boolean = boolean as a bool value.\n",
    "    \n",
    "    Output: It will return the reverse of a input if the given input is in boolean form otherwise it will not accept anything.\n",
    "    \"\"\"\n",
    "    if type(boolean) == bool:\n",
    "        return f'reverse({boolean}) --> {not boolean}'\n",
    "    else:\n",
    "        return f'reverse({boolean}) --> \"boolean expected\"'"
   ]
  },
  {
   "cell_type": "code",
   "execution_count": 4,
   "metadata": {},
   "outputs": [
    {
     "name": "stdout",
     "output_type": "stream",
     "text": [
      "reverse(True) --> False\n",
      "reverse(False) --> True\n",
      "reverse(0) --> \"boolean expected\"\n",
      "reverse(None) --> \"boolean expected\"\n"
     ]
    }
   ],
   "source": [
    "print(reverse(True))\n",
    "print(reverse(False))\n",
    "print(reverse(0))\n",
    "print(reverse(None))"
   ]
  },
  {
   "cell_type": "markdown",
   "metadata": {},
   "source": [
    "## 3. Create a function that returns the thickness (in meters) of a piece of paper after folding it n number of times. The paper starts off with a thickness of 0.5mm.\n",
    "**Examples:**  \n",
    "`num_layers(1) ➞ \"0.001m\"\n",
    "    # Paper folded once is 1mm (equal to 0.001m)\n",
    "num_layers(4) ➞ \"0.008m\"\n",
    "    # Paper folded 4 times is 8mm (equal to 0.008m)\n",
    "num_layers(21) ➞ \"1048.576m\"\n",
    "    # Paper folded 21 times is 1048576mm (equal to 1048.576m)`"
   ]
  },
  {
   "cell_type": "code",
   "execution_count": 5,
   "metadata": {},
   "outputs": [],
   "source": [
    "def num_layers(num):\n",
    "    \"\"\"\n",
    "    This fucntion is for getting the thickness of a paper after folding it number of times.\n",
    "    \n",
    "    It will take one argument -> num\n",
    "    num = num as an interger value.\n",
    "    \n",
    "    Output: It will return the thickness of a paper after folding it number of times.\n",
    "    \"\"\"\n",
    "    \n",
    "    out_num = 0.5\n",
    "    for i in range(num):\n",
    "        out_num *= 2\n",
    "    return f'num_layer({num}) --> {out_num/1000}m'"
   ]
  },
  {
   "cell_type": "code",
   "execution_count": 6,
   "metadata": {},
   "outputs": [
    {
     "name": "stdout",
     "output_type": "stream",
     "text": [
      "num_layer(1) --> 0.001m\n",
      "num_layer(4) --> 0.008m\n",
      "num_layer(21) --> 1048.576m\n"
     ]
    }
   ],
   "source": [
    "print(num_layers(1))\n",
    "print(num_layers(4))\n",
    "print(num_layers(21))"
   ]
  },
  {
   "cell_type": "markdown",
   "metadata": {},
   "source": [
    "## 4.Create a function that takes a single string as argument and returns an ordered list containing the indices of all capital letters in the string.\n",
    "**Examples:**  \n",
    "`index_of_caps(\"eDaBiT\") ➞ [1, 3, 5]`  \n",
    "`index_of_caps(\"eQuINoX\") ➞ [1, 3, 4, 6]`  \n",
    "`index_of_caps(\"determine\") ➞ []`  \n",
    "`index_of_caps(\"STRIKE\") ➞ [0, 1, 2, 3, 4, 5]`  \n",
    "`index_of_caps(\"sUn\") ➞ [1]`  "
   ]
  },
  {
   "cell_type": "code",
   "execution_count": 7,
   "metadata": {},
   "outputs": [],
   "source": [
    "def index_of_caps(sent):\n",
    "    \"\"\"\n",
    "    This fucntion is for getting the index value of a capital letter in a string.\n",
    "    \n",
    "    It will take one argument -> sent\n",
    "    sent = sent as an interger value.\n",
    "    \n",
    "    Output: It will return the list of a index value of capial letters present in a string.\n",
    "    \"\"\"\n",
    "    out_sent = []\n",
    "    for i in sent:\n",
    "        if i.isupper():\n",
    "            out_sent.append(sent.index(i))\n",
    "    return f'index_of_caps({sent}) --> {out_sent}'"
   ]
  },
  {
   "cell_type": "code",
   "execution_count": 8,
   "metadata": {},
   "outputs": [
    {
     "name": "stdout",
     "output_type": "stream",
     "text": [
      "index_of_caps(eDaBiT) --> [1, 3, 5]\n",
      "index_of_caps(determine) --> []\n",
      "index_of_caps(STRIKE) --> [0, 1, 2, 3, 4, 5]\n",
      "index_of_caps(sUn) --> [1]\n"
     ]
    }
   ],
   "source": [
    "print(index_of_caps('eDaBiT'))\n",
    "print(index_of_caps('determine'))\n",
    "print(index_of_caps('STRIKE'))\n",
    "print(index_of_caps('sUn'))"
   ]
  },
  {
   "cell_type": "markdown",
   "metadata": {},
   "source": [
    "## 5.Using list comprehensions, create a function that finds all even numbers from 1 to the given number.\n",
    "**Examples:**  \n",
    "`find_even_nums(8) ➞ [2, 4, 6, 8]`  \n",
    "`find_even_nums(4) ➞ [2, 4]`   \n",
    "`find_even_nums(2) ➞ [2]`  "
   ]
  },
  {
   "cell_type": "code",
   "execution_count": 9,
   "metadata": {},
   "outputs": [],
   "source": [
    "def find_even_nums(num):\n",
    "    \"\"\"\n",
    "    This fucntion is for finding all the even numbers and make a list of them with help of list compreshension.\n",
    "    \n",
    "    It will take one argument -> num\n",
    "    num = num as an interger value.\n",
    "    \n",
    "    Output: It will return the list of a even numbers at a specific position.\n",
    "    \"\"\"\n",
    "    output = [i for i in range(1,num+1) if i%2 == 0]\n",
    "    return f'find_even_nums({num}) --> {output}'"
   ]
  },
  {
   "cell_type": "code",
   "execution_count": 10,
   "metadata": {},
   "outputs": [
    {
     "name": "stdout",
     "output_type": "stream",
     "text": [
      "find_even_nums(8) --> [2, 4, 6, 8]\n",
      "find_even_nums(4) --> [2, 4]\n",
      "find_even_nums(2) --> [2]\n"
     ]
    }
   ],
   "source": [
    "print(find_even_nums(8))\n",
    "print(find_even_nums(4))\n",
    "print(find_even_nums(2))"
   ]
  },
  {
   "cell_type": "code",
   "execution_count": null,
   "metadata": {},
   "outputs": [],
   "source": []
  }
 ],
 "metadata": {
  "kernelspec": {
   "display_name": "Python 3",
   "language": "python",
   "name": "python3"
  },
  "language_info": {
   "codemirror_mode": {
    "name": "ipython",
    "version": 3
   },
   "file_extension": ".py",
   "mimetype": "text/x-python",
   "name": "python",
   "nbconvert_exporter": "python",
   "pygments_lexer": "ipython3",
   "version": "3.7.6"
  }
 },
 "nbformat": 4,
 "nbformat_minor": 4
}
