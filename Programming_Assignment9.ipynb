{
 "cells": [
  {
   "cell_type": "markdown",
   "metadata": {},
   "source": [
    "## 1.\tWrite a Python program to check if the given number is a Disarium Number?\n",
    "### A number is said to be the Disarium number when the sum of its digit raised to the power of their respective positions is equal to the number itself."
   ]
  },
  {
   "cell_type": "code",
   "execution_count": 1,
   "metadata": {},
   "outputs": [],
   "source": [
    "# Disarium Number\n",
    "# 175 = 1**1 + 7**2 + 5**3 = 1 + 49 + 125 = 175.\n",
    "\n",
    "class Number_Theory:\n",
    "    def __init__(self, value):\n",
    "        self.value = value\n",
    "    \n",
    "    def check_Disarium_Number(self):\n",
    "        temp = self.value\n",
    "        disarium = 0\n",
    "        while temp!=0:\n",
    "            disarium = disarium + (temp%10) ** len(str(temp))\n",
    "            # team%10 will give the last digit\n",
    "            # len(str(temp)) will give the length of temp\n",
    "            temp = temp//10\n",
    "        \n",
    "        if disarium == self.value:\n",
    "            return f\"{self.value} is a Disarium number\"\n",
    "        else:\n",
    "            return f\"{self.value} is not a Disarium number\"\n",
    "        \n",
    "    \n",
    "    def __str__(self):\n",
    "        return 'This Class is for Number Theory which will give Disarium, Pronic, Happy Number'\n",
    "        "
   ]
  },
  {
   "cell_type": "code",
   "execution_count": 2,
   "metadata": {},
   "outputs": [],
   "source": [
    "number = Number_Theory(175)\n",
    "number1 = Number_Theory(1)\n",
    "number2 = Number_Theory(21)"
   ]
  },
  {
   "cell_type": "code",
   "execution_count": 3,
   "metadata": {},
   "outputs": [
    {
     "name": "stdout",
     "output_type": "stream",
     "text": [
      "175 is a Disarium number\n",
      "1 is a Disarium number\n",
      "21 is not a Disarium number\n"
     ]
    }
   ],
   "source": [
    "print(number.check_Disarium_Number())\n",
    "print(number1.check_Disarium_Number())\n",
    "print(number2.check_Disarium_Number())"
   ]
  },
  {
   "cell_type": "markdown",
   "metadata": {},
   "source": [
    "## 2. Write a Python program to print all disarium numbers between 1 to 100?"
   ]
  },
  {
   "cell_type": "code",
   "execution_count": 4,
   "metadata": {},
   "outputs": [],
   "source": [
    "class Number_Theory:\n",
    "    def __init__(self, value):\n",
    "        self.value = value\n",
    "    \n",
    "    def check_Disarium_Number(self):\n",
    "        temp = self.value\n",
    "        disarium = 0\n",
    "        while temp!=0:\n",
    "            disarium = disarium + (temp%10) ** len(str(temp))\n",
    "            # team%10 will give the last digit\n",
    "            # len(str(temp)) will give the length of temp\n",
    "            temp = temp//10\n",
    "        \n",
    "        if disarium == self.value:\n",
    "            return f\"{self.value} is a Disarium number\"\n",
    "        else:\n",
    "            return f\"{self.value} is not a Disarium number\"\n",
    "        \n",
    "        \n",
    "    def print_all_disarium_number(self):\n",
    "        for num in range(1, 100):\n",
    "            temp = num\n",
    "            disarium = 0\n",
    "            while temp!=0:\n",
    "                disarium = disarium + (temp%10) ** len(str(temp))\n",
    "                temp = temp//10\n",
    "                if disarium == num:\n",
    "                    print(f\"{num} is a Disarium number\")\n",
    "                    \n",
    "    \n",
    "    def __str__(self):\n",
    "        return 'This Class is for Number Theory which will give Disarium, Pronic, Happy Number'\n",
    "            \n",
    "        "
   ]
  },
  {
   "cell_type": "code",
   "execution_count": 5,
   "metadata": {},
   "outputs": [],
   "source": [
    "num = Number_Theory(21)"
   ]
  },
  {
   "cell_type": "code",
   "execution_count": 6,
   "metadata": {},
   "outputs": [
    {
     "name": "stdout",
     "output_type": "stream",
     "text": [
      "1 is a Disarium number\n",
      "2 is a Disarium number\n",
      "3 is a Disarium number\n",
      "4 is a Disarium number\n",
      "5 is a Disarium number\n",
      "6 is a Disarium number\n",
      "7 is a Disarium number\n",
      "8 is a Disarium number\n",
      "9 is a Disarium number\n",
      "25 is a Disarium number\n",
      "36 is a Disarium number\n",
      "89 is a Disarium number\n"
     ]
    }
   ],
   "source": [
    "num.print_all_disarium_number()"
   ]
  },
  {
   "cell_type": "markdown",
   "metadata": {},
   "source": [
    "## 3.\tWrite a Python program to check if the given number is Happy Number?\n",
    "### happy number is a number which eventually reaches 1 when replaced by the sum of the square of each digit. For instance, 13 is a happy number because 1**1 + 3 ** 2 = 10. On the other hand, 4 is not a happy number because the sequence starting with 4 ** 2=16."
   ]
  },
  {
   "cell_type": "code",
   "execution_count": 7,
   "metadata": {},
   "outputs": [],
   "source": [
    "# Happy Number\n",
    "# 13 = 1 ** 1 + 3 ** 2 = 10 and 1 ** 1 + 0 ** 2 = 1 --> Happy Number.\n",
    "# 4 = 4 ** 2 = 16  and 1 ** 1 + 6 ** 2 = 36 --> Not a Happy Number.\n",
    "\n",
    "class Number_Theory:\n",
    "    def __init__(self, value):\n",
    "        self.value = value\n",
    "    \n",
    "    def check_Disarium_Number(self):\n",
    "        temp = self.value\n",
    "        disarium = 0\n",
    "        while temp!=0:\n",
    "            disarium = disarium + (temp%10) ** len(str(temp))\n",
    "            # team%10 will give the last digit\n",
    "            # len(str(temp)) will give the length of temp\n",
    "            temp = temp//10\n",
    "        \n",
    "        if disarium == self.value:\n",
    "            return f\"{self.value} is a Disarium number\"\n",
    "        else:\n",
    "            return f\"{self.value} is not a Disarium number\"\n",
    "        \n",
    "        \n",
    "    def print_all_disarium_number(self):\n",
    "        for num in range(1, 100):\n",
    "            temp = num\n",
    "            disarium = 0\n",
    "            while temp!=0:\n",
    "                disarium = disarium + (temp%10) ** len(str(temp))\n",
    "                temp = temp//10\n",
    "                if disarium == num:\n",
    "                    print(f\"{num} is a Disarium number\")\n",
    "                    \n",
    "                    \n",
    "    def check_Happy_Number(self):\n",
    "        def sumofnumber(n):\n",
    "            res = 0\n",
    "            rem = 0\n",
    "            while n > 0:\n",
    "                rem = n % 10\n",
    "                res = res + rem * rem\n",
    "                n = n // 10\n",
    "            return res\n",
    "            \n",
    "        happy = self.value\n",
    "        while happy != 1 and happy != 4:\n",
    "            happy = sumofnumber(happy)\n",
    "        if happy == 1:\n",
    "            return f\"{self.value} is a Happy Number\"\n",
    "        else:\n",
    "            return f\"{self.value} is not a Happy Number\"\n",
    "        \n",
    "        \n",
    "        \n",
    "    \n",
    "    def __str__(self):\n",
    "        return 'This Class is for Number Theory which will give Disarium, Pronic, Happy Number'\n"
   ]
  },
  {
   "cell_type": "code",
   "execution_count": 8,
   "metadata": {},
   "outputs": [],
   "source": [
    "number = Number_Theory(7)\n",
    "number1 = Number_Theory(4)\n",
    "number2 = Number_Theory(19)"
   ]
  },
  {
   "cell_type": "code",
   "execution_count": 9,
   "metadata": {},
   "outputs": [
    {
     "name": "stdout",
     "output_type": "stream",
     "text": [
      "7 is a Happy Number\n",
      "4 is not a Happy Number\n",
      "19 is a Happy Number\n"
     ]
    }
   ],
   "source": [
    "print(number.check_Happy_Number())\n",
    "print(number1.check_Happy_Number())\n",
    "print(number2.check_Happy_Number())"
   ]
  },
  {
   "cell_type": "markdown",
   "metadata": {},
   "source": [
    "## 4.\tWrite a Python program to print all happy numbers between 1 and 100?"
   ]
  },
  {
   "cell_type": "code",
   "execution_count": 10,
   "metadata": {},
   "outputs": [],
   "source": [
    "class Number_Theory:\n",
    "    def __init__(self, value):\n",
    "        self.value = value\n",
    "    \n",
    "    def check_Disarium_Number(self):\n",
    "        temp = self.value\n",
    "        disarium = 0\n",
    "        while temp!=0:\n",
    "            disarium = disarium + (temp%10) ** len(str(temp))\n",
    "            # team%10 will give the last digit\n",
    "            # len(str(temp)) will give the length of temp\n",
    "            temp = temp//10\n",
    "        \n",
    "        if disarium == self.value:\n",
    "            return f\"{self.value} is a Disarium number\"\n",
    "        else:\n",
    "            return f\"{self.value} is not a Disarium number\"\n",
    "        \n",
    "        \n",
    "    def print_all_disarium_number(self):\n",
    "        for num in range(1, 100):\n",
    "            temp = num\n",
    "            disarium = 0\n",
    "            while temp!=0:\n",
    "                disarium = disarium + (temp%10) ** len(str(temp))\n",
    "                temp = temp//10\n",
    "                if disarium == num:\n",
    "                    print(f\"{num} is a Disarium number\")\n",
    "                    \n",
    "                    \n",
    "    def check_Happy_Number(self):\n",
    "        def sumofnumber(n):\n",
    "            res = 0\n",
    "            rem = 0\n",
    "            while n > 0:\n",
    "                rem = n % 10\n",
    "                res = res + rem * rem\n",
    "                n = n // 10\n",
    "            return res\n",
    "            \n",
    "        happy = self.value\n",
    "        while happy != 1 and happy != 4:\n",
    "            happy = sumofnumber(happy)\n",
    "        if happy == 1:\n",
    "            return f\"{self.value} is a Happy Number\"\n",
    "        else:\n",
    "            return f\"{self.value} is not a Happy Number\"\n",
    "        \n",
    "    \n",
    "    def print_all_Happy_Number(self):\n",
    "        def sumofnumber(n):\n",
    "            res = 0\n",
    "            rem = 0\n",
    "            while n > 0:\n",
    "                rem = n % 10\n",
    "                res = res + rem * rem\n",
    "                n = n // 10\n",
    "            return res\n",
    "        for num in range(1, 100):\n",
    "            happy = num\n",
    "            while happy != 1 and happy != 4:\n",
    "                happy = sumofnumber(happy)\n",
    "            if happy == 1:\n",
    "                print(f\"{num} is a Happy Number\")\n",
    "                \n",
    "                \n",
    "    \n",
    "    def __str__(self):\n",
    "        return 'This Class is for Number Theory which will give Disarium, Pronic, Happy Number'\n",
    "        \n",
    "            \n"
   ]
  },
  {
   "cell_type": "code",
   "execution_count": 11,
   "metadata": {},
   "outputs": [],
   "source": [
    "num = Number_Theory(21)"
   ]
  },
  {
   "cell_type": "code",
   "execution_count": 12,
   "metadata": {},
   "outputs": [
    {
     "name": "stdout",
     "output_type": "stream",
     "text": [
      "1 is a Happy Number\n",
      "7 is a Happy Number\n",
      "10 is a Happy Number\n",
      "13 is a Happy Number\n",
      "19 is a Happy Number\n",
      "23 is a Happy Number\n",
      "28 is a Happy Number\n",
      "31 is a Happy Number\n",
      "32 is a Happy Number\n",
      "44 is a Happy Number\n",
      "49 is a Happy Number\n",
      "68 is a Happy Number\n",
      "70 is a Happy Number\n",
      "79 is a Happy Number\n",
      "82 is a Happy Number\n",
      "86 is a Happy Number\n",
      "91 is a Happy Number\n",
      "94 is a Happy Number\n",
      "97 is a Happy Number\n"
     ]
    }
   ],
   "source": [
    "num.print_all_Happy_Number()"
   ]
  },
  {
   "cell_type": "markdown",
   "metadata": {},
   "source": [
    "## 5.\tWrite a Python program to determine whether the given number is a Harshad Number?\n",
    "### harshad number (or Niven number) in a given number base is an integer that is divisible by the sum of its digits when written in that base. Harshad numbers in base n are also known as n-harshad (or n-Niven) numbers. "
   ]
  },
  {
   "cell_type": "code",
   "execution_count": 13,
   "metadata": {},
   "outputs": [],
   "source": [
    "# Harshad Number\n",
    "# 81 = 8 + 1 = 9\n",
    "# 81%9 == 0\n",
    "\n",
    "class Number_Theory:\n",
    "    def __init__(self, value):\n",
    "        self.value = value\n",
    "    \n",
    "    def check_Disarium_Number(self):\n",
    "        temp = self.value\n",
    "        disarium = 0\n",
    "        while temp!=0:\n",
    "            disarium = disarium + (temp%10) ** len(str(temp))\n",
    "            # team%10 will give the last digit\n",
    "            # len(str(temp)) will give the length of temp\n",
    "            temp = temp//10\n",
    "        \n",
    "        if disarium == self.value:\n",
    "            return f\"{self.value} is a Disarium number\"\n",
    "        else:\n",
    "            return f\"{self.value} is not a Disarium number\"\n",
    "        \n",
    "        \n",
    "    def print_all_disarium_number(self):\n",
    "        for num in range(1, 100):\n",
    "            temp = num\n",
    "            disarium = 0\n",
    "            while temp!=0:\n",
    "                disarium = disarium + (temp%10) ** len(str(temp))\n",
    "                temp = temp//10\n",
    "                if disarium == num:\n",
    "                    print(f\"{num} is a Disarium number\")\n",
    "                    \n",
    "                    \n",
    "    def check_Happy_Number(self):\n",
    "        def sumofnumber(n):\n",
    "            res = 0\n",
    "            rem = 0\n",
    "            while n > 0:\n",
    "                rem = n % 10\n",
    "                res = res + rem * rem\n",
    "                n = n // 10\n",
    "            return res\n",
    "            \n",
    "        happy = self.value\n",
    "        while happy != 1 and happy != 4:\n",
    "            happy = sumofnumber(happy)\n",
    "        if happy == 1:\n",
    "            return f\"{self.value} is a Happy Number\"\n",
    "        else:\n",
    "            return f\"{self.value} is not a Happy Number\"\n",
    "        \n",
    "    \n",
    "    def print_all_Happy_Number(self):\n",
    "        def sumofnumber(n):\n",
    "            res = 0\n",
    "            rem = 0\n",
    "            while n > 0:\n",
    "                rem = n % 10\n",
    "                res = res + rem * rem\n",
    "                n = n // 10\n",
    "            return res\n",
    "        for num in range(1, 100):\n",
    "            happy = num\n",
    "            while happy != 1 and happy != 4:\n",
    "                happy = sumofnumber(happy)\n",
    "            if happy == 1:\n",
    "                print(f\"{num} is a Happy Number\")\n",
    "                \n",
    "                \n",
    "    def check_Harshad_Number(self):\n",
    "        harshad = self.value\n",
    "        total = 0\n",
    "        while harshad != 0:\n",
    "            reminder = harshad % 10\n",
    "            total = total + reminder\n",
    "            harshad = harshad // 10\n",
    "            \n",
    "        if self.value % total == 0:\n",
    "            return f\"{self.value} is a Harshad Number\"\n",
    "        else:\n",
    "            return f\"{self.value} is not a Harshad Number\"\n",
    "        \n",
    "        \n",
    "        \n",
    "        \n",
    "    \n",
    "    def __str__(self):\n",
    "        return 'This Class is for Number Theory which will give Disarium, Pronic, Happy Number'\n",
    "        \n",
    "        \n",
    "            \n"
   ]
  },
  {
   "cell_type": "code",
   "execution_count": 14,
   "metadata": {},
   "outputs": [],
   "source": [
    "number = Number_Theory(81)\n",
    "number1 = Number_Theory(13)\n",
    "number2 = Number_Theory(21)"
   ]
  },
  {
   "cell_type": "code",
   "execution_count": 15,
   "metadata": {},
   "outputs": [
    {
     "name": "stdout",
     "output_type": "stream",
     "text": [
      "81 is a Harshad Number\n",
      "13 is not a Harshad Number\n",
      "21 is a Harshad Number\n"
     ]
    }
   ],
   "source": [
    "print(number.check_Harshad_Number())\n",
    "print(number1.check_Harshad_Number())\n",
    "print(number2.check_Harshad_Number())"
   ]
  },
  {
   "cell_type": "markdown",
   "metadata": {},
   "source": [
    "## 6.\tWrite a Python program to print all pronic numbers between 1 and 100?\n",
    "### A pronic number is a number which is the product of two consecutive integers, that is, a number of the form n(n + 1)."
   ]
  },
  {
   "cell_type": "code",
   "execution_count": 16,
   "metadata": {},
   "outputs": [],
   "source": [
    "# Pronic Number\n",
    "# 6 = 2 * 3 = 2(2+1)\n",
    "\n",
    "# Harshad Number\n",
    "# 81 = 8 + 1 = 9\n",
    "# 81%9 == 0\n",
    "\n",
    "class Number_Theory:\n",
    "    def __init__(self, value):\n",
    "        self.value = value\n",
    "    \n",
    "    def check_Disarium_Number(self):\n",
    "        temp = self.value\n",
    "        disarium = 0\n",
    "        while temp!=0:\n",
    "            disarium = disarium + (temp%10) ** len(str(temp))\n",
    "            # team%10 will give the last digit\n",
    "            # len(str(temp)) will give the length of temp\n",
    "            temp = temp//10\n",
    "        \n",
    "        if disarium == self.value:\n",
    "            return f\"{self.value} is a Disarium number\"\n",
    "        else:\n",
    "            return f\"{self.value} is not a Disarium number\"\n",
    "        \n",
    "        \n",
    "    def print_all_disarium_number(self):\n",
    "        for num in range(1, 100):\n",
    "            temp = num\n",
    "            disarium = 0\n",
    "            while temp!=0:\n",
    "                disarium = disarium + (temp%10) ** len(str(temp))\n",
    "                temp = temp//10\n",
    "                if disarium == num:\n",
    "                    print(f\"{num} is a Disarium number\")\n",
    "                    \n",
    "                    \n",
    "    def check_Happy_Number(self):\n",
    "        def sumofnumber(n):\n",
    "            res = 0\n",
    "            rem = 0\n",
    "            while n > 0:\n",
    "                rem = n % 10\n",
    "                res = res + rem * rem\n",
    "                n = n // 10\n",
    "            return res\n",
    "            \n",
    "        happy = self.value\n",
    "        while happy != 1 and happy != 4:\n",
    "            happy = sumofnumber(happy)\n",
    "        if happy == 1:\n",
    "            return f\"{self.value} is a Happy Number\"\n",
    "        else:\n",
    "            return f\"{self.value} is not a Happy Number\"\n",
    "        \n",
    "    \n",
    "    def print_all_Happy_Number(self):\n",
    "        def sumofnumber(n):\n",
    "            res = 0\n",
    "            rem = 0\n",
    "            while n > 0:\n",
    "                rem = n % 10\n",
    "                res = res + rem * rem\n",
    "                n = n // 10\n",
    "            return res\n",
    "        for num in range(1, 100):\n",
    "            happy = num\n",
    "            while happy != 1 and happy != 4:\n",
    "                happy = sumofnumber(happy)\n",
    "            if happy == 1:\n",
    "                print(f\"{num} is a Happy Number\")\n",
    "                \n",
    "                \n",
    "    def check_Harshad_Number(self):\n",
    "        harshad = self.value\n",
    "        total = 0\n",
    "        while harshad != 0:\n",
    "            reminder = harshad % 10\n",
    "            total = total + reminder\n",
    "            harshad = harshad // 10\n",
    "            \n",
    "        if self.value % total == 0:\n",
    "            return f\"{self.value} is a Harshad Number\"\n",
    "        else:\n",
    "            return f\"{self.value} is not a Harshad Number\"\n",
    "        \n",
    "    \n",
    "    def print_all_Pronic_Numbers(self):\n",
    "        for num in range(1,100):\n",
    "            pronic = 0\n",
    "            for i in range(num):\n",
    "                if i * (i+1) == num:\n",
    "                    pronic = 1\n",
    "                    break\n",
    "            if pronic == 1:\n",
    "                print(f\"{num} is a Pronic number\")\n",
    "                \n",
    "                \n",
    "    \n",
    "    def __str__(self):\n",
    "        return 'This Class is for Number Theory which will give Disarium, Pronic, Happy Number'\n",
    "    "
   ]
  },
  {
   "cell_type": "code",
   "execution_count": 17,
   "metadata": {},
   "outputs": [],
   "source": [
    "num = Number_Theory(21)"
   ]
  },
  {
   "cell_type": "code",
   "execution_count": 18,
   "metadata": {},
   "outputs": [
    {
     "name": "stdout",
     "output_type": "stream",
     "text": [
      "2 is a Pronic number\n",
      "6 is a Pronic number\n",
      "12 is a Pronic number\n",
      "20 is a Pronic number\n",
      "30 is a Pronic number\n",
      "42 is a Pronic number\n",
      "56 is a Pronic number\n",
      "72 is a Pronic number\n",
      "90 is a Pronic number\n"
     ]
    }
   ],
   "source": [
    "num.print_all_Pronic_Numbers()"
   ]
  },
  {
   "cell_type": "code",
   "execution_count": null,
   "metadata": {},
   "outputs": [],
   "source": []
  }
 ],
 "metadata": {
  "kernelspec": {
   "display_name": "Python 3",
   "language": "python",
   "name": "python3"
  },
  "language_info": {
   "codemirror_mode": {
    "name": "ipython",
    "version": 3
   },
   "file_extension": ".py",
   "mimetype": "text/x-python",
   "name": "python",
   "nbconvert_exporter": "python",
   "pygments_lexer": "ipython3",
   "version": "3.7.6"
  }
 },
 "nbformat": 4,
 "nbformat_minor": 4
}
