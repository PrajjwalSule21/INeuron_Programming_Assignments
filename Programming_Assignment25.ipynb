{
 "cells": [
  {
   "cell_type": "markdown",
   "metadata": {},
   "source": [
    "## 1.Create a function that takes three integer arguments (a, b, c) and returns the amount of integers which are of equal value.\n",
    "**Examples:**  \n",
    "`equal(3, 4, 3) ➞ 2`  \n",
    "`equal(1, 1, 1) ➞ 3`  \n",
    "`equal(3, 4, 1) ➞ 0`  \n",
    "\n",
    "**Notes:**  \n",
    "Your function must return 0, 2 or 3."
   ]
  },
  {
   "cell_type": "code",
   "execution_count": 1,
   "metadata": {},
   "outputs": [],
   "source": [
    "def equal(a,b,c):\n",
    "    \"\"\"\n",
    "    This fucntion validates how many given integers are equal.\n",
    "    \n",
    "    It will takes three arguments -> a, b, c\n",
    "    a = a as a first integer.\n",
    "    b = b as a sencond integer.\n",
    "    c = c as a third integer.\n",
    "    \n",
    "    Output: It will return the value of equal integers.\n",
    "    \"\"\"\n",
    "    if a == b and b == c and c == a:\n",
    "        return f'equal({a}, {b}, {c}) --> {3}'\n",
    "    elif a == b or b == c or c == a:\n",
    "        return f'equal({a}, {b}, {c}) --> {2}'\n",
    "    else:\n",
    "        return f'equal({a}, {b}, {c}) --> {0}'"
   ]
  },
  {
   "cell_type": "code",
   "execution_count": 2,
   "metadata": {},
   "outputs": [
    {
     "name": "stdout",
     "output_type": "stream",
     "text": [
      "equal(3, 4, 3) --> 2\n",
      "equal(1, 1, 1) --> 3\n",
      "equal(3, 4, 1) --> 0\n"
     ]
    }
   ],
   "source": [
    "print(equal(3, 4, 3))\n",
    "print(equal(1, 1, 1))\n",
    "print(equal(3, 4, 1))"
   ]
  },
  {
   "cell_type": "markdown",
   "metadata": {},
   "source": [
    "## 2.Write a function that converts a dictionary into a list of keys-values tuples.\n",
    "**Examples:**  \n",
    "`dict_to_list({\n",
    "    \"D\": 1,\n",
    "    \"B\": 2,\n",
    "    \"C\": 3\n",
    "    }) ➞ [(\"B\", 2), (\"C\", 3), (\"D\", 1)]  \n",
    "dict_to_list({\n",
    "    \"likes\": 2,\n",
    "    \"dislikes\": 3,\n",
    "    \"followers\": 10\n",
    "    }) ➞ [(\"dislikes\", 3), (\"followers\", 10), (\"likes\", 2)]`\n",
    "\n",
    "**Notes:**  \n",
    "Return the elements in the list in alphabetical order."
   ]
  },
  {
   "cell_type": "code",
   "execution_count": 3,
   "metadata": {},
   "outputs": [],
   "source": [
    "def dict_to_list(dictionary):\n",
    "    \"\"\"\n",
    "    This function converts dictionary into list having key-values tuples inside it.\n",
    "    \n",
    "    It will take one argument -> dictionary\n",
    "    dictionary = dictionary as a various key-value pairs.\n",
    "    \n",
    "    Output: It will return the list having key-values tuples inside it.\n",
    "    \"\"\"\n",
    "    output_lst = []\n",
    "    for keys,values in dictionary.items():\n",
    "        output_lst.append((keys,values))\n",
    "    return f'dict_to_list({dictionary}) --> {output_lst}'"
   ]
  },
  {
   "cell_type": "code",
   "execution_count": 4,
   "metadata": {},
   "outputs": [
    {
     "name": "stdout",
     "output_type": "stream",
     "text": [
      "dict_to_list({'D': 1, 'B': 2, 'C': 3}) --> [('D', 1), ('B', 2), ('C', 3)]\n",
      "dict_to_list({'likes': 2, 'dislikes': 3, 'followers': 10}) --> [('likes', 2), ('dislikes', 3), ('followers', 10)]\n"
     ]
    }
   ],
   "source": [
    "print(dict_to_list({\"D\": 1,\"B\": 2,\"C\": 3}))\n",
    "print(dict_to_list({\"likes\": 2,\"dislikes\": 3,\"followers\": 10}))"
   ]
  },
  {
   "cell_type": "markdown",
   "metadata": {},
   "source": [
    "## 3.Write a function that creates a dictionary with each (key, value) pair being the (lower case, upper case) versions of a letter, respectively.\n",
    "**Examples:**  \n",
    "`mapping([\"p\", \"s\"]) ➞ { \"p\": \"P\", \"s\": \"S\" }`  \n",
    "`mapping([\"a\", \"b\", \"c\"]) ➞ { \"a\": \"A\", \"b\": \"B\", \"c\": \"C\" }`  \n",
    "`mapping([\"a\", \"v\", \"y\", \"z\"]) ➞ { \"a\": \"A\", \"v\": \"V\", \"y\": \"Y\", \"z\": \"Z\" }`  \n",
    "\n",
    "**Notes:**  \n",
    "All of the letters in the input list will always be lowercase."
   ]
  },
  {
   "cell_type": "code",
   "execution_count": 5,
   "metadata": {},
   "outputs": [],
   "source": [
    "def mapping(lst):\n",
    "    \"\"\"\n",
    "    This function creates a dictionary with each (key, value) pair being the (lower case, upper case) versions of a letter.\n",
    "    \n",
    "    It will take one argument -> lst\n",
    "    lst = lst as a list of various lowercase single letters.\n",
    "    \n",
    "    Output: It will return dictionary of lowercase and uppercase pairs.\n",
    "    \"\"\"\n",
    "    output_dict = {}\n",
    "    for i in lst:\n",
    "        output_dict[i] = i.upper()\n",
    "    return f'mapping({lst}) --> {output_dict}'"
   ]
  },
  {
   "cell_type": "code",
   "execution_count": 6,
   "metadata": {},
   "outputs": [
    {
     "name": "stdout",
     "output_type": "stream",
     "text": [
      "mapping(['p', 's']) --> {'p': 'P', 's': 'S'}\n",
      "mapping(['a', 'b', 'c']) --> {'a': 'A', 'b': 'B', 'c': 'C'}\n",
      "mapping(['a', 'v', 'y', 'z']) --> {'a': 'A', 'v': 'V', 'y': 'Y', 'z': 'Z'}\n"
     ]
    }
   ],
   "source": [
    "print(mapping([\"p\", \"s\"]))\n",
    "print(mapping([\"a\", \"b\", \"c\"]))\n",
    "print(mapping([\"a\", \"v\", \"y\", \"z\"]))"
   ]
  },
  {
   "cell_type": "markdown",
   "metadata": {},
   "source": [
    "## 4.Write a function, that replaces all vowels in a string with a specified vowel.\n",
    "**Examples:**  \n",
    "`vow_replace(\"apples and bananas\", \"u\") ➞ \"upplus und bununus\"`  \n",
    "`vow_replace(\"cheese casserole\", \"o\") ➞ \"chooso cossorolo\"`  \n",
    "`vow_replace(\"stuffed jalapeno poppers\", \"e\") ➞ \"steffed jelepene peppers\"`  \n",
    "\n",
    "**Notes:**   \n",
    "All words will be lowercase. Y is not considered a vowel."
   ]
  },
  {
   "cell_type": "code",
   "execution_count": 7,
   "metadata": {},
   "outputs": [],
   "source": [
    "def vow_replace(sent,vow_char):\n",
    "    \"\"\"\n",
    "    This function replace all the vowels from string with a specified vowel.\n",
    "    \n",
    "    It will takes two arguments -> sent, vow_char\n",
    "    sent = sent as a string.\n",
    "    vow_char = vow_char as a specifeid character which replaces all the vowels from string.\n",
    "    \n",
    "    Output: It will return the string where all the vowels has been replaces by sepcified character.\n",
    "    \"\"\"\n",
    "    vowels = ['a','e','i','o','u','A', 'E', 'I', 'O', 'U']\n",
    "    output_sent = ''\n",
    "    for i in sent:\n",
    "        if i in vowels:\n",
    "            output_sent += vow_char\n",
    "        else:\n",
    "            output_sent += i\n",
    "    return f'vow_replace({sent}) --> {output_sent}'"
   ]
  },
  {
   "cell_type": "code",
   "execution_count": 8,
   "metadata": {},
   "outputs": [
    {
     "name": "stdout",
     "output_type": "stream",
     "text": [
      "vow_replace(apples and bananas) --> upplus und bununus\n",
      "vow_replace(cheese casserole) --> chooso cossorolo\n",
      "vow_replace(stuffed jalapeno poppers) --> steffed jelepene peppers\n"
     ]
    }
   ],
   "source": [
    "print(vow_replace(\"apples and bananas\", \"u\"))\n",
    "print(vow_replace(\"cheese casserole\", \"o\"))\n",
    "print(vow_replace(\"stuffed jalapeno poppers\", \"e\"))"
   ]
  },
  {
   "cell_type": "markdown",
   "metadata": {},
   "source": [
    "## 5.Create a function that takes a string as input and capitalizes a letter if its ASCII code is even and returns its lower case version if its ASCII code is odd.\n",
    "**Examples:**  \n",
    "`ascii_capitalize(\"to be or not to be!\") ➞ \"To Be oR NoT To Be!\"`  \n",
    "`ascii_capitalize(\"THE LITTLE MERMAID\") ➞ \"THe LiTTLe meRmaiD\"`  \n",
    "`ascii_capitalize(\"Oh what a beautiful morning.\") ➞ \"oH wHaT a BeauTiFuL moRNiNg.\"`  "
   ]
  },
  {
   "cell_type": "code",
   "execution_count": 9,
   "metadata": {},
   "outputs": [],
   "source": [
    "def ascii_capitalize(sent):\n",
    "    \"\"\"\n",
    "    This function takes a string as input and capitalizes a letter if its ASCII code is even and returns its lower case version if its ASCII code is odd.\n",
    "    \n",
    "    It will take one argument -> sent\n",
    "    sent = sent as a string.\n",
    "    \n",
    "    Output: It will return the string of capital letters if ASCII code is even and wiseversa.\n",
    "    \"\"\"\n",
    "    output_sent = ''\n",
    "    for i in sent.lower():\n",
    "        if (ord(i)%2 == 0):\n",
    "            output_sent += i.upper()\n",
    "        else:\n",
    "            output_sent += i\n",
    "    return f'ascii_capitalize({sent}) --> {output_sent}'"
   ]
  },
  {
   "cell_type": "code",
   "execution_count": 10,
   "metadata": {},
   "outputs": [
    {
     "name": "stdout",
     "output_type": "stream",
     "text": [
      "ascii_capitalize(to be or not to be!) --> To Be oR NoT To Be!\n",
      "ascii_capitalize(THE LITTLE MERMAID) --> THe LiTTLe meRmaiD\n",
      "ascii_capitalize(Oh what a beautiful morning.) --> oH wHaT a BeauTiFuL moRNiNg.\n"
     ]
    }
   ],
   "source": [
    "print(ascii_capitalize(\"to be or not to be!\"))\n",
    "print(ascii_capitalize(\"THE LITTLE MERMAID\"))\n",
    "print(ascii_capitalize(\"Oh what a beautiful morning.\"))"
   ]
  },
  {
   "cell_type": "code",
   "execution_count": null,
   "metadata": {},
   "outputs": [],
   "source": []
  }
 ],
 "metadata": {
  "kernelspec": {
   "display_name": "Python 3",
   "language": "python",
   "name": "python3"
  },
  "language_info": {
   "codemirror_mode": {
    "name": "ipython",
    "version": 3
   },
   "file_extension": ".py",
   "mimetype": "text/x-python",
   "name": "python",
   "nbconvert_exporter": "python",
   "pygments_lexer": "ipython3",
   "version": "3.7.6"
  }
 },
 "nbformat": 4,
 "nbformat_minor": 4
}
